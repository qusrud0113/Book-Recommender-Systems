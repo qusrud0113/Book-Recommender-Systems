{
 "cells": [
  {
   "cell_type": "code",
   "execution_count": 1,
   "id": "e239a8fe-8b3d-4b6f-8a86-699a5d6d6964",
   "metadata": {
    "tags": []
   },
   "outputs": [],
   "source": [
    "import pandas as pd"
   ]
  },
  {
   "cell_type": "code",
   "execution_count": 2,
   "id": "dba0ac1a-431d-4aad-9b50-2e9b313b5e34",
   "metadata": {
    "tags": []
   },
   "outputs": [],
   "source": [
    "import numpy as np\n",
    "import random\n",
    "import os\n",
    "import gc\n",
    "from tqdm import tqdm"
   ]
  },
  {
   "cell_type": "code",
   "execution_count": 3,
   "id": "12e661d7-37a8-4f49-83f2-1336b44faa88",
   "metadata": {
    "tags": []
   },
   "outputs": [],
   "source": [
    "def seed_everything(seed):\n",
    "    random.seed(seed)\n",
    "    os.environ['PYTHONHASHSEED'] = str(seed)\n",
    "    np.random.seed(seed)\n",
    "seed_everything(113) # Seed 고정"
   ]
  },
  {
   "cell_type": "code",
   "execution_count": 4,
   "id": "dc26c53d-af3e-46bb-a1d9-67ec4394fbc0",
   "metadata": {
    "tags": []
   },
   "outputs": [],
   "source": [
    "train = pd.read_csv('train.csv')\n",
    "test = pd.read_csv( 'test.csv')\n",
    "sample_submission = pd.read_csv('sample_submission.csv', index_col = 0)"
   ]
  },
  {
   "cell_type": "code",
   "execution_count": 5,
   "id": "f2aec257-43c0-443c-ad2a-374a3294f959",
   "metadata": {
    "tags": []
   },
   "outputs": [],
   "source": [
    "def feature_engineering(df):\n",
    "    df['Location'] = [re.sub(r'[^0-9a-zA-Z:,]',  ' ',str(i)) for i in df['Location']]\n",
    "    \n",
    "    df['City'] = [(i.split(',')[0]).lstrip().lower() for i in df['Location']]\n",
    "    df['State'] = [(i.split(',')[1]).lstrip().lower() for i in df['Location']]\n",
    "    df['Country'] = [(i.split(',')[2]).lstrip().lower() for i in df['Location']]\n",
    "\n",
    "    labels = ['0-3','3-6','6-8','8-12','12-18','18-25','25-34','35-44','45-54','55-64','65-74','75+']\n",
    "    bins = [0, 3, 6, 8, 12, 18, 25, 34, 44, 54, 64, 74, 250]\n",
    "    \n",
    "    # Age 이상치 처리\n",
    "    df['Age'] = df['Age'].apply(lambda x: 3 if x<3 else x)\n",
    "    df['Age'] = df['Age'].apply(lambda x: 100 if x>100 else x)\n",
    "\n",
    "    #df.loc[(df['Age'] > 90) | (df['Age'] < 3), 'Age'] = np.nan\n",
    "    \n",
    "    # 평균값으로 대체\n",
    "    #df['Age'] = df['Age'].fillna(df['Age'].mean())\n",
    "    #df['Age'] = df['Age'].astype(np.int32)\n",
    "\n",
    "    \n",
    "    df['Age_gb'] = pd.cut(df.Age, bins, labels = labels,include_lowest = True)    \n",
    "    \n",
    "    return df"
   ]
  },
  {
   "cell_type": "code",
   "execution_count": 6,
   "id": "db71e71c-9939-41ea-887c-a9c7b7803449",
   "metadata": {
    "tags": []
   },
   "outputs": [],
   "source": [
    "import re \n",
    "def preprocessing_data(df):\n",
    "    \n",
    "    # preprocessing Location\n",
    "    # NaN, N/A, etc.. Change 'unknown'\n",
    "    # Only using Train Data\t#\n",
    "    \n",
    "    # 최빈값을 사용하기 위해 새로운 데이터 프레임 생성(pd.Series.mode를 이용하면 같은 count수의 값을 list로 묶어서 정확하지 않음)\n",
    "    new_state = train_lb.groupby(['City'])['State'].value_counts().to_frame().rename(columns = {'State' : 'count'}).reset_index()\n",
    "    new_state = new_state[(~new_state['City'].isna())&(~new_state['State'].isna())&(new_state['count']!=1)]\n",
    "    new_state = new_state.sort_values(by=['City', 'count'], ascending=[True, False]).drop_duplicates(subset='City', keep='first')\n",
    "    new_state = new_state.rename(columns = {'State' : 'N_State'}) \n",
    "    new_state = new_state.drop(columns = ['count'])\n",
    "    \n",
    "    new_country = train_lb.groupby(['State'])['Country'].value_counts().to_frame().rename(columns = {'Country' : 'count'}).reset_index()\n",
    "    new_country = new_country[(~new_country['State'].isna())&(~new_country['Country'].isna())&(new_country['count']!=1)]\n",
    "    new_country = new_country.sort_values(by=['State', 'count'], ascending=[True, False]).drop_duplicates(subset='State', keep='first')\n",
    "    new_country = new_country.rename(columns = {'Country' : 'N_Country'}) \n",
    "    new_country = new_country.drop(columns = ['count'])\n",
    "    \n",
    "    df = pd.merge(df, new_country, on = 'State', how = 'left')\n",
    "    df = pd.merge(df, new_state, on = 'City', how = 'left')\n",
    "    \n",
    "    df['Country'] = np.where((df['Country'] == '')|(df['Country'].astype(str) == 'nan'), df['N_Country'], df['Country'])\n",
    "    df['State'] = np.where((df['State'] == '')|(df['State'].astype(str) == 'nan'), df['N_State'], df['State'])\n",
    "    \n",
    "    # 채워지지 않은 값은 Unknown 처리\n",
    "    df[['Country', 'State', 'City']] = df[['Country', 'State', 'City']].fillna(value= 'Unknown')\n",
    "    df = df.drop(columns = ['N_Country', 'N_State'])\n",
    "    \n",
    "    return df\n",
    "    "
   ]
  },
  {
   "cell_type": "code",
   "execution_count": 7,
   "id": "5401923f-93e7-405f-91f2-19e2d70131f6",
   "metadata": {
    "tags": []
   },
   "outputs": [],
   "source": [
    "from sklearn.preprocessing import OrdinalEncoder\n",
    "import warnings\n",
    "warnings.filterwarnings('ignore')\n",
    "\n",
    "FEATURE = ['User-ID','Book-Title','Book-Author','Publisher', 'City','State','Country','Age_gb']#, 'Pub_gb']#, 'Language'] ', \n",
    "\n",
    "train_lb = train.__deepcopy__() \n",
    "test_lb = test.__deepcopy__()\n",
    "\n",
    "\n",
    "train_lb = feature_engineering(train_lb)\n",
    "test_lb = feature_engineering(test_lb)\n",
    "\n",
    "train_lb = preprocessing_data(train_lb)\n",
    "test_lb = preprocessing_data(test_lb)\n",
    "\n",
    "train_lb = train_lb.drop(columns = ['Book-ID', 'Location'])\n",
    "test_lb = test_lb.drop(columns = ['Book-ID', 'Location'])\n",
    "\n",
    "train_lb[FEATURE] = train_lb[FEATURE].astype(str) \n",
    "test_lb[FEATURE] = test_lb[FEATURE].astype(str)\n",
    "\n",
    "# 평점 binary 분류\n",
    "#zero_user = train[train['Book-Rating'] == 0][['User-ID', 'Book-Rating']].drop_duplicates()['User-ID']\n",
    "train_lb['Rating_gb'] = np.where(train_lb['Book-Rating'] == 0, 0, 1)\n",
    "\n",
    "for i in FEATURE:\n",
    "    # train에는 없고, test에는 있는 원소는 -2 처리\n",
    "    oe = OrdinalEncoder(handle_unknown='use_encoded_value',\n",
    "                         unknown_value=-2)\n",
    "    oe=oe.fit(train_lb[i].to_numpy().reshape(-1, 1))\n",
    "    train_lb[i] = oe.transform(train_lb[i].to_numpy().reshape(-1, 1))\n",
    "    test_lb[i] = oe.transform(test_lb[i].to_numpy().reshape(-1, 1))\n"
   ]
  },
  {
   "cell_type": "code",
   "execution_count": 8,
   "id": "50c7573e-94ee-4d9f-bdb7-a973ba2ffccb",
   "metadata": {
    "tags": []
   },
   "outputs": [],
   "source": [
    "X_train = train_lb.drop(columns = ['ID' , 'Book-Rating', 'Rating_gb'])\n",
    "x_test = test_lb.drop(columns = ['ID'])\n",
    "y_train_cf = train_lb['Rating_gb']"
   ]
  },
  {
   "cell_type": "code",
   "execution_count": 9,
   "id": "ab9d914f-af82-470f-ad06-18e2657b01c7",
   "metadata": {
    "tags": []
   },
   "outputs": [
    {
     "data": {
      "text/html": [
       "<div>\n",
       "<style scoped>\n",
       "    .dataframe tbody tr th:only-of-type {\n",
       "        vertical-align: middle;\n",
       "    }\n",
       "\n",
       "    .dataframe tbody tr th {\n",
       "        vertical-align: top;\n",
       "    }\n",
       "\n",
       "    .dataframe thead th {\n",
       "        text-align: right;\n",
       "    }\n",
       "</style>\n",
       "<table border=\"1\" class=\"dataframe\">\n",
       "  <thead>\n",
       "    <tr style=\"text-align: right;\">\n",
       "      <th></th>\n",
       "      <th>User-ID</th>\n",
       "      <th>Age</th>\n",
       "      <th>Book-Title</th>\n",
       "      <th>Book-Author</th>\n",
       "      <th>Year-Of-Publication</th>\n",
       "      <th>Publisher</th>\n",
       "      <th>City</th>\n",
       "      <th>State</th>\n",
       "      <th>Country</th>\n",
       "      <th>Age_gb</th>\n",
       "    </tr>\n",
       "  </thead>\n",
       "  <tbody>\n",
       "  </tbody>\n",
       "</table>\n",
       "</div>"
      ],
      "text/plain": [
       "Empty DataFrame\n",
       "Columns: [User-ID, Age, Book-Title, Book-Author, Year-Of-Publication, Publisher, City, State, Country, Age_gb]\n",
       "Index: []"
      ]
     },
     "execution_count": 9,
     "metadata": {},
     "output_type": "execute_result"
    }
   ],
   "source": [
    "X_train[X_train['Age_gb'].isna()]"
   ]
  },
  {
   "cell_type": "code",
   "execution_count": 10,
   "id": "12b37003-f589-412c-993e-1d8b4270fd4a",
   "metadata": {
    "tags": []
   },
   "outputs": [
    {
     "name": "stderr",
     "output_type": "stream",
     "text": [
      "0it [00:00, ?it/s]"
     ]
    },
    {
     "name": "stdout",
     "output_type": "stream",
     "text": [
      "\n",
      "Fold  0\n",
      "Learning rate set to 0.099005\n",
      "0:\tlearn: 0.6626952\ttest: 0.6605745\tbest: 0.6605745 (0)\ttotal: 419ms\tremaining: 20m 55s\n",
      "50:\tlearn: 0.5340554\ttest: 0.5158666\tbest: 0.5158666 (50)\ttotal: 11s\tremaining: 10m 38s\n",
      "100:\tlearn: 0.5314537\ttest: 0.5133395\tbest: 0.5133395 (100)\ttotal: 34.8s\tremaining: 16m 38s\n",
      "150:\tlearn: 0.5298264\ttest: 0.5120098\tbest: 0.5120098 (150)\ttotal: 1m 1s\tremaining: 19m 16s\n",
      "200:\tlearn: 0.5283915\ttest: 0.5108950\tbest: 0.5108950 (200)\ttotal: 1m 32s\tremaining: 21m 31s\n",
      "250:\tlearn: 0.5274499\ttest: 0.5102566\tbest: 0.5102566 (250)\ttotal: 2m 2s\tremaining: 22m 26s\n",
      "300:\tlearn: 0.5267947\ttest: 0.5098541\tbest: 0.5098541 (300)\ttotal: 2m 31s\tremaining: 22m 36s\n",
      "350:\tlearn: 0.5260768\ttest: 0.5094397\tbest: 0.5094397 (350)\ttotal: 3m\tremaining: 22m 40s\n",
      "400:\tlearn: 0.5254191\ttest: 0.5090701\tbest: 0.5090701 (400)\ttotal: 3m 27s\tremaining: 22m 24s\n",
      "450:\tlearn: 0.5249716\ttest: 0.5089003\tbest: 0.5089003 (450)\ttotal: 3m 53s\tremaining: 22m 1s\n",
      "500:\tlearn: 0.5244612\ttest: 0.5087029\tbest: 0.5087029 (500)\ttotal: 4m 20s\tremaining: 21m 41s\n",
      "550:\tlearn: 0.5240639\ttest: 0.5085676\tbest: 0.5085651 (548)\ttotal: 4m 49s\tremaining: 21m 26s\n",
      "600:\tlearn: 0.5236696\ttest: 0.5084757\tbest: 0.5084757 (600)\ttotal: 5m 17s\tremaining: 21m 6s\n",
      "650:\tlearn: 0.5233294\ttest: 0.5083677\tbest: 0.5083677 (650)\ttotal: 5m 45s\tremaining: 20m 45s\n",
      "700:\tlearn: 0.5229248\ttest: 0.5082654\tbest: 0.5082654 (700)\ttotal: 6m 14s\tremaining: 20m 27s\n",
      "750:\tlearn: 0.5225281\ttest: 0.5081361\tbest: 0.5081350 (749)\ttotal: 6m 42s\tremaining: 20m 6s\n",
      "800:\tlearn: 0.5222495\ttest: 0.5080944\tbest: 0.5080944 (800)\ttotal: 7m 10s\tremaining: 19m 40s\n",
      "850:\tlearn: 0.5219238\ttest: 0.5079961\tbest: 0.5079961 (850)\ttotal: 7m 38s\tremaining: 19m 18s\n",
      "900:\tlearn: 0.5215775\ttest: 0.5079022\tbest: 0.5079022 (900)\ttotal: 8m 7s\tremaining: 18m 55s\n",
      "950:\tlearn: 0.5212672\ttest: 0.5078716\tbest: 0.5078716 (950)\ttotal: 8m 34s\tremaining: 18m 29s\n",
      "1000:\tlearn: 0.5209823\ttest: 0.5078123\tbest: 0.5078099 (998)\ttotal: 9m 2s\tremaining: 18m 4s\n",
      "1050:\tlearn: 0.5206941\ttest: 0.5077749\tbest: 0.5077719 (1046)\ttotal: 9m 33s\tremaining: 17m 43s\n",
      "1100:\tlearn: 0.5203975\ttest: 0.5077376\tbest: 0.5077366 (1099)\ttotal: 10m 3s\tremaining: 17m 20s\n",
      "1150:\tlearn: 0.5200738\ttest: 0.5076958\tbest: 0.5076908 (1143)\ttotal: 10m 31s\tremaining: 16m 54s\n",
      "1200:\tlearn: 0.5198000\ttest: 0.5076631\tbest: 0.5076599 (1194)\ttotal: 10m 59s\tremaining: 16m 28s\n",
      "1250:\tlearn: 0.5195179\ttest: 0.5076360\tbest: 0.5076313 (1237)\ttotal: 11m 29s\tremaining: 16m 3s\n",
      "1300:\tlearn: 0.5192288\ttest: 0.5075775\tbest: 0.5075760 (1299)\ttotal: 11m 59s\tremaining: 15m 40s\n",
      "1350:\tlearn: 0.5189704\ttest: 0.5075489\tbest: 0.5075370 (1333)\ttotal: 12m 30s\tremaining: 15m 15s\n",
      "1400:\tlearn: 0.5186742\ttest: 0.5074959\tbest: 0.5074959 (1400)\ttotal: 13m\tremaining: 14m 51s\n",
      "1450:\tlearn: 0.5183814\ttest: 0.5074410\tbest: 0.5074410 (1450)\ttotal: 13m 31s\tremaining: 14m 26s\n",
      "1500:\tlearn: 0.5181094\ttest: 0.5074226\tbest: 0.5074216 (1499)\ttotal: 13m 59s\tremaining: 13m 58s\n",
      "1550:\tlearn: 0.5178484\ttest: 0.5073777\tbest: 0.5073777 (1550)\ttotal: 14m 30s\tremaining: 13m 32s\n",
      "1600:\tlearn: 0.5176056\ttest: 0.5073644\tbest: 0.5073628 (1599)\ttotal: 14m 59s\tremaining: 13m 6s\n",
      "1650:\tlearn: 0.5173772\ttest: 0.5073537\tbest: 0.5073487 (1612)\ttotal: 15m 28s\tremaining: 12m 38s\n",
      "1700:\tlearn: 0.5170996\ttest: 0.5073364\tbest: 0.5073277 (1678)\ttotal: 15m 58s\tremaining: 12m 11s\n",
      "Stopped by overfitting detector  (50 iterations wait)\n",
      "\n",
      "bestTest = 0.5073276873\n",
      "bestIteration = 1678\n",
      "\n",
      "Shrink model to first 1679 iterations.\n",
      "  N trees =  1679\n"
     ]
    },
    {
     "name": "stderr",
     "output_type": "stream",
     "text": [
      "1it [16:19, 979.45s/it]"
     ]
    },
    {
     "name": "stdout",
     "output_type": "stream",
     "text": [
      "\n",
      "Fold  1\n",
      "Learning rate set to 0.099005\n",
      "0:\tlearn: 0.6625325\ttest: 0.6604588\tbest: 0.6604588 (0)\ttotal: 288ms\tremaining: 14m 23s\n",
      "50:\tlearn: 0.5333782\ttest: 0.5165956\tbest: 0.5165956 (50)\ttotal: 10.8s\tremaining: 10m 23s\n",
      "100:\tlearn: 0.5307410\ttest: 0.5143326\tbest: 0.5143326 (100)\ttotal: 33s\tremaining: 15m 48s\n",
      "150:\tlearn: 0.5290466\ttest: 0.5129646\tbest: 0.5129646 (150)\ttotal: 1m 1s\tremaining: 19m 20s\n",
      "200:\tlearn: 0.5276947\ttest: 0.5119416\tbest: 0.5119416 (200)\ttotal: 1m 31s\tremaining: 21m 8s\n",
      "250:\tlearn: 0.5268469\ttest: 0.5114730\tbest: 0.5114730 (250)\ttotal: 1m 58s\tremaining: 21m 36s\n",
      "300:\tlearn: 0.5261342\ttest: 0.5111029\tbest: 0.5111029 (300)\ttotal: 2m 27s\tremaining: 22m 6s\n",
      "350:\tlearn: 0.5254917\ttest: 0.5107899\tbest: 0.5107899 (350)\ttotal: 2m 58s\tremaining: 22m 28s\n",
      "400:\tlearn: 0.5248478\ttest: 0.5105021\tbest: 0.5105017 (399)\ttotal: 3m 27s\tremaining: 22m 22s\n",
      "450:\tlearn: 0.5243437\ttest: 0.5102720\tbest: 0.5102720 (450)\ttotal: 3m 55s\tremaining: 22m 9s\n",
      "500:\tlearn: 0.5238264\ttest: 0.5101159\tbest: 0.5101144 (497)\ttotal: 4m 25s\tremaining: 22m 2s\n",
      "550:\tlearn: 0.5234635\ttest: 0.5099980\tbest: 0.5099980 (550)\ttotal: 4m 52s\tremaining: 21m 39s\n",
      "600:\tlearn: 0.5229391\ttest: 0.5097895\tbest: 0.5097895 (600)\ttotal: 5m 17s\tremaining: 21m 8s\n",
      "650:\tlearn: 0.5225351\ttest: 0.5096675\tbest: 0.5096675 (650)\ttotal: 5m 44s\tremaining: 20m 42s\n",
      "700:\tlearn: 0.5221832\ttest: 0.5095681\tbest: 0.5095681 (700)\ttotal: 6m 10s\tremaining: 20m 15s\n",
      "750:\tlearn: 0.5218149\ttest: 0.5095008\tbest: 0.5095008 (750)\ttotal: 6m 36s\tremaining: 19m 48s\n",
      "800:\tlearn: 0.5214802\ttest: 0.5094305\tbest: 0.5094264 (796)\ttotal: 7m 4s\tremaining: 19m 24s\n",
      "850:\tlearn: 0.5211814\ttest: 0.5093788\tbest: 0.5093788 (850)\ttotal: 7m 32s\tremaining: 19m 3s\n",
      "900:\tlearn: 0.5208392\ttest: 0.5093402\tbest: 0.5093355 (897)\ttotal: 8m 2s\tremaining: 18m 44s\n",
      "950:\tlearn: 0.5205268\ttest: 0.5093169\tbest: 0.5093052 (941)\ttotal: 8m 31s\tremaining: 18m 22s\n",
      "1000:\tlearn: 0.5202380\ttest: 0.5092993\tbest: 0.5092936 (993)\ttotal: 9m\tremaining: 17m 59s\n",
      "1050:\tlearn: 0.5199022\ttest: 0.5092084\tbest: 0.5092084 (1050)\ttotal: 9m 27s\tremaining: 17m 33s\n",
      "1100:\tlearn: 0.5196311\ttest: 0.5091607\tbest: 0.5091607 (1100)\ttotal: 9m 55s\tremaining: 17m 7s\n",
      "1150:\tlearn: 0.5193376\ttest: 0.5091240\tbest: 0.5091198 (1144)\ttotal: 10m 24s\tremaining: 16m 43s\n",
      "1200:\tlearn: 0.5190494\ttest: 0.5090907\tbest: 0.5090878 (1196)\ttotal: 10m 52s\tremaining: 16m 17s\n",
      "1250:\tlearn: 0.5187902\ttest: 0.5090635\tbest: 0.5090532 (1246)\ttotal: 11m 20s\tremaining: 15m 50s\n",
      "1300:\tlearn: 0.5185445\ttest: 0.5090522\tbest: 0.5090456 (1298)\ttotal: 11m 49s\tremaining: 15m 26s\n",
      "1350:\tlearn: 0.5182951\ttest: 0.5090328\tbest: 0.5090321 (1347)\ttotal: 12m 17s\tremaining: 15m\n",
      "1400:\tlearn: 0.5180180\ttest: 0.5089558\tbest: 0.5089554 (1399)\ttotal: 12m 47s\tremaining: 14m 36s\n",
      "1450:\tlearn: 0.5177184\ttest: 0.5089037\tbest: 0.5088937 (1431)\ttotal: 13m 17s\tremaining: 14m 11s\n",
      "1500:\tlearn: 0.5174445\ttest: 0.5088820\tbest: 0.5088811 (1498)\ttotal: 13m 47s\tremaining: 13m 46s\n",
      "1550:\tlearn: 0.5171728\ttest: 0.5088778\tbest: 0.5088767 (1548)\ttotal: 14m 18s\tremaining: 13m 21s\n",
      "1600:\tlearn: 0.5169196\ttest: 0.5088799\tbest: 0.5088678 (1571)\ttotal: 14m 47s\tremaining: 12m 55s\n",
      "Stopped by overfitting detector  (50 iterations wait)\n",
      "\n",
      "bestTest = 0.5088678265\n",
      "bestIteration = 1571\n",
      "\n",
      "Shrink model to first 1572 iterations.\n",
      "  N trees =  1572\n"
     ]
    },
    {
     "name": "stderr",
     "output_type": "stream",
     "text": [
      "2it [31:24, 935.97s/it]"
     ]
    },
    {
     "name": "stdout",
     "output_type": "stream",
     "text": [
      "\n",
      "Fold  2\n",
      "Learning rate set to 0.099005\n",
      "0:\tlearn: 0.6625614\ttest: 0.6605742\tbest: 0.6605742 (0)\ttotal: 290ms\tremaining: 14m 29s\n",
      "50:\tlearn: 0.5335051\ttest: 0.5162511\tbest: 0.5162511 (50)\ttotal: 11.7s\tremaining: 11m 19s\n",
      "100:\tlearn: 0.5308712\ttest: 0.5138129\tbest: 0.5138129 (100)\ttotal: 35.3s\tremaining: 16m 53s\n",
      "150:\tlearn: 0.5291272\ttest: 0.5123923\tbest: 0.5123923 (150)\ttotal: 1m 1s\tremaining: 19m 18s\n",
      "200:\tlearn: 0.5279854\ttest: 0.5115329\tbest: 0.5115329 (200)\ttotal: 1m 29s\tremaining: 20m 43s\n",
      "250:\tlearn: 0.5271248\ttest: 0.5108939\tbest: 0.5108939 (250)\ttotal: 1m 56s\tremaining: 21m 14s\n",
      "300:\tlearn: 0.5263871\ttest: 0.5104325\tbest: 0.5104325 (300)\ttotal: 2m 23s\tremaining: 21m 29s\n",
      "350:\tlearn: 0.5257764\ttest: 0.5101003\tbest: 0.5101003 (350)\ttotal: 2m 51s\tremaining: 21m 37s\n",
      "400:\tlearn: 0.5252680\ttest: 0.5098884\tbest: 0.5098837 (396)\ttotal: 3m 17s\tremaining: 21m 22s\n",
      "450:\tlearn: 0.5247638\ttest: 0.5096444\tbest: 0.5096444 (450)\ttotal: 3m 45s\tremaining: 21m 16s\n",
      "500:\tlearn: 0.5242988\ttest: 0.5094502\tbest: 0.5094502 (500)\ttotal: 4m 13s\tremaining: 21m 6s\n",
      "550:\tlearn: 0.5238531\ttest: 0.5093063\tbest: 0.5093063 (550)\ttotal: 4m 40s\tremaining: 20m 47s\n",
      "600:\tlearn: 0.5234711\ttest: 0.5091842\tbest: 0.5091808 (594)\ttotal: 5m 8s\tremaining: 20m 31s\n",
      "650:\tlearn: 0.5229927\ttest: 0.5089685\tbest: 0.5089685 (650)\ttotal: 5m 35s\tremaining: 20m 11s\n",
      "700:\tlearn: 0.5226104\ttest: 0.5088027\tbest: 0.5088027 (700)\ttotal: 6m 1s\tremaining: 19m 46s\n",
      "750:\tlearn: 0.5223053\ttest: 0.5087107\tbest: 0.5087107 (750)\ttotal: 6m 28s\tremaining: 19m 24s\n",
      "800:\tlearn: 0.5219500\ttest: 0.5086037\tbest: 0.5086037 (800)\ttotal: 6m 57s\tremaining: 19m 4s\n",
      "850:\tlearn: 0.5215808\ttest: 0.5085147\tbest: 0.5085145 (849)\ttotal: 7m 24s\tremaining: 18m 42s\n",
      "900:\tlearn: 0.5213045\ttest: 0.5084553\tbest: 0.5084553 (900)\ttotal: 7m 51s\tremaining: 18m 19s\n",
      "950:\tlearn: 0.5209663\ttest: 0.5083842\tbest: 0.5083829 (949)\ttotal: 8m 20s\tremaining: 17m 57s\n",
      "1000:\tlearn: 0.5206241\ttest: 0.5082582\tbest: 0.5082578 (999)\ttotal: 8m 48s\tremaining: 17m 35s\n",
      "1050:\tlearn: 0.5203416\ttest: 0.5082200\tbest: 0.5082171 (1045)\ttotal: 9m 15s\tremaining: 17m 9s\n",
      "1100:\tlearn: 0.5200275\ttest: 0.5081427\tbest: 0.5081420 (1097)\ttotal: 9m 43s\tremaining: 16m 47s\n",
      "1150:\tlearn: 0.5197696\ttest: 0.5080968\tbest: 0.5080953 (1149)\ttotal: 10m 11s\tremaining: 16m 21s\n",
      "1200:\tlearn: 0.5195124\ttest: 0.5080714\tbest: 0.5080714 (1200)\ttotal: 10m 38s\tremaining: 15m 56s\n",
      "1250:\tlearn: 0.5192546\ttest: 0.5080238\tbest: 0.5080213 (1244)\ttotal: 11m 7s\tremaining: 15m 33s\n",
      "1300:\tlearn: 0.5189840\ttest: 0.5079743\tbest: 0.5079722 (1298)\ttotal: 11m 35s\tremaining: 15m 8s\n",
      "1350:\tlearn: 0.5187336\ttest: 0.5079638\tbest: 0.5079591 (1345)\ttotal: 12m 3s\tremaining: 14m 42s\n",
      "1400:\tlearn: 0.5184445\ttest: 0.5079065\tbest: 0.5079065 (1400)\ttotal: 12m 33s\tremaining: 14m 19s\n",
      "1450:\tlearn: 0.5181748\ttest: 0.5078546\tbest: 0.5078524 (1449)\ttotal: 13m 2s\tremaining: 13m 55s\n",
      "1500:\tlearn: 0.5179253\ttest: 0.5078421\tbest: 0.5078416 (1499)\ttotal: 13m 31s\tremaining: 13m 30s\n",
      "1550:\tlearn: 0.5176496\ttest: 0.5078102\tbest: 0.5078058 (1542)\ttotal: 14m\tremaining: 13m 5s\n",
      "1600:\tlearn: 0.5173755\ttest: 0.5077651\tbest: 0.5077618 (1597)\ttotal: 14m 29s\tremaining: 12m 39s\n",
      "1650:\tlearn: 0.5171575\ttest: 0.5077467\tbest: 0.5077465 (1634)\ttotal: 14m 58s\tremaining: 12m 14s\n",
      "1700:\tlearn: 0.5169302\ttest: 0.5077471\tbest: 0.5077413 (1685)\ttotal: 15m 24s\tremaining: 11m 46s\n",
      "1750:\tlearn: 0.5167061\ttest: 0.5077545\tbest: 0.5077396 (1728)\ttotal: 15m 52s\tremaining: 11m 19s\n",
      "Stopped by overfitting detector  (50 iterations wait)\n",
      "\n",
      "bestTest = 0.5077396385\n",
      "bestIteration = 1728\n",
      "\n",
      "Shrink model to first 1729 iterations.\n",
      "  N trees =  1729\n"
     ]
    },
    {
     "name": "stderr",
     "output_type": "stream",
     "text": [
      "3it [47:40, 953.98s/it]"
     ]
    },
    {
     "name": "stdout",
     "output_type": "stream",
     "text": [
      "\n",
      "Fold  3\n",
      "Learning rate set to 0.099005\n",
      "0:\tlearn: 0.6624606\ttest: 0.6600378\tbest: 0.6600378 (0)\ttotal: 269ms\tremaining: 13m 26s\n",
      "50:\tlearn: 0.5335063\ttest: 0.5153236\tbest: 0.5153236 (50)\ttotal: 10.8s\tremaining: 10m 21s\n",
      "100:\tlearn: 0.5308606\ttest: 0.5126873\tbest: 0.5126873 (100)\ttotal: 33s\tremaining: 15m 47s\n",
      "150:\tlearn: 0.5293241\ttest: 0.5114695\tbest: 0.5114695 (150)\ttotal: 1m\tremaining: 18m 59s\n",
      "200:\tlearn: 0.5279960\ttest: 0.5103615\tbest: 0.5103615 (200)\ttotal: 1m 28s\tremaining: 20m 31s\n",
      "250:\tlearn: 0.5270373\ttest: 0.5097771\tbest: 0.5097771 (250)\ttotal: 1m 59s\tremaining: 21m 47s\n",
      "300:\tlearn: 0.5262793\ttest: 0.5093298\tbest: 0.5093298 (300)\ttotal: 2m 28s\tremaining: 22m 13s\n",
      "350:\tlearn: 0.5256959\ttest: 0.5090353\tbest: 0.5090353 (350)\ttotal: 2m 59s\tremaining: 22m 37s\n",
      "400:\tlearn: 0.5251220\ttest: 0.5087826\tbest: 0.5087799 (397)\ttotal: 3m 29s\tremaining: 22m 37s\n",
      "450:\tlearn: 0.5245488\ttest: 0.5084728\tbest: 0.5084711 (447)\ttotal: 4m\tremaining: 22m 39s\n",
      "500:\tlearn: 0.5241062\ttest: 0.5083246\tbest: 0.5083246 (497)\ttotal: 4m 30s\tremaining: 22m 31s\n",
      "550:\tlearn: 0.5236695\ttest: 0.5081985\tbest: 0.5081918 (545)\ttotal: 4m 58s\tremaining: 22m 8s\n",
      "600:\tlearn: 0.5232336\ttest: 0.5080225\tbest: 0.5080225 (600)\ttotal: 5m 26s\tremaining: 21m 41s\n",
      "650:\tlearn: 0.5228340\ttest: 0.5079217\tbest: 0.5079212 (648)\ttotal: 5m 53s\tremaining: 21m 16s\n",
      "700:\tlearn: 0.5224823\ttest: 0.5078512\tbest: 0.5078512 (700)\ttotal: 6m 21s\tremaining: 20m 50s\n",
      "750:\tlearn: 0.5221276\ttest: 0.5077974\tbest: 0.5077974 (750)\ttotal: 6m 47s\tremaining: 20m 21s\n",
      "800:\tlearn: 0.5217774\ttest: 0.5076937\tbest: 0.5076937 (800)\ttotal: 7m 15s\tremaining: 19m 54s\n",
      "850:\tlearn: 0.5213737\ttest: 0.5075715\tbest: 0.5075715 (850)\ttotal: 7m 44s\tremaining: 19m 32s\n",
      "900:\tlearn: 0.5210326\ttest: 0.5074880\tbest: 0.5074867 (899)\ttotal: 8m 9s\tremaining: 19m\n",
      "950:\tlearn: 0.5207575\ttest: 0.5074578\tbest: 0.5074570 (948)\ttotal: 8m 37s\tremaining: 18m 34s\n",
      "1000:\tlearn: 0.5204984\ttest: 0.5074164\tbest: 0.5074138 (993)\ttotal: 9m 4s\tremaining: 18m 8s\n",
      "1050:\tlearn: 0.5202099\ttest: 0.5074131\tbest: 0.5074110 (1048)\ttotal: 9m 33s\tremaining: 17m 42s\n",
      "1100:\tlearn: 0.5199447\ttest: 0.5073871\tbest: 0.5073871 (1100)\ttotal: 9m 59s\tremaining: 17m 14s\n",
      "1150:\tlearn: 0.5196791\ttest: 0.5073506\tbest: 0.5073495 (1149)\ttotal: 10m 26s\tremaining: 16m 46s\n",
      "1200:\tlearn: 0.5194063\ttest: 0.5072928\tbest: 0.5072928 (1200)\ttotal: 10m 55s\tremaining: 16m 21s\n",
      "1250:\tlearn: 0.5191391\ttest: 0.5072674\tbest: 0.5072617 (1243)\ttotal: 11m 23s\tremaining: 15m 55s\n",
      "1300:\tlearn: 0.5188647\ttest: 0.5072415\tbest: 0.5072375 (1295)\ttotal: 11m 52s\tremaining: 15m 29s\n",
      "1350:\tlearn: 0.5185567\ttest: 0.5071832\tbest: 0.5071827 (1349)\ttotal: 12m 19s\tremaining: 15m 3s\n",
      "1400:\tlearn: 0.5182948\ttest: 0.5071484\tbest: 0.5071484 (1400)\ttotal: 12m 48s\tremaining: 14m 36s\n",
      "1450:\tlearn: 0.5180327\ttest: 0.5071071\tbest: 0.5071060 (1449)\ttotal: 13m 17s\tremaining: 14m 11s\n",
      "Stopped by overfitting detector  (50 iterations wait)\n",
      "\n",
      "bestTest = 0.5071059619\n",
      "bestIteration = 1449\n",
      "\n",
      "Shrink model to first 1450 iterations.\n",
      "  N trees =  1450\n"
     ]
    },
    {
     "name": "stderr",
     "output_type": "stream",
     "text": [
      "4it [1:01:31, 905.44s/it]"
     ]
    },
    {
     "name": "stdout",
     "output_type": "stream",
     "text": [
      "\n",
      "Fold  4\n",
      "Learning rate set to 0.099005\n",
      "0:\tlearn: 0.6623478\ttest: 0.6596717\tbest: 0.6596717 (0)\ttotal: 286ms\tremaining: 14m 18s\n",
      "50:\tlearn: 0.5336119\ttest: 0.5164099\tbest: 0.5164099 (50)\ttotal: 11.9s\tremaining: 11m 27s\n",
      "100:\tlearn: 0.5307153\ttest: 0.5139001\tbest: 0.5139001 (100)\ttotal: 36.7s\tremaining: 17m 33s\n",
      "150:\tlearn: 0.5291675\ttest: 0.5126213\tbest: 0.5126213 (150)\ttotal: 1m 4s\tremaining: 20m 15s\n",
      "200:\tlearn: 0.5279436\ttest: 0.5116336\tbest: 0.5116336 (200)\ttotal: 1m 33s\tremaining: 21m 40s\n",
      "250:\tlearn: 0.5270841\ttest: 0.5110577\tbest: 0.5110577 (250)\ttotal: 2m 2s\tremaining: 22m 18s\n",
      "300:\tlearn: 0.5263019\ttest: 0.5105914\tbest: 0.5105914 (300)\ttotal: 2m 30s\tremaining: 22m 29s\n",
      "350:\tlearn: 0.5257305\ttest: 0.5103419\tbest: 0.5103413 (342)\ttotal: 2m 59s\tremaining: 22m 33s\n",
      "400:\tlearn: 0.5251979\ttest: 0.5100853\tbest: 0.5100849 (399)\ttotal: 3m 28s\tremaining: 22m 33s\n",
      "450:\tlearn: 0.5246797\ttest: 0.5098896\tbest: 0.5098896 (450)\ttotal: 3m 57s\tremaining: 22m 20s\n",
      "500:\tlearn: 0.5241695\ttest: 0.5096590\tbest: 0.5096563 (496)\ttotal: 4m 23s\tremaining: 21m 56s\n",
      "550:\tlearn: 0.5237486\ttest: 0.5095372\tbest: 0.5095372 (550)\ttotal: 4m 52s\tremaining: 21m 39s\n",
      "600:\tlearn: 0.5233328\ttest: 0.5093975\tbest: 0.5093975 (600)\ttotal: 5m 20s\tremaining: 21m 18s\n",
      "650:\tlearn: 0.5228589\ttest: 0.5092144\tbest: 0.5092144 (650)\ttotal: 5m 49s\tremaining: 20m 59s\n",
      "700:\tlearn: 0.5225027\ttest: 0.5091121\tbest: 0.5091121 (700)\ttotal: 6m 16s\tremaining: 20m 35s\n",
      "750:\tlearn: 0.5221400\ttest: 0.5090578\tbest: 0.5090520 (742)\ttotal: 6m 44s\tremaining: 20m 12s\n",
      "800:\tlearn: 0.5217579\ttest: 0.5089736\tbest: 0.5089676 (792)\ttotal: 7m 13s\tremaining: 19m 49s\n",
      "850:\tlearn: 0.5214620\ttest: 0.5089415\tbest: 0.5089377 (832)\ttotal: 7m 44s\tremaining: 19m 32s\n",
      "900:\tlearn: 0.5211133\ttest: 0.5088455\tbest: 0.5088455 (900)\ttotal: 8m 13s\tremaining: 19m 8s\n",
      "950:\tlearn: 0.5207825\ttest: 0.5087746\tbest: 0.5087736 (949)\ttotal: 8m 43s\tremaining: 18m 47s\n",
      "1000:\tlearn: 0.5204452\ttest: 0.5087330\tbest: 0.5087221 (990)\ttotal: 9m 11s\tremaining: 18m 22s\n",
      "1050:\tlearn: 0.5201587\ttest: 0.5086901\tbest: 0.5086859 (1026)\ttotal: 9m 42s\tremaining: 17m 59s\n",
      "1100:\tlearn: 0.5198441\ttest: 0.5086615\tbest: 0.5086587 (1092)\ttotal: 10m 9s\tremaining: 17m 32s\n",
      "1150:\tlearn: 0.5195915\ttest: 0.5086361\tbest: 0.5086278 (1143)\ttotal: 10m 39s\tremaining: 17m 7s\n",
      "1200:\tlearn: 0.5193244\ttest: 0.5086302\tbest: 0.5086086 (1185)\ttotal: 11m 11s\tremaining: 16m 45s\n",
      "Stopped by overfitting detector  (50 iterations wait)\n",
      "\n",
      "bestTest = 0.5086085568\n",
      "bestIteration = 1185\n",
      "\n",
      "Shrink model to first 1186 iterations.\n",
      "  N trees =  1186\n"
     ]
    },
    {
     "name": "stderr",
     "output_type": "stream",
     "text": [
      "5it [1:13:10, 878.07s/it]\n"
     ]
    }
   ],
   "source": [
    "# model1. binary classifier of 0 or other\n",
    "from sklearn.model_selection import KFold, StratifiedKFold\n",
    "k = 5 # a number of folds best is 20\n",
    "skfold = StratifiedKFold(n_splits=k, shuffle=True, random_state=113)\n",
    "\n",
    "from catboost import CatBoostClassifier, Pool\n",
    "model_cf = CatBoostClassifier(loss_function='Logloss', iterations =3000, auto_class_weights='SqrtBalanced')\n",
    "\n",
    "y_train_prob = 0\n",
    "y_test_prob = 0\n",
    "\n",
    "from sklearn.model_selection import train_test_split\n",
    "FEATURE = ['User-ID','Book-Title','Book-Author','Publisher', 'City','State','Country','Age_gb']\n",
    "\n",
    "for i, (train_index, test_index) in tqdm(enumerate(skfold.split(X_train, y_train_cf))):    \n",
    "    X_train_fold, X_valid_fold = X_train.iloc[train_index], X_train.iloc[test_index]\n",
    "    y_train_fold, y_valid_fold = y_train_cf.iloc[train_index], y_train_cf.iloc[test_index]\n",
    "\n",
    "    X_train_fold[FEATURE] = X_train_fold[FEATURE].astype('int')\n",
    "    X_valid_fold[FEATURE] = X_valid_fold[FEATURE].astype('int')\n",
    "    \n",
    "    train_pool = Pool(data=X_train_fold, label=y_train_fold, cat_features=FEATURE)\n",
    "    valid_pool = Pool(data=X_valid_fold, label=y_valid_fold, cat_features=FEATURE)\n",
    "\n",
    "    \n",
    "    print( \"\\nFold \", i)\n",
    "    \n",
    "    fit_model = model_cf.fit(train_pool, \n",
    "                          eval_set=valid_pool,\n",
    "                          use_best_model=True,\n",
    "                          early_stopping_rounds=50,\n",
    "                          verbose=50\n",
    "                          )\n",
    "    print( \"  N trees = \", model_cf.tree_count_ )      \n",
    "  \n",
    "    X_train[FEATURE] = X_train[FEATURE].astype('int')\n",
    "    x_test[FEATURE] = x_test[FEATURE].astype('int')\n",
    "    # Predict value Clipping\n",
    "    \n",
    "    y_train_prob +=  fit_model.predict_proba(X_train)\n",
    "    y_test_prob +=  fit_model.predict_proba(x_test)\n",
    "y_train_prob /= k\n",
    "y_test_prob /= k  "
   ]
  },
  {
   "cell_type": "code",
   "execution_count": 11,
   "id": "db2a9bc4-fa22-4775-b89a-8e7a35c293fe",
   "metadata": {
    "tags": []
   },
   "outputs": [],
   "source": [
    "X_train['RT_prob_0'] = y_train_prob[:,0]\n",
    "X_train['RT_prob_1'] = y_train_prob[:,1]\n",
    "x_test['RT_prob_0'] = y_test_prob[:,0]\n",
    "x_test['RT_prob_1'] = y_test_prob[:,1]"
   ]
  },
  {
   "cell_type": "code",
   "execution_count": 12,
   "id": "17242171-f71f-475a-b880-2e5c33b200c6",
   "metadata": {
    "tags": []
   },
   "outputs": [
    {
     "data": {
      "text/html": [
       "<div>\n",
       "<style scoped>\n",
       "    .dataframe tbody tr th:only-of-type {\n",
       "        vertical-align: middle;\n",
       "    }\n",
       "\n",
       "    .dataframe tbody tr th {\n",
       "        vertical-align: top;\n",
       "    }\n",
       "\n",
       "    .dataframe thead th {\n",
       "        text-align: right;\n",
       "    }\n",
       "</style>\n",
       "<table border=\"1\" class=\"dataframe\">\n",
       "  <thead>\n",
       "    <tr style=\"text-align: right;\">\n",
       "      <th></th>\n",
       "      <th>User-ID</th>\n",
       "      <th>Age</th>\n",
       "      <th>Book-Title</th>\n",
       "      <th>Book-Author</th>\n",
       "      <th>Year-Of-Publication</th>\n",
       "      <th>Publisher</th>\n",
       "      <th>City</th>\n",
       "      <th>State</th>\n",
       "      <th>Country</th>\n",
       "      <th>Age_gb</th>\n",
       "      <th>RT_prob_0</th>\n",
       "      <th>RT_prob_1</th>\n",
       "    </tr>\n",
       "  </thead>\n",
       "  <tbody>\n",
       "    <tr>\n",
       "      <th>0</th>\n",
       "      <td>0</td>\n",
       "      <td>23.0</td>\n",
       "      <td>136251</td>\n",
       "      <td>77475</td>\n",
       "      <td>2001.0</td>\n",
       "      <td>9093</td>\n",
       "      <td>10487</td>\n",
       "      <td>1037</td>\n",
       "      <td>57</td>\n",
       "      <td>2</td>\n",
       "      <td>0.309138</td>\n",
       "      <td>0.690862</td>\n",
       "    </tr>\n",
       "    <tr>\n",
       "      <th>1</th>\n",
       "      <td>0</td>\n",
       "      <td>23.0</td>\n",
       "      <td>103076</td>\n",
       "      <td>91647</td>\n",
       "      <td>1981.0</td>\n",
       "      <td>10515</td>\n",
       "      <td>10487</td>\n",
       "      <td>1037</td>\n",
       "      <td>57</td>\n",
       "      <td>2</td>\n",
       "      <td>0.225929</td>\n",
       "      <td>0.774071</td>\n",
       "    </tr>\n",
       "    <tr>\n",
       "      <th>2</th>\n",
       "      <td>0</td>\n",
       "      <td>23.0</td>\n",
       "      <td>208319</td>\n",
       "      <td>90102</td>\n",
       "      <td>1981.0</td>\n",
       "      <td>10515</td>\n",
       "      <td>10487</td>\n",
       "      <td>1037</td>\n",
       "      <td>57</td>\n",
       "      <td>2</td>\n",
       "      <td>0.502943</td>\n",
       "      <td>0.497057</td>\n",
       "    </tr>\n",
       "    <tr>\n",
       "      <th>3</th>\n",
       "      <td>0</td>\n",
       "      <td>23.0</td>\n",
       "      <td>111765</td>\n",
       "      <td>83754</td>\n",
       "      <td>1991.0</td>\n",
       "      <td>1166</td>\n",
       "      <td>10487</td>\n",
       "      <td>1037</td>\n",
       "      <td>57</td>\n",
       "      <td>2</td>\n",
       "      <td>0.479605</td>\n",
       "      <td>0.520395</td>\n",
       "    </tr>\n",
       "    <tr>\n",
       "      <th>4</th>\n",
       "      <td>0</td>\n",
       "      <td>23.0</td>\n",
       "      <td>143993</td>\n",
       "      <td>54167</td>\n",
       "      <td>1989.0</td>\n",
       "      <td>12609</td>\n",
       "      <td>10487</td>\n",
       "      <td>1037</td>\n",
       "      <td>57</td>\n",
       "      <td>2</td>\n",
       "      <td>0.258258</td>\n",
       "      <td>0.741742</td>\n",
       "    </tr>\n",
       "    <tr>\n",
       "      <th>...</th>\n",
       "      <td>...</td>\n",
       "      <td>...</td>\n",
       "      <td>...</td>\n",
       "      <td>...</td>\n",
       "      <td>...</td>\n",
       "      <td>...</td>\n",
       "      <td>...</td>\n",
       "      <td>...</td>\n",
       "      <td>...</td>\n",
       "      <td>...</td>\n",
       "      <td>...</td>\n",
       "      <td>...</td>\n",
       "    </tr>\n",
       "    <tr>\n",
       "      <th>871388</th>\n",
       "      <td>83251</td>\n",
       "      <td>34.0</td>\n",
       "      <td>73499</td>\n",
       "      <td>52004</td>\n",
       "      <td>1993.0</td>\n",
       "      <td>6162</td>\n",
       "      <td>7728</td>\n",
       "      <td>955</td>\n",
       "      <td>323</td>\n",
       "      <td>3</td>\n",
       "      <td>0.612918</td>\n",
       "      <td>0.387082</td>\n",
       "    </tr>\n",
       "    <tr>\n",
       "      <th>871389</th>\n",
       "      <td>83252</td>\n",
       "      <td>35.0</td>\n",
       "      <td>186183</td>\n",
       "      <td>16876</td>\n",
       "      <td>2002.0</td>\n",
       "      <td>6091</td>\n",
       "      <td>12055</td>\n",
       "      <td>1534</td>\n",
       "      <td>323</td>\n",
       "      <td>5</td>\n",
       "      <td>0.400210</td>\n",
       "      <td>0.599790</td>\n",
       "    </tr>\n",
       "    <tr>\n",
       "      <th>871390</th>\n",
       "      <td>83253</td>\n",
       "      <td>45.0</td>\n",
       "      <td>72770</td>\n",
       "      <td>36822</td>\n",
       "      <td>2000.0</td>\n",
       "      <td>13698</td>\n",
       "      <td>9067</td>\n",
       "      <td>1160</td>\n",
       "      <td>57</td>\n",
       "      <td>6</td>\n",
       "      <td>0.469678</td>\n",
       "      <td>0.530322</td>\n",
       "    </tr>\n",
       "    <tr>\n",
       "      <th>871391</th>\n",
       "      <td>83254</td>\n",
       "      <td>43.0</td>\n",
       "      <td>73851</td>\n",
       "      <td>87010</td>\n",
       "      <td>1996.0</td>\n",
       "      <td>12989</td>\n",
       "      <td>7277</td>\n",
       "      <td>955</td>\n",
       "      <td>323</td>\n",
       "      <td>5</td>\n",
       "      <td>0.221370</td>\n",
       "      <td>0.778630</td>\n",
       "    </tr>\n",
       "    <tr>\n",
       "      <th>871392</th>\n",
       "      <td>83255</td>\n",
       "      <td>35.0</td>\n",
       "      <td>164203</td>\n",
       "      <td>4221</td>\n",
       "      <td>1999.0</td>\n",
       "      <td>6037</td>\n",
       "      <td>2092</td>\n",
       "      <td>1560</td>\n",
       "      <td>146</td>\n",
       "      <td>5</td>\n",
       "      <td>0.541928</td>\n",
       "      <td>0.458072</td>\n",
       "    </tr>\n",
       "  </tbody>\n",
       "</table>\n",
       "<p>871393 rows × 12 columns</p>\n",
       "</div>"
      ],
      "text/plain": [
       "        User-ID   Age  Book-Title  Book-Author  Year-Of-Publication  \\\n",
       "0             0  23.0      136251        77475               2001.0   \n",
       "1             0  23.0      103076        91647               1981.0   \n",
       "2             0  23.0      208319        90102               1981.0   \n",
       "3             0  23.0      111765        83754               1991.0   \n",
       "4             0  23.0      143993        54167               1989.0   \n",
       "...         ...   ...         ...          ...                  ...   \n",
       "871388    83251  34.0       73499        52004               1993.0   \n",
       "871389    83252  35.0      186183        16876               2002.0   \n",
       "871390    83253  45.0       72770        36822               2000.0   \n",
       "871391    83254  43.0       73851        87010               1996.0   \n",
       "871392    83255  35.0      164203         4221               1999.0   \n",
       "\n",
       "        Publisher   City  State  Country  Age_gb  RT_prob_0  RT_prob_1  \n",
       "0            9093  10487   1037       57       2   0.309138   0.690862  \n",
       "1           10515  10487   1037       57       2   0.225929   0.774071  \n",
       "2           10515  10487   1037       57       2   0.502943   0.497057  \n",
       "3            1166  10487   1037       57       2   0.479605   0.520395  \n",
       "4           12609  10487   1037       57       2   0.258258   0.741742  \n",
       "...           ...    ...    ...      ...     ...        ...        ...  \n",
       "871388       6162   7728    955      323       3   0.612918   0.387082  \n",
       "871389       6091  12055   1534      323       5   0.400210   0.599790  \n",
       "871390      13698   9067   1160       57       6   0.469678   0.530322  \n",
       "871391      12989   7277    955      323       5   0.221370   0.778630  \n",
       "871392       6037   2092   1560      146       5   0.541928   0.458072  \n",
       "\n",
       "[871393 rows x 12 columns]"
      ]
     },
     "execution_count": 12,
     "metadata": {},
     "output_type": "execute_result"
    }
   ],
   "source": [
    "X_train"
   ]
  },
  {
   "cell_type": "code",
   "execution_count": 13,
   "id": "d34aceaa-4cbb-4214-9474-88db970a6429",
   "metadata": {
    "tags": []
   },
   "outputs": [],
   "source": [
    "y_train = train_lb['Book-Rating']"
   ]
  },
  {
   "cell_type": "code",
   "execution_count": 14,
   "id": "2ce1889b-fdaa-4e0a-b653-106059b5a35c",
   "metadata": {
    "tags": []
   },
   "outputs": [
    {
     "data": {
      "text/plain": [
       "<Figure size 700x700 with 0 Axes>"
      ]
     },
     "metadata": {},
     "output_type": "display_data"
    },
    {
     "data": {
      "image/png": "[encoded data removed]",
      "text/plain": [
       "<Figure size 1000x1000 with 4 Axes>"
      ]
     },
     "metadata": {},
     "output_type": "display_data"
    }
   ],
   "source": [
    "import seaborn as sns\n",
    "from matplotlib import pyplot as plt\n",
    "\n",
    "plt.figure(figsize = (7, 7))\n",
    "clustermap = sns.clustermap(X_train.corr(), cmap = 'RdYlBu_r',vmin = -1, vmax = 1, annot = False)"
   ]
  },
  {
   "cell_type": "code",
   "execution_count": 15,
   "id": "db3f9b0a-fa46-41f9-858e-3679bb89eeb4",
   "metadata": {
    "tags": []
   },
   "outputs": [],
   "source": [
    "from catboost import CatBoostRegressor, Pool\n",
    "model = CatBoostRegressor(random_seed = 113,\n",
    "                          l2_leaf_reg = 0.003426034644149707,\n",
    "                          max_bin = 358,\n",
    "                          subsample = 0.9974697184313627,\n",
    "                          learning_rate = 0.009464402227606937,\n",
    "                          max_depth = 11,\n",
    "                          min_data_in_leaf = 139,\n",
    "                          eval_metric = 'RMSE',\n",
    "                          iterations = 8694,\n",
    "                          task_type='GPU',\n",
    "                          bootstrap_type = 'Poisson',\n",
    "                          early_stopping_rounds = 100,\n",
    "                          verbose=500\n",
    "                          )"
   ]
  },
  {
   "cell_type": "code",
   "execution_count": null,
   "id": "3112a0a1-c925-4152-a311-ea9586180f10",
   "metadata": {
    "tags": []
   },
   "outputs": [
    {
     "name": "stderr",
     "output_type": "stream",
     "text": [
      "0it [00:00, ?it/s]"
     ]
    },
    {
     "name": "stdout",
     "output_type": "stream",
     "text": [
      "\n",
      "Fold  0\n",
      "0:\tlearn: 3.8223161\ttest: 3.8222039\tbest: 3.8222039 (0)\ttotal: 187ms\tremaining: 27m 1s\n",
      "500:\tlearn: 1.7108383\ttest: 1.5967184\tbest: 1.5967184 (500)\ttotal: 1m 16s\tremaining: 20m 50s\n",
      "1000:\tlearn: 1.6023108\ttest: 1.4688034\tbest: 1.4688034 (1000)\ttotal: 2m 28s\tremaining: 19m\n",
      "1500:\tlearn: 1.5517006\ttest: 1.4188084\tbest: 1.4188084 (1500)\ttotal: 3m 34s\tremaining: 17m 8s\n",
      "2000:\tlearn: 1.5159976\ttest: 1.3895094\tbest: 1.3895094 (2000)\ttotal: 4m 38s\tremaining: 15m 32s\n",
      "2500:\tlearn: 1.4897202\ttest: 1.3717414\tbest: 1.3717414 (2500)\ttotal: 5m 46s\tremaining: 14m 17s\n",
      "3000:\tlearn: 1.4681460\ttest: 1.3584657\tbest: 1.3584657 (3000)\ttotal: 6m 56s\tremaining: 13m 10s\n",
      "3500:\tlearn: 1.4495691\ttest: 1.3483497\tbest: 1.3483497 (3500)\ttotal: 8m 2s\tremaining: 11m 55s\n",
      "4000:\tlearn: 1.4323839\ttest: 1.3400494\tbest: 1.3400494 (4000)\ttotal: 9m 9s\tremaining: 10m 44s\n",
      "4500:\tlearn: 1.4173941\ttest: 1.3333671\tbest: 1.3333671 (4500)\ttotal: 10m 14s\tremaining: 9m 32s\n",
      "5000:\tlearn: 1.4029821\ttest: 1.3270931\tbest: 1.3270931 (5000)\ttotal: 11m 21s\tremaining: 8m 23s\n",
      "5500:\tlearn: 1.3893479\ttest: 1.3220191\tbest: 1.3220191 (5500)\ttotal: 12m 27s\tremaining: 7m 14s\n",
      "6000:\tlearn: 1.3764457\ttest: 1.3173363\tbest: 1.3173363 (6000)\ttotal: 13m 36s\tremaining: 6m 6s\n",
      "6500:\tlearn: 1.3642186\ttest: 1.3132959\tbest: 1.3132959 (6500)\ttotal: 14m 46s\tremaining: 4m 58s\n",
      "7000:\tlearn: 1.3525357\ttest: 1.3101920\tbest: 1.3101920 (7000)\ttotal: 15m 56s\tremaining: 3m 51s\n",
      "7500:\tlearn: 1.3412039\ttest: 1.3072003\tbest: 1.3072003 (7500)\ttotal: 17m 8s\tremaining: 2m 43s\n",
      "8000:\tlearn: 1.3308897\ttest: 1.3046987\tbest: 1.3046987 (8000)\ttotal: 18m 17s\tremaining: 1m 35s\n",
      "8500:\tlearn: 1.3206340\ttest: 1.3023931\tbest: 1.3023931 (8500)\ttotal: 19m 25s\tremaining: 26.4s\n",
      "8693:\tlearn: 1.3167241\ttest: 1.3013034\tbest: 1.3013023 (8692)\ttotal: 19m 50s\tremaining: 0us\n",
      "bestTest = 1.301302277\n",
      "bestIteration = 8692\n",
      "Shrink model to first 8693 iterations.\n"
     ]
    }
   ],
   "source": [
    "from sklearn.model_selection import KFold, StratifiedKFold\n",
    "k = 20 # a number of folds best is 20\n",
    "skfold = StratifiedKFold(n_splits=k, shuffle=True, random_state=113)\n",
    "from sklearn.model_selection import GridSearchCV\n",
    "from sklearn.metrics import mean_squared_error\n",
    "from sklearn.metrics import make_scorer\n",
    "from sklearn.metrics import r2_score\n",
    "from catboost import Pool\n",
    "\n",
    "y_valid_pred = 0*y_train\n",
    "y_test_pred = 0\n",
    "\n",
    "FEATURE = ['User-ID','Book-Title','Book-Author','Publisher', 'City','State','Country','Age_gb']#, 'Rating_gb']# 'Pub_gb']\n",
    "\n",
    "for i, (train_index, test_index) in tqdm(enumerate(skfold.split(X_train, y_train))):    \n",
    "    X_train_fold, X_valid_fold = X_train.iloc[train_index], X_train.iloc[test_index]\n",
    "    y_train_fold, y_valid_fold = y_train.iloc[train_index], y_train.iloc[test_index]\n",
    "\n",
    "    X_train_fold[FEATURE] = X_train_fold[FEATURE].astype('int')\n",
    "    X_valid_fold[FEATURE] = X_valid_fold[FEATURE].astype('int')\n",
    "    \n",
    "    train_pool = Pool(data=X_train_fold, label=y_train_fold, cat_features=FEATURE)\n",
    "    valid_pool = Pool(data=X_valid_fold, label=y_valid_fold, cat_features=FEATURE)\n",
    "\n",
    "    \n",
    "    print( \"\\nFold \", i)\n",
    "    \n",
    "    fit_model = model.fit(train_pool, \n",
    "                          eval_set=valid_pool,\n",
    "                          use_best_model=True\n",
    "                          )\n",
    "    print( \"  N trees = \", model.tree_count_ )\n",
    "        \n",
    "\n",
    "    def score_model(model,X_train, X_test, y_train, y_test,\n",
    "               show_plot=True):   \n",
    "        y_pred = np.clip(model.predict(X_test),0,10)\n",
    "        print(f\"Test score: {r2_score(y_test, y_pred)}\")\n",
    "        print(\"MSE: \", mean_squared_error(y_test, y_pred))\n",
    "        print(\"RMSE: \", np.sqrt(mean_squared_error(y_test, y_pred)))\n",
    "    \n",
    "        predictions_comparision = pd.DataFrame({'Actual': y_test.tolist(), 'Predicted': y_pred.tolist()}).sample(25)\n",
    "        if show_plot == True:\n",
    "            predictions_comparision.plot(kind=\"bar\", figsize=(12,8),title=\"Actual vs predicted values\")\n",
    "            print(predictions_comparision.sample(10))    \n",
    "    \n",
    "    \n",
    "        return {\n",
    "            \"test_score_r2\" : r2_score(y_test, y_pred),\n",
    "            \"test_score_mse\" : mean_squared_error(y_test, y_pred),\n",
    "            \"test_score_rmse\" : np.sqrt(mean_squared_error(y_test, y_pred))\n",
    "            }\n",
    "    score_model(fit_model, X_train_fold, X_valid_fold, y_train_fold, y_valid_fold, show_plot=True)\n",
    "    \n",
    "    x_test[FEATURE] = x_test[FEATURE].astype('int')\n",
    "    # Predict value Clipping\n",
    "    y_test_pred +=  np.clip(fit_model.predict(x_test[X_valid_fold.columns]),0.0,10.0)\n",
    "    \n",
    "y_test_pred /= k  # Average test set predictions\n"
   ]
  },
  {
   "cell_type": "code",
   "execution_count": null,
   "id": "aef48dcb-c7a2-4e6d-93b0-7d60c8d9989f",
   "metadata": {
    "tags": []
   },
   "outputs": [],
   "source": [
    "cat_importance_feature = np.argsort(model.feature_importances_)[:-31:-1]\n",
    "plt.barh(X_train.columns[cat_importance_feature], model.feature_importances_[cat_importance_feature])\n",
    "plt.show()"
   ]
  },
  {
   "cell_type": "code",
   "execution_count": null,
   "id": "888b65b1-bd59-4f95-bdac-324cb42b9353",
   "metadata": {
    "tags": []
   },
   "outputs": [],
   "source": [
    "sub = pd.DataFrame()\n",
    "sub['ID'] = test['ID']\n",
    "sub['Book-Rating'] = y_test_pred\n",
    "sub"
   ]
  },
  {
   "cell_type": "code",
   "execution_count": null,
   "id": "c2eda32e-6d8c-4f88-9174-ffe9219afc43",
   "metadata": {
    "tags": []
   },
   "outputs": [],
   "source": [
    "import seaborn as sns\n",
    "sns.histplot(sub['Book-Rating'])"
   ]
  },
  {
   "cell_type": "code",
   "execution_count": null,
   "id": "56ab828f-ebae-443d-a51a-4c44f48e3c34",
   "metadata": {
    "tags": []
   },
   "outputs": [],
   "source": [
    "sub.to_csv('submit_cat+20-folds+binary.csv', index=False,encoding=\"utf-8-sig\")"
   ]
  },
  {
   "cell_type": "code",
   "execution_count": null,
   "id": "50e9b49e-3d86-4afa-90f8-359ddaace106",
   "metadata": {},
   "outputs": [],
   "source": []
  },
  {
   "cell_type": "code",
   "execution_count": null,
   "id": "d0f5b72e-c74f-45f2-8180-623d5264dc03",
   "metadata": {},
   "outputs": [],
   "source": []
  }
 ],
 "metadata": {
  "kernelspec": {
   "display_name": "Python 3 (ipykernel)",
   "language": "python",
   "name": "python3"
  },
  "language_info": {
   "codemirror_mode": {
    "name": "ipython",
    "version": 3
   },
   "file_extension": ".py",
   "mimetype": "text/x-python",
   "name": "python",
   "nbconvert_exporter": "python",
   "pygments_lexer": "ipython3",
   "version": "3.10.10"
  }
 },
 "nbformat": 4,
 "nbformat_minor": 5
}
