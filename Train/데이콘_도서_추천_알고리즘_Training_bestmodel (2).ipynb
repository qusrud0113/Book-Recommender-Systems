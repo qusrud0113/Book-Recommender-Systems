{
 "cells": [
  {
   "cell_type": "code",
   "execution_count": 9,
   "metadata": {
    "executionInfo": {
     "elapsed": 1,
     "status": "ok",
     "timestamp": 1682570776482,
     "user": {
      "displayName": "GyeongJun Byeon",
      "userId": "15563492176804444918"
     },
     "user_tz": -540
    },
    "id": "C7aMr6H-DQMx"
   },
   "outputs": [],
   "source": [
    "#!sudo apt-get install -y fonts-nanum\n",
    "#!sudo fc-cache -fv\n",
    "#!rm ~/.cache/matplotlib -rf\n",
    "\n",
    "\n",
    "#티스토리 업로드시 최적화 코드\n",
    "#from IPython.core.display import display, HTML\n",
    "#display(HTML(\"<style>.container {width:90% !important;}</style>\"))"
   ]
  },
  {
   "cell_type": "markdown",
   "metadata": {
    "id": "NvcWabINtkQT"
   },
   "source": [
    "# 2023.04.17\n",
    "# TRAINING\n",
    "Dataset Info.\n",
    "\n",
    "train.csv [파일]\n",
    "\n",
    "    ID : 샘플 고유 ID\n",
    "    User-ID : 유저 고유 ID\n",
    "    Book-ID : 도서 고유 ID\n",
    "    유저 정보\n",
    "    Age : 나이\n",
    "    Location : 지역\n",
    "    도서 정보\n",
    "    Book-Title : 도서 명\n",
    "    Book-Author : 도서 저자\n",
    "    Year-Of-Publication : 도서 출판 년도 (-1일 경우 결측 혹은 알 수 없음)\n",
    "    Publisher : 출판사\n",
    "    Book-Rating : 유저가 도서에 부여한 평점 (0점 ~ 10점)\n",
    "\n",
    "\n",
    "test.csv [파일]\n",
    "\n",
    "    ID : 샘플 고유 ID\n",
    "    User-ID : 유저 고유 ID\n",
    "    Book-ID : 도서 고유 ID\n",
    "    유저 정보\n",
    "    Age : 나이\n",
    "    Location : 지역\n",
    "    도서 정보\n",
    "    Book-Title : 도서 명\n",
    "    Book-Author : 도서 저자\n",
    "    Year-Of-Publication : 도서 출판 년도 (-1일 경우 결측 혹은 알 수 없음)\n",
    "    Publisher : 출판사\n",
    "\n",
    "\n",
    "sample_submission.csv [제출양식]\n",
    "\n",
    "    ID : 샘플 고유 ID\n",
    "    Book-Rating : 예측한 유저가 도서에 부여할 평점"
   ]
  },
  {
   "cell_type": "code",
   "execution_count": 1,
   "metadata": {
    "executionInfo": {
     "elapsed": 3,
     "status": "ok",
     "timestamp": 1682570776911,
     "user": {
      "displayName": "GyeongJun Byeon",
      "userId": "15563492176804444918"
     },
     "user_tz": -540
    },
    "id": "W8gYWePXpsQa",
    "tags": []
   },
   "outputs": [],
   "source": [
    "import pandas as pd"
   ]
  },
  {
   "cell_type": "code",
   "execution_count": 2,
   "metadata": {
    "executionInfo": {
     "elapsed": 3,
     "status": "ok",
     "timestamp": 1682570779705,
     "user": {
      "displayName": "GyeongJun Byeon",
      "userId": "15563492176804444918"
     },
     "user_tz": -540
    },
    "id": "ERnEHYmGrzow",
    "tags": []
   },
   "outputs": [],
   "source": [
    "import numpy as np\n",
    "import random\n",
    "import os\n",
    "import gc"
   ]
  },
  {
   "cell_type": "code",
   "execution_count": 3,
   "metadata": {
    "executionInfo": {
     "elapsed": 4,
     "status": "ok",
     "timestamp": 1682570779706,
     "user": {
      "displayName": "GyeongJun Byeon",
      "userId": "15563492176804444918"
     },
     "user_tz": -540
    },
    "id": "CWVnfmzAr2sW",
    "tags": []
   },
   "outputs": [],
   "source": [
    "def seed_everything(seed):\n",
    "    random.seed(seed)\n",
    "    os.environ['PYTHONHASHSEED'] = str(seed)\n",
    "    np.random.seed(seed)\n",
    "seed_everything(42) # Seed 고정"
   ]
  },
  {
   "cell_type": "code",
   "execution_count": 4,
   "metadata": {
    "executionInfo": {
     "elapsed": 1014,
     "status": "ok",
     "timestamp": 1682570787444,
     "user": {
      "displayName": "GyeongJun Byeon",
      "userId": "15563492176804444918"
     },
     "user_tz": -540
    },
    "id": "6KuLse1csCx7",
    "tags": []
   },
   "outputs": [],
   "source": [
    "train = pd.read_csv('train.csv')\n",
    "test = pd.read_csv( 'test.csv')\n",
    "sample_submission = pd.read_csv('sample_submission.csv', index_col = 0)"
   ]
  },
  {
   "cell_type": "code",
   "execution_count": 5,
   "metadata": {
    "executionInfo": {
     "elapsed": 1382,
     "status": "ok",
     "timestamp": 1682570788824,
     "user": {
      "displayName": "GyeongJun Byeon",
      "userId": "15563492176804444918"
     },
     "user_tz": -540
    },
    "id": "H3NR5fyizqX8",
    "tags": []
   },
   "outputs": [],
   "source": [
    "train['City'] = [(i.split(',')[0]).lstrip().title() for i in train['Location']]\n",
    "train['State'] = [(i.split(',')[1]).lstrip().title() for i in train['Location']]\n",
    "train['Country'] = [(i.split(',')[2]).lstrip().title() for i in train['Location']]"
   ]
  },
  {
   "cell_type": "code",
   "execution_count": 6,
   "metadata": {
    "executionInfo": {
     "elapsed": 437,
     "status": "ok",
     "timestamp": 1682570789260,
     "user": {
      "displayName": "GyeongJun Byeon",
      "userId": "15563492176804444918"
     },
     "user_tz": -540
    },
    "id": "DDZBviNneJGA",
    "tags": []
   },
   "outputs": [],
   "source": [
    "test['City'] = [(i.split(',')[0]).lstrip().title() for i in test['Location']]\n",
    "test['State'] = [(i.split(',')[1]).lstrip().title() for i in test['Location']]\n",
    "test['Country'] = [(i.split(',')[2]).lstrip().title() for i in test['Location']]"
   ]
  },
  {
   "cell_type": "code",
   "execution_count": 20,
   "metadata": {
    "colab": {
     "base_uri": "https://localhost:8080/"
    },
    "executionInfo": {
     "elapsed": 9157,
     "status": "ok",
     "timestamp": 1682570798415,
     "user": {
      "displayName": "GyeongJun Byeon",
      "userId": "15563492176804444918"
     },
     "user_tz": -540
    },
    "id": "pUtz59K59y-A",
    "outputId": "d0f0eb25-b103-4b4c-846a-1ec21fbdffb6"
   },
   "outputs": [
    {
     "name": "stdout",
     "output_type": "stream",
     "text": [
      "Looking in indexes: https://pypi.org/simple, https://us-python.pkg.dev/colab-wheels/public/simple/\n",
      "Collecting catboost\n",
      "  Downloading catboost-1.1.1-cp39-none-manylinux1_x86_64.whl (76.6 MB)\n",
      "\u001b[2K     \u001b[90m━━━━━━━━━━━━━━━━━━━━━━━━━━━━━━━━━━━━━━━━\u001b[0m \u001b[32m76.6/76.6 MB\u001b[0m \u001b[31m12.7 MB/s\u001b[0m eta \u001b[36m0:00:00\u001b[0m\n",
      "\u001b[?25hRequirement already satisfied: matplotlib in /usr/local/lib/python3.9/dist-packages (from catboost) (3.7.1)\n",
      "Requirement already satisfied: six in /usr/local/lib/python3.9/dist-packages (from catboost) (1.16.0)\n",
      "Requirement already satisfied: pandas>=0.24.0 in /usr/local/lib/python3.9/dist-packages (from catboost) (1.5.3)\n",
      "Requirement already satisfied: numpy>=1.16.0 in /usr/local/lib/python3.9/dist-packages (from catboost) (1.22.4)\n",
      "Requirement already satisfied: scipy in /usr/local/lib/python3.9/dist-packages (from catboost) (1.10.1)\n",
      "Requirement already satisfied: graphviz in /usr/local/lib/python3.9/dist-packages (from catboost) (0.20.1)\n",
      "Requirement already satisfied: plotly in /usr/local/lib/python3.9/dist-packages (from catboost) (5.13.1)\n",
      "Requirement already satisfied: pytz>=2020.1 in /usr/local/lib/python3.9/dist-packages (from pandas>=0.24.0->catboost) (2022.7.1)\n",
      "Requirement already satisfied: python-dateutil>=2.8.1 in /usr/local/lib/python3.9/dist-packages (from pandas>=0.24.0->catboost) (2.8.2)\n",
      "Requirement already satisfied: fonttools>=4.22.0 in /usr/local/lib/python3.9/dist-packages (from matplotlib->catboost) (4.39.3)\n",
      "Requirement already satisfied: pillow>=6.2.0 in /usr/local/lib/python3.9/dist-packages (from matplotlib->catboost) (8.4.0)\n",
      "Requirement already satisfied: packaging>=20.0 in /usr/local/lib/python3.9/dist-packages (from matplotlib->catboost) (23.1)\n",
      "Requirement already satisfied: importlib-resources>=3.2.0 in /usr/local/lib/python3.9/dist-packages (from matplotlib->catboost) (5.12.0)\n",
      "Requirement already satisfied: pyparsing>=2.3.1 in /usr/local/lib/python3.9/dist-packages (from matplotlib->catboost) (3.0.9)\n",
      "Requirement already satisfied: contourpy>=1.0.1 in /usr/local/lib/python3.9/dist-packages (from matplotlib->catboost) (1.0.7)\n",
      "Requirement already satisfied: cycler>=0.10 in /usr/local/lib/python3.9/dist-packages (from matplotlib->catboost) (0.11.0)\n",
      "Requirement already satisfied: kiwisolver>=1.0.1 in /usr/local/lib/python3.9/dist-packages (from matplotlib->catboost) (1.4.4)\n",
      "Requirement already satisfied: tenacity>=6.2.0 in /usr/local/lib/python3.9/dist-packages (from plotly->catboost) (8.2.2)\n",
      "Requirement already satisfied: zipp>=3.1.0 in /usr/local/lib/python3.9/dist-packages (from importlib-resources>=3.2.0->matplotlib->catboost) (3.15.0)\n",
      "Installing collected packages: catboost\n",
      "Successfully installed catboost-1.1.1\n"
     ]
    }
   ],
   "source": [
    "!pip install catboost"
   ]
  },
  {
   "cell_type": "code",
   "execution_count": 7,
   "metadata": {
    "executionInfo": {
     "elapsed": 6,
     "status": "ok",
     "timestamp": 1682570798416,
     "user": {
      "displayName": "GyeongJun Byeon",
      "userId": "15563492176804444918"
     },
     "user_tz": -540
    },
    "id": "VKKCf1GQpV1d",
    "tags": []
   },
   "outputs": [],
   "source": [
    "# 나이 그룹화\n",
    "labels = ['0-3','3-6','6-8','8-12','12-18','18-25','25-34','35-44','45-54','55-64','65-74','75+']\n",
    "bins = [0, 3, 6, 8, 12, 18, 25, 34, 44, 54, 64, 74, 250]\n",
    "train['Age_gb'] = pd.cut(train.Age, bins, labels = labels,include_lowest = True)"
   ]
  },
  {
   "cell_type": "code",
   "execution_count": 8,
   "metadata": {
    "executionInfo": {
     "elapsed": 5,
     "status": "ok",
     "timestamp": 1682570798416,
     "user": {
      "displayName": "GyeongJun Byeon",
      "userId": "15563492176804444918"
     },
     "user_tz": -540
    },
    "id": "NmxdeCjUpWHd",
    "tags": []
   },
   "outputs": [],
   "source": [
    "test['Age_gb'] = pd.cut(test.Age, bins, labels = labels,include_lowest = True)"
   ]
  },
  {
   "cell_type": "code",
   "execution_count": 9,
   "metadata": {
    "executionInfo": {
     "elapsed": 7967,
     "status": "ok",
     "timestamp": 1682570806378,
     "user": {
      "displayName": "GyeongJun Byeon",
      "userId": "15563492176804444918"
     },
     "user_tz": -540
    },
    "id": "0PlZEDPBgAzY",
    "tags": []
   },
   "outputs": [],
   "source": [
    "from sklearn.preprocessing import OrdinalEncoder\n",
    "\n",
    "FEATURE = ['User-ID', 'Book-Title','Book-Author','Publisher', 'City','State','Country','Age_gb']\n",
    "\n",
    "train_lb = train.__deepcopy__() \n",
    "test_lb = test.__deepcopy__()\n",
    "\n",
    "train_lb = train_lb.drop(columns = ['Book-ID', 'Location'])\n",
    "test_lb = test_lb.drop(columns = ['Book-ID', 'Location'])\n",
    "\n",
    "train_lb[FEATURE] = train_lb[FEATURE].astype(str) \n",
    "test_lb[FEATURE] = test_lb[FEATURE].astype(str)\n",
    "\n",
    "for i in FEATURE:\n",
    "    # train에는 없고, test에는 있는 원소는 -2 처리\n",
    "    oe = OrdinalEncoder(handle_unknown='use_encoded_value',\n",
    "                         unknown_value=-2)\n",
    "    oe=oe.fit(train_lb[i].to_numpy().reshape(-1, 1))\n",
    "    train_lb[i] = oe.transform(train_lb[i].to_numpy().reshape(-1, 1))\n",
    "    test_lb[i] = oe.transform(test_lb[i].to_numpy().reshape(-1, 1))"
   ]
  },
  {
   "cell_type": "code",
   "execution_count": 10,
   "metadata": {
    "executionInfo": {
     "elapsed": 3,
     "status": "ok",
     "timestamp": 1682570806378,
     "user": {
      "displayName": "GyeongJun Byeon",
      "userId": "15563492176804444918"
     },
     "user_tz": -540
    },
    "id": "cxHlCJXg-ONv",
    "tags": []
   },
   "outputs": [],
   "source": [
    "X_train = train_lb.drop(columns = ['ID','Book-Rating'])\n",
    "y_train = train_lb['Book-Rating']\n",
    "x_test = test_lb.drop(columns = ['ID'])"
   ]
  },
  {
   "cell_type": "code",
   "execution_count": 11,
   "metadata": {
    "executionInfo": {
     "elapsed": 599,
     "status": "ok",
     "timestamp": 1682570806975,
     "user": {
      "displayName": "GyeongJun Byeon",
      "userId": "15563492176804444918"
     },
     "user_tz": -540
    },
    "id": "9hUpk3wQStaJ",
    "tags": []
   },
   "outputs": [],
   "source": [
    "from catboost import CatBoostRegressor \n",
    "\n",
    "model = CatBoostRegressor(random_seed = 113,\n",
    "                          l2_leaf_reg = 0.003426034644149707,\n",
    "                          max_bin = 358,\n",
    "                          subsample = 0.9974697184313627,\n",
    "                          learning_rate = 0.009464402227606937,\n",
    "                          max_depth = 11,\n",
    "                          min_data_in_leaf = 139,\n",
    "                          eval_metric = 'RMSE',\n",
    "                          iterations = 8694,\n",
    "                          task_type='GPU',\n",
    "                          bootstrap_type = 'Poisson',\n",
    "                          early_stopping_rounds = 100,\n",
    "                          verbose=500\n",
    "                          )"
   ]
  },
  {
   "cell_type": "code",
   "execution_count": 12,
   "metadata": {
    "colab": {
     "base_uri": "https://localhost:8080/"
    },
    "id": "6MXZxYqqmR97",
    "outputId": "66f05180-a946-4724-d01b-f392ff44ce78",
    "tags": []
   },
   "outputs": [
    {
     "name": "stdout",
     "output_type": "stream",
     "text": [
      "\n",
      "Fold  0\n",
      "0:\tlearn: 3.8400121\ttest: 3.8396715\tbest: 3.8396715 (0)\ttotal: 74.8ms\tremaining: 10m 50s\n",
      "500:\tlearn: 3.3179986\ttest: 3.2861933\tbest: 3.2861933 (500)\ttotal: 44.8s\tremaining: 12m 13s\n",
      "1000:\tlearn: 3.2746617\ttest: 3.2670844\tbest: 3.2670844 (1000)\ttotal: 1m 30s\tremaining: 11m 32s\n",
      "1500:\tlearn: 3.2436786\ttest: 3.2593581\tbest: 3.2593581 (1500)\ttotal: 2m 14s\tremaining: 10m 44s\n",
      "2000:\tlearn: 3.2171339\ttest: 3.2549622\tbest: 3.2549622 (2000)\ttotal: 2m 59s\tremaining: 10m 1s\n",
      "2500:\tlearn: 3.1920540\ttest: 3.2520848\tbest: 3.2520848 (2500)\ttotal: 3m 45s\tremaining: 9m 18s\n",
      "3000:\tlearn: 3.1682294\ttest: 3.2497534\tbest: 3.2497534 (3000)\ttotal: 4m 32s\tremaining: 8m 36s\n",
      "3500:\tlearn: 3.1453181\ttest: 3.2482549\tbest: 3.2482549 (3500)\ttotal: 5m 20s\tremaining: 7m 54s\n",
      "4000:\tlearn: 3.1232899\ttest: 3.2469816\tbest: 3.2469816 (4000)\ttotal: 6m 7s\tremaining: 7m 10s\n",
      "4500:\tlearn: 3.1023038\ttest: 3.2460647\tbest: 3.2460647 (4500)\ttotal: 6m 53s\tremaining: 6m 24s\n",
      "5000:\tlearn: 3.0814307\ttest: 3.2453375\tbest: 3.2453330 (4999)\ttotal: 7m 40s\tremaining: 5m 40s\n",
      "5500:\tlearn: 3.0611835\ttest: 3.2448361\tbest: 3.2448310 (5482)\ttotal: 8m 30s\tremaining: 4m 56s\n",
      "6000:\tlearn: 3.0412708\ttest: 3.2444998\tbest: 3.2444760 (5930)\ttotal: 9m 20s\tremaining: 4m 11s\n",
      "6500:\tlearn: 3.0211246\ttest: 3.2441753\tbest: 3.2441701 (6481)\ttotal: 10m 8s\tremaining: 3m 25s\n",
      "7000:\tlearn: 3.0012637\ttest: 3.2438060\tbest: 3.2438004 (6995)\ttotal: 10m 56s\tremaining: 2m 38s\n",
      "bestTest = 3.243707605\n",
      "bestIteration = 7180\n",
      "Shrink model to first 7181 iterations.\n",
      "  N trees =  7181\n",
      "\n",
      "Fold  1\n",
      "0:\tlearn: 3.8399655\ttest: 3.8394059\tbest: 3.8394059 (0)\ttotal: 74.5ms\tremaining: 10m 48s\n",
      "500:\tlearn: 3.3204721\ttest: 3.2757710\tbest: 3.2757710 (500)\ttotal: 43.2s\tremaining: 11m 47s\n",
      "1000:\tlearn: 3.2773575\ttest: 3.2564593\tbest: 3.2564593 (1000)\ttotal: 1m 27s\tremaining: 11m 11s\n",
      "1500:\tlearn: 3.2467561\ttest: 3.2487319\tbest: 3.2487318 (1499)\ttotal: 2m 12s\tremaining: 10m 33s\n",
      "2000:\tlearn: 3.2197270\ttest: 3.2443382\tbest: 3.2443382 (2000)\ttotal: 2m 58s\tremaining: 9m 55s\n",
      "2500:\tlearn: 3.1946529\ttest: 3.2417821\tbest: 3.2417821 (2500)\ttotal: 3m 44s\tremaining: 9m 16s\n",
      "3000:\tlearn: 3.1704885\ttest: 3.2400032\tbest: 3.2399981 (2991)\ttotal: 4m 30s\tremaining: 8m 33s\n",
      "3500:\tlearn: 3.1480010\ttest: 3.2389309\tbest: 3.2389309 (3500)\ttotal: 5m 16s\tremaining: 7m 49s\n",
      "4000:\tlearn: 3.1246919\ttest: 3.2381619\tbest: 3.2381619 (4000)\ttotal: 6m 2s\tremaining: 7m 5s\n",
      "4500:\tlearn: 3.1030584\ttest: 3.2377817\tbest: 3.2377791 (4434)\ttotal: 6m 48s\tremaining: 6m 20s\n",
      "bestTest = 3.237461911\n",
      "bestIteration = 4782\n",
      "Shrink model to first 4783 iterations.\n",
      "  N trees =  4783\n",
      "\n",
      "Fold  2\n",
      "0:\tlearn: 3.8400677\ttest: 3.8395292\tbest: 3.8395292 (0)\ttotal: 75.6ms\tremaining: 10m 57s\n",
      "500:\tlearn: 3.3197743\ttest: 3.2799855\tbest: 3.2799855 (500)\ttotal: 44.2s\tremaining: 12m 2s\n",
      "1000:\tlearn: 3.2751599\ttest: 3.2615355\tbest: 3.2615355 (1000)\ttotal: 1m 28s\tremaining: 11m 19s\n",
      "1500:\tlearn: 3.2431827\ttest: 3.2543935\tbest: 3.2543935 (1500)\ttotal: 2m 13s\tremaining: 10m 38s\n",
      "2000:\tlearn: 3.2153102\ttest: 3.2503040\tbest: 3.2503040 (2000)\ttotal: 2m 58s\tremaining: 9m 56s\n",
      "2500:\tlearn: 3.1898043\ttest: 3.2476919\tbest: 3.2476919 (2500)\ttotal: 3m 43s\tremaining: 9m 13s\n",
      "3000:\tlearn: 3.1657702\ttest: 3.2457190\tbest: 3.2457154 (2996)\ttotal: 4m 28s\tremaining: 8m 30s\n",
      "3500:\tlearn: 3.1432246\ttest: 3.2443283\tbest: 3.2443104 (3497)\ttotal: 5m 14s\tremaining: 7m 46s\n",
      "4000:\tlearn: 3.1211054\ttest: 3.2432900\tbest: 3.2432900 (4000)\ttotal: 6m\tremaining: 7m 2s\n",
      "4500:\tlearn: 3.0995382\ttest: 3.2424268\tbest: 3.2424208 (4498)\ttotal: 6m 45s\tremaining: 6m 17s\n",
      "5000:\tlearn: 3.0784931\ttest: 3.2417907\tbest: 3.2417907 (5000)\ttotal: 7m 31s\tremaining: 5m 33s\n",
      "5500:\tlearn: 3.0577515\ttest: 3.2413227\tbest: 3.2413155 (5493)\ttotal: 8m 16s\tremaining: 4m 48s\n",
      "6000:\tlearn: 3.0375330\ttest: 3.2409476\tbest: 3.2409458 (5900)\ttotal: 9m 2s\tremaining: 4m 3s\n",
      "bestTest = 3.240945793\n",
      "bestIteration = 5900\n",
      "Shrink model to first 5901 iterations.\n",
      "  N trees =  5901\n",
      "\n",
      "Fold  3\n",
      "0:\tlearn: 3.8400596\ttest: 3.8396194\tbest: 3.8396194 (0)\ttotal: 75.5ms\tremaining: 10m 56s\n",
      "500:\tlearn: 3.3190283\ttest: 3.2863784\tbest: 3.2863784 (500)\ttotal: 43.2s\tremaining: 11m 46s\n",
      "1000:\tlearn: 3.2765071\ttest: 3.2680304\tbest: 3.2680304 (1000)\ttotal: 1m 27s\tremaining: 11m 9s\n",
      "1500:\tlearn: 3.2447882\ttest: 3.2602147\tbest: 3.2602147 (1500)\ttotal: 2m 11s\tremaining: 10m 32s\n",
      "2000:\tlearn: 3.2169867\ttest: 3.2556843\tbest: 3.2556843 (2000)\ttotal: 2m 56s\tremaining: 9m 50s\n",
      "2500:\tlearn: 3.1914686\ttest: 3.2527378\tbest: 3.2527378 (2500)\ttotal: 3m 42s\tremaining: 9m 10s\n",
      "3000:\tlearn: 3.1670217\ttest: 3.2503750\tbest: 3.2503750 (3000)\ttotal: 4m 28s\tremaining: 8m 28s\n",
      "3500:\tlearn: 3.1437162\ttest: 3.2488655\tbest: 3.2488604 (3499)\ttotal: 5m 13s\tremaining: 7m 45s\n",
      "4000:\tlearn: 3.1215723\ttest: 3.2477291\tbest: 3.2477291 (4000)\ttotal: 5m 59s\tremaining: 7m 2s\n",
      "4500:\tlearn: 3.0995811\ttest: 3.2465415\tbest: 3.2465415 (4500)\ttotal: 6m 45s\tremaining: 6m 18s\n",
      "5000:\tlearn: 3.0785975\ttest: 3.2459375\tbest: 3.2459375 (5000)\ttotal: 7m 33s\tremaining: 5m 34s\n",
      "5500:\tlearn: 3.0581871\ttest: 3.2453771\tbest: 3.2453739 (5498)\ttotal: 8m 20s\tremaining: 4m 50s\n",
      "6000:\tlearn: 3.0377742\ttest: 3.2447861\tbest: 3.2447861 (6000)\ttotal: 9m 8s\tremaining: 4m 6s\n",
      "6500:\tlearn: 3.0177462\ttest: 3.2444076\tbest: 3.2443766 (6477)\ttotal: 9m 55s\tremaining: 3m 20s\n",
      "bestTest = 3.244275317\n",
      "bestIteration = 6766\n",
      "Shrink model to first 6767 iterations.\n",
      "  N trees =  6767\n",
      "\n",
      "Fold  4\n",
      "0:\tlearn: 3.8400879\ttest: 3.8395170\tbest: 3.8395170 (0)\ttotal: 73.3ms\tremaining: 10m 37s\n",
      "500:\tlearn: 3.3203550\ttest: 3.2756733\tbest: 3.2756733 (500)\ttotal: 43.2s\tremaining: 11m 46s\n",
      "1000:\tlearn: 3.2772819\ttest: 3.2573644\tbest: 3.2573644 (1000)\ttotal: 1m 27s\tremaining: 11m 11s\n",
      "1500:\tlearn: 3.2469700\ttest: 3.2500413\tbest: 3.2500413 (1500)\ttotal: 2m 13s\tremaining: 10m 38s\n",
      "2000:\tlearn: 3.2194761\ttest: 3.2459828\tbest: 3.2459828 (2000)\ttotal: 3m 1s\tremaining: 10m 5s\n",
      "2500:\tlearn: 3.1943941\ttest: 3.2430547\tbest: 3.2430496 (2497)\ttotal: 3m 48s\tremaining: 9m 26s\n",
      "3000:\tlearn: 3.1698962\ttest: 3.2407939\tbest: 3.2407939 (3000)\ttotal: 4m 36s\tremaining: 8m 44s\n",
      "3500:\tlearn: 3.1463725\ttest: 3.2393734\tbest: 3.2393724 (3499)\ttotal: 5m 22s\tremaining: 7m 58s\n",
      "4000:\tlearn: 3.1242363\ttest: 3.2382829\tbest: 3.2382829 (4000)\ttotal: 6m 9s\tremaining: 7m 13s\n",
      "4500:\tlearn: 3.1029321\ttest: 3.2375066\tbest: 3.2375066 (4500)\ttotal: 6m 56s\tremaining: 6m 27s\n",
      "5000:\tlearn: 3.0817683\ttest: 3.2368147\tbest: 3.2368147 (5000)\ttotal: 7m 42s\tremaining: 5m 41s\n",
      "5500:\tlearn: 3.0616687\ttest: 3.2363624\tbest: 3.2363611 (5498)\ttotal: 8m 28s\tremaining: 4m 55s\n",
      "6000:\tlearn: 3.0417359\ttest: 3.2359726\tbest: 3.2359601 (5997)\ttotal: 9m 14s\tremaining: 4m 8s\n",
      "bestTest = 3.235859043\n",
      "bestIteration = 6160\n",
      "Shrink model to first 6161 iterations.\n",
      "  N trees =  6161\n",
      "\n",
      "Fold  5\n",
      "0:\tlearn: 3.8400733\ttest: 3.8395876\tbest: 3.8395876 (0)\ttotal: 74.2ms\tremaining: 10m 45s\n",
      "500:\tlearn: 3.3180577\ttest: 3.2861613\tbest: 3.2861613 (500)\ttotal: 43.1s\tremaining: 11m 44s\n",
      "1000:\tlearn: 3.2744712\ttest: 3.2674289\tbest: 3.2674289 (1000)\ttotal: 1m 27s\tremaining: 11m 10s\n",
      "1500:\tlearn: 3.2426743\ttest: 3.2593933\tbest: 3.2593933 (1500)\ttotal: 2m 11s\tremaining: 10m 32s\n",
      "2000:\tlearn: 3.2142912\ttest: 3.2549026\tbest: 3.2548981 (1998)\ttotal: 2m 57s\tremaining: 9m 53s\n",
      "2500:\tlearn: 3.1891795\ttest: 3.2521966\tbest: 3.2521966 (2500)\ttotal: 3m 43s\tremaining: 9m 12s\n",
      "3000:\tlearn: 3.1653288\ttest: 3.2503829\tbest: 3.2503770 (2998)\ttotal: 4m 29s\tremaining: 8m 30s\n",
      "3500:\tlearn: 3.1431434\ttest: 3.2491464\tbest: 3.2491445 (3498)\ttotal: 5m 14s\tremaining: 7m 47s\n",
      "4000:\tlearn: 3.1207011\ttest: 3.2480419\tbest: 3.2480419 (4000)\ttotal: 6m\tremaining: 7m 3s\n",
      "4500:\tlearn: 3.0994882\ttest: 3.2474540\tbest: 3.2474383 (4466)\ttotal: 6m 47s\tremaining: 6m 19s\n",
      "5000:\tlearn: 3.0787105\ttest: 3.2469442\tbest: 3.2469442 (5000)\ttotal: 7m 33s\tremaining: 5m 34s\n",
      "5500:\tlearn: 3.0583600\ttest: 3.2463641\tbest: 3.2463636 (5491)\ttotal: 8m 19s\tremaining: 4m 49s\n",
      "6000:\tlearn: 3.0386797\ttest: 3.2460567\tbest: 3.2460419 (5977)\ttotal: 9m 5s\tremaining: 4m 4s\n",
      "bestTest = 3.245951003\n",
      "bestIteration = 6155\n",
      "Shrink model to first 6156 iterations.\n",
      "  N trees =  6156\n",
      "\n",
      "Fold  6\n",
      "0:\tlearn: 3.8400792\ttest: 3.8395779\tbest: 3.8395779 (0)\ttotal: 82.6ms\tremaining: 11m 58s\n",
      "500:\tlearn: 3.3188840\ttest: 3.2812713\tbest: 3.2812713 (500)\ttotal: 43.4s\tremaining: 11m 49s\n",
      "1000:\tlearn: 3.2745378\ttest: 3.2628822\tbest: 3.2628822 (1000)\ttotal: 1m 27s\tremaining: 11m 13s\n",
      "1500:\tlearn: 3.2430502\ttest: 3.2556318\tbest: 3.2556318 (1500)\ttotal: 2m 12s\tremaining: 10m 34s\n",
      "2000:\tlearn: 3.2161408\ttest: 3.2516518\tbest: 3.2516518 (2000)\ttotal: 2m 57s\tremaining: 9m 55s\n",
      "2500:\tlearn: 3.1910145\ttest: 3.2490574\tbest: 3.2490574 (2500)\ttotal: 3m 45s\tremaining: 9m 17s\n",
      "3000:\tlearn: 3.1671791\ttest: 3.2471232\tbest: 3.2471232 (3000)\ttotal: 4m 36s\tremaining: 8m 44s\n",
      "3500:\tlearn: 3.1448225\ttest: 3.2457286\tbest: 3.2457215 (3495)\ttotal: 5m 26s\tremaining: 8m 4s\n",
      "4000:\tlearn: 3.1225005\ttest: 3.2447052\tbest: 3.2447052 (4000)\ttotal: 6m 17s\tremaining: 7m 22s\n",
      "4500:\tlearn: 3.1009594\ttest: 3.2440284\tbest: 3.2440284 (4500)\ttotal: 7m 12s\tremaining: 6m 42s\n",
      "5000:\tlearn: 3.0798028\ttest: 3.2435102\tbest: 3.2435102 (5000)\ttotal: 9m 34s\tremaining: 7m 3s\n",
      "5500:\tlearn: 3.0592845\ttest: 3.2429332\tbest: 3.2429218 (5487)\ttotal: 12m 19s\tremaining: 7m 9s\n",
      "6000:\tlearn: 3.0394818\ttest: 3.2426338\tbest: 3.2426150 (5971)\ttotal: 13m 21s\tremaining: 5m 59s\n",
      "bestTest = 3.242572663\n",
      "bestIteration = 6139\n",
      "Shrink model to first 6140 iterations.\n",
      "  N trees =  6140\n",
      "\n",
      "Fold  7\n",
      "0:\tlearn: 3.8400827\ttest: 3.8395303\tbest: 3.8395303 (0)\ttotal: 105ms\tremaining: 15m 8s\n",
      "500:\tlearn: 3.3204654\ttest: 3.2748378\tbest: 3.2748378 (500)\ttotal: 56.4s\tremaining: 15m 23s\n",
      "1000:\tlearn: 3.2766885\ttest: 3.2554989\tbest: 3.2554989 (1000)\ttotal: 1m 53s\tremaining: 14m 34s\n",
      "1500:\tlearn: 3.2448681\ttest: 3.2475527\tbest: 3.2475527 (1500)\ttotal: 2m 52s\tremaining: 13m 45s\n",
      "2000:\tlearn: 3.2169535\ttest: 3.2431894\tbest: 3.2431852 (1999)\ttotal: 4m 26s\tremaining: 14m 52s\n",
      "2500:\tlearn: 3.1918331\ttest: 3.2403086\tbest: 3.2403086 (2500)\ttotal: 6m 11s\tremaining: 15m 18s\n",
      "3000:\tlearn: 3.1673818\ttest: 3.2380927\tbest: 3.2380927 (3000)\ttotal: 7m 2s\tremaining: 13m 22s\n",
      "3500:\tlearn: 3.1449528\ttest: 3.2364957\tbest: 3.2364915 (3498)\ttotal: 7m 56s\tremaining: 11m 46s\n",
      "4000:\tlearn: 3.1228988\ttest: 3.2352047\tbest: 3.2352047 (4000)\ttotal: 8m 49s\tremaining: 10m 20s\n",
      "4500:\tlearn: 3.1015188\ttest: 3.2342057\tbest: 3.2342027 (4498)\ttotal: 9m 44s\tremaining: 9m 4s\n",
      "5000:\tlearn: 3.0813525\ttest: 3.2337346\tbest: 3.2337320 (4958)\ttotal: 10m 39s\tremaining: 7m 52s\n",
      "5500:\tlearn: 3.0609505\ttest: 3.2331526\tbest: 3.2331526 (5500)\ttotal: 11m 33s\tremaining: 6m 42s\n",
      "6000:\tlearn: 3.0411036\ttest: 3.2327336\tbest: 3.2327336 (6000)\ttotal: 12m 27s\tremaining: 5m 35s\n",
      "6500:\tlearn: 3.0210078\ttest: 3.2323561\tbest: 3.2323518 (6499)\ttotal: 13m 21s\tremaining: 4m 30s\n",
      "7000:\tlearn: 3.0018523\ttest: 3.2321068\tbest: 3.2321068 (7000)\ttotal: 14m 14s\tremaining: 3m 26s\n",
      "7500:\tlearn: 2.9831935\ttest: 3.2319477\tbest: 3.2319268 (7484)\ttotal: 15m 2s\tremaining: 2m 23s\n",
      "bestTest = 3.231804092\n",
      "bestIteration = 7850\n",
      "Shrink model to first 7851 iterations.\n",
      "  N trees =  7851\n",
      "\n",
      "Fold  8\n",
      "0:\tlearn: 3.8400844\ttest: 3.8395854\tbest: 3.8395854 (0)\ttotal: 314ms\tremaining: 45m 27s\n",
      "500:\tlearn: 3.3190174\ttest: 3.2782722\tbest: 3.2782722 (500)\ttotal: 2m 3s\tremaining: 33m 46s\n",
      "1000:\tlearn: 3.2753338\ttest: 3.2598300\tbest: 3.2598300 (1000)\ttotal: 2m 52s\tremaining: 22m 5s\n",
      "1500:\tlearn: 3.2437191\ttest: 3.2517102\tbest: 3.2517102 (1500)\ttotal: 3m 36s\tremaining: 17m 19s\n",
      "2000:\tlearn: 3.2166818\ttest: 3.2471429\tbest: 3.2471398 (1999)\ttotal: 4m 21s\tremaining: 14m 35s\n",
      "2500:\tlearn: 3.1920935\ttest: 3.2441375\tbest: 3.2441375 (2500)\ttotal: 5m 6s\tremaining: 12m 39s\n",
      "3000:\tlearn: 3.1682436\ttest: 3.2420733\tbest: 3.2420733 (3000)\ttotal: 5m 51s\tremaining: 11m 7s\n",
      "3500:\tlearn: 3.1452468\ttest: 3.2406102\tbest: 3.2406102 (3500)\ttotal: 6m 36s\tremaining: 9m 48s\n",
      "4000:\tlearn: 3.1233160\ttest: 3.2393604\tbest: 3.2393604 (4000)\ttotal: 7m 21s\tremaining: 8m 38s\n",
      "4500:\tlearn: 3.1024433\ttest: 3.2383985\tbest: 3.2383921 (4498)\ttotal: 8m 6s\tremaining: 7m 33s\n",
      "5000:\tlearn: 3.0813228\ttest: 3.2377881\tbest: 3.2377879 (4992)\ttotal: 8m 58s\tremaining: 6m 37s\n",
      "5500:\tlearn: 3.0611465\ttest: 3.2373149\tbest: 3.2373149 (5500)\ttotal: 10m 5s\tremaining: 5m 51s\n",
      "bestTest = 3.237029282\n",
      "bestIteration = 5687\n",
      "Shrink model to first 5688 iterations.\n",
      "  N trees =  5688\n",
      "\n",
      "Fold  9\n",
      "0:\tlearn: 3.8400618\ttest: 3.8396702\tbest: 3.8396702 (0)\ttotal: 74.2ms\tremaining: 10m 44s\n",
      "500:\tlearn: 3.3177080\ttest: 3.2900201\tbest: 3.2900201 (500)\ttotal: 44.7s\tremaining: 12m 10s\n",
      "1000:\tlearn: 3.2741053\ttest: 3.2717776\tbest: 3.2717776 (1000)\ttotal: 1m 29s\tremaining: 11m 31s\n",
      "1500:\tlearn: 3.2427328\ttest: 3.2644265\tbest: 3.2644265 (1500)\ttotal: 2m 17s\tremaining: 10m 57s\n",
      "2000:\tlearn: 3.2153047\ttest: 3.2601641\tbest: 3.2601641 (2000)\ttotal: 3m 23s\tremaining: 11m 21s\n",
      "2500:\tlearn: 3.1901951\ttest: 3.2573506\tbest: 3.2573436 (2495)\ttotal: 4m 32s\tremaining: 11m 15s\n",
      "3000:\tlearn: 3.1668582\ttest: 3.2554396\tbest: 3.2554396 (3000)\ttotal: 5m 37s\tremaining: 10m 40s\n",
      "3500:\tlearn: 3.1446295\ttest: 3.2540436\tbest: 3.2540425 (3499)\ttotal: 6m 22s\tremaining: 9m 27s\n",
      "4000:\tlearn: 3.1222759\ttest: 3.2530196\tbest: 3.2530196 (4000)\ttotal: 7m 7s\tremaining: 8m 21s\n",
      "4500:\tlearn: 3.1010011\ttest: 3.2522735\tbest: 3.2522735 (4500)\ttotal: 7m 53s\tremaining: 7m 21s\n",
      "5000:\tlearn: 3.0796363\ttest: 3.2516237\tbest: 3.2515994 (4988)\ttotal: 8m 38s\tremaining: 6m 23s\n",
      "5500:\tlearn: 3.0590176\ttest: 3.2512034\tbest: 3.2511763 (5473)\ttotal: 9m 24s\tremaining: 5m 27s\n",
      "6000:\tlearn: 3.0386791\ttest: 3.2505945\tbest: 3.2505945 (6000)\ttotal: 10m 9s\tremaining: 4m 33s\n",
      "6500:\tlearn: 3.0184582\ttest: 3.2503205\tbest: 3.2503087 (6485)\ttotal: 10m 55s\tremaining: 3m 41s\n",
      "bestTest = 3.250263935\n",
      "bestIteration = 6549\n",
      "Shrink model to first 6550 iterations.\n",
      "  N trees =  6550\n"
     ]
    }
   ],
   "source": [
    "from sklearn.model_selection import KFold, StratifiedKFold\n",
    "\n",
    "k = 10 # a number of folds \n",
    "skfold = StratifiedKFold(n_splits=k, shuffle=True, random_state=113)\n",
    "from sklearn.model_selection import GridSearchCV\n",
    "from sklearn.metrics import mean_squared_error\n",
    "from sklearn.metrics import make_scorer\n",
    "from sklearn.metrics import r2_score\n",
    "from catboost import Pool\n",
    "\n",
    "y_valid_pred = 0*y_train\n",
    "y_test_pred = 0\n",
    "\n",
    "FEATURE = ['User-ID', 'Book-Title','Book-Author','Publisher', 'City','State','Country','Age_gb']\n",
    "\n",
    "for i, (train_index, test_index) in enumerate(skfold.split(X_train, y_train)):    \n",
    "    X_train_fold, X_valid_fold = X_train.iloc[train_index], X_train.iloc[test_index]\n",
    "    y_train_fold, y_valid_fold = y_train.iloc[train_index], y_train.iloc[test_index]\n",
    "\n",
    "    train_pool = Pool(data=X_train_fold.astype('int'), label=y_train_fold, cat_features=FEATURE)\n",
    "    valid_pool = Pool(data=X_valid_fold.astype('int'), label=y_valid_fold, cat_features=FEATURE)\n",
    "\n",
    "    print( \"\\nFold \", i)\n",
    "    \n",
    "    fit_model = model.fit(train_pool, \n",
    "                          eval_set=valid_pool,\n",
    "                          use_best_model=True\n",
    "                          )\n",
    "    print( \"  N trees = \", model.tree_count_ )\n",
    "        \n",
    "    # Generate validation predictions for this fold\n",
    "    pred = fit_model.predict(X_valid_fold.astype('int'))\n",
    "    y_valid_pred.iloc[test_index] = pred\n",
    "\n",
    "    def score_model(model,X_train, X_test, y_train, y_test,\n",
    "               show_plot=True):   \n",
    "        y_pred = np.clip(model.predict(X_test.astype('int')),0,10)\n",
    "        print(f\"Test score: {r2_score(y_test, y_pred)}\")\n",
    "        print(\"MSE: \", mean_squared_error(y_test, y_pred))\n",
    "        print(\"RMSE: \", np.sqrt(mean_squared_error(y_test, y_pred)))\n",
    "    \n",
    "        predictions_comparision = pd.DataFrame({'Actual': y_test.tolist(), 'Predicted': y_pred.tolist()}).sample(25)\n",
    "        if show_plot == True:\n",
    "            predictions_comparision.plot(kind=\"bar\", figsize=(12,8),title=\"Actual vs predicted values\")\n",
    "            print(predictions_comparision.sample(10))    \n",
    "    \n",
    "    \n",
    "        return {\n",
    "            \"test_score_r2\" : r2_score(y_test, y_pred),\n",
    "            \"test_score_mse\" : mean_squared_error(y_test, y_pred),\n",
    "            \"test_score_rmse\" : np.sqrt(mean_squared_error(y_test, y_pred))\n",
    "            }\n",
    "    score_model(fit_model, X_train_fold, X_valid_fold, y_train_fold, y_valid_fold, show_plot=True)\n",
    "    \n",
    "    # Predict value Clipping\n",
    "    y_test_pred +=  np.clip(fit_model.predict(x_test[X_valid_fold.columns].astype('int')),0.0,10.0)\n",
    "    \n",
    "y_test_pred /= k  # Average test set predictions\n"
   ]
  },
  {
   "cell_type": "code",
   "execution_count": 13,
   "metadata": {
    "id": "xhCYKygYm7lo",
    "tags": []
   },
   "outputs": [
    {
     "data": {
      "text/html": [
       "<div>\n",
       "<style scoped>\n",
       "    .dataframe tbody tr th:only-of-type {\n",
       "        vertical-align: middle;\n",
       "    }\n",
       "\n",
       "    .dataframe tbody tr th {\n",
       "        vertical-align: top;\n",
       "    }\n",
       "\n",
       "    .dataframe thead th {\n",
       "        text-align: right;\n",
       "    }\n",
       "</style>\n",
       "<table border=\"1\" class=\"dataframe\">\n",
       "  <thead>\n",
       "    <tr style=\"text-align: right;\">\n",
       "      <th></th>\n",
       "      <th>ID</th>\n",
       "      <th>Book-Rating</th>\n",
       "    </tr>\n",
       "  </thead>\n",
       "  <tbody>\n",
       "    <tr>\n",
       "      <th>0</th>\n",
       "      <td>TEST_000000</td>\n",
       "      <td>5.554664</td>\n",
       "    </tr>\n",
       "    <tr>\n",
       "      <th>1</th>\n",
       "      <td>TEST_000001</td>\n",
       "      <td>6.480216</td>\n",
       "    </tr>\n",
       "    <tr>\n",
       "      <th>2</th>\n",
       "      <td>TEST_000002</td>\n",
       "      <td>6.172502</td>\n",
       "    </tr>\n",
       "    <tr>\n",
       "      <th>3</th>\n",
       "      <td>TEST_000003</td>\n",
       "      <td>5.920567</td>\n",
       "    </tr>\n",
       "    <tr>\n",
       "      <th>4</th>\n",
       "      <td>TEST_000004</td>\n",
       "      <td>5.498113</td>\n",
       "    </tr>\n",
       "    <tr>\n",
       "      <th>...</th>\n",
       "      <td>...</td>\n",
       "      <td>...</td>\n",
       "    </tr>\n",
       "    <tr>\n",
       "      <th>159616</th>\n",
       "      <td>TEST_159616</td>\n",
       "      <td>3.600488</td>\n",
       "    </tr>\n",
       "    <tr>\n",
       "      <th>159617</th>\n",
       "      <td>TEST_159617</td>\n",
       "      <td>3.184902</td>\n",
       "    </tr>\n",
       "    <tr>\n",
       "      <th>159618</th>\n",
       "      <td>TEST_159618</td>\n",
       "      <td>3.947215</td>\n",
       "    </tr>\n",
       "    <tr>\n",
       "      <th>159619</th>\n",
       "      <td>TEST_159619</td>\n",
       "      <td>3.686467</td>\n",
       "    </tr>\n",
       "    <tr>\n",
       "      <th>159620</th>\n",
       "      <td>TEST_159620</td>\n",
       "      <td>4.027247</td>\n",
       "    </tr>\n",
       "  </tbody>\n",
       "</table>\n",
       "<p>159621 rows × 2 columns</p>\n",
       "</div>"
      ],
      "text/plain": [
       "                 ID  Book-Rating\n",
       "0       TEST_000000     5.554664\n",
       "1       TEST_000001     6.480216\n",
       "2       TEST_000002     6.172502\n",
       "3       TEST_000003     5.920567\n",
       "4       TEST_000004     5.498113\n",
       "...             ...          ...\n",
       "159616  TEST_159616     3.600488\n",
       "159617  TEST_159617     3.184902\n",
       "159618  TEST_159618     3.947215\n",
       "159619  TEST_159619     3.686467\n",
       "159620  TEST_159620     4.027247\n",
       "\n",
       "[159621 rows x 2 columns]"
      ]
     },
     "execution_count": 13,
     "metadata": {},
     "output_type": "execute_result"
    }
   ],
   "source": [
    "sub = pd.DataFrame()\n",
    "sub['ID'] = test['ID']\n",
    "sub['Book-Rating'] = y_test_pred\n",
    "sub"
   ]
  },
  {
   "cell_type": "code",
   "execution_count": 14,
   "metadata": {
    "id": "InB0B26sp9q0",
    "tags": []
   },
   "outputs": [
    {
     "data": {
      "text/plain": [
       "<Axes: xlabel='Book-Rating', ylabel='Count'>"
      ]
     },
     "execution_count": 14,
     "metadata": {},
     "output_type": "execute_result"
    },
    {
     "data": {
      "image/png": "[encoded data removed]",
      "text/plain": [
       "<Figure size 640x480 with 1 Axes>"
      ]
     },
     "metadata": {},
     "output_type": "display_data"
    }
   ],
   "source": [
    "import seaborn as sns\n",
    "sns.histplot(sub['Book-Rating'])"
   ]
  },
  {
   "cell_type": "code",
   "execution_count": 15,
   "metadata": {
    "id": "oSCK9OVaycG3",
    "tags": []
   },
   "outputs": [],
   "source": [
    "sub.to_csv('submit_cat+10-folds.csv', index=False,encoding=\"utf-8-sig\")"
   ]
  },
  {
   "cell_type": "code",
   "execution_count": null,
   "metadata": {
    "executionInfo": {
     "elapsed": 6,
     "status": "aborted",
     "timestamp": 1682573178995,
     "user": {
      "displayName": "GyeongJun Byeon",
      "userId": "15563492176804444918"
     },
     "user_tz": -540
    },
    "id": "BI7B_YUjy4sD"
   },
   "outputs": [],
   "source": []
  }
 ],
 "metadata": {
  "accelerator": "GPU",
  "colab": {
   "provenance": [
    {
     "file_id": "1SmKK39lZcy99cyIifPSkPsA96eYAFKQo",
     "timestamp": 1682568385116
    }
   ]
  },
  "gpuClass": "standard",
  "kernelspec": {
   "display_name": "Python 3 (ipykernel)",
   "language": "python",
   "name": "python3"
  },
  "language_info": {
   "codemirror_mode": {
    "name": "ipython",
    "version": 3
   },
   "file_extension": ".py",
   "mimetype": "text/x-python",
   "name": "python",
   "nbconvert_exporter": "python",
   "pygments_lexer": "ipython3",
   "version": "3.10.10"
  }
 },
 "nbformat": 4,
 "nbformat_minor": 4
}
