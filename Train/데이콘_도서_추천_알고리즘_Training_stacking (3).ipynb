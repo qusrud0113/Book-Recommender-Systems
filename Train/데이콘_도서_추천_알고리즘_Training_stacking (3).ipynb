{
 "cells": [
  {
   "cell_type": "code",
   "execution_count": 9,
   "metadata": {
    "executionInfo": {
     "elapsed": 1,
     "status": "ok",
     "timestamp": 1682570776482,
     "user": {
      "displayName": "GyeongJun Byeon",
      "userId": "15563492176804444918"
     },
     "user_tz": -540
    },
    "id": "C7aMr6H-DQMx"
   },
   "outputs": [],
   "source": [
    "#!sudo apt-get install -y fonts-nanum\n",
    "#!sudo fc-cache -fv\n",
    "#!rm ~/.cache/matplotlib -rf\n",
    "\n",
    "\n",
    "#티스토리 업로드시 최적화 코드\n",
    "#from IPython.core.display import display, HTML\n",
    "#display(HTML(\"<style>.container {width:90% !important;}</style>\"))"
   ]
  },
  {
   "cell_type": "markdown",
   "metadata": {
    "id": "NvcWabINtkQT"
   },
   "source": [
    "# 2023.04.17\n",
    "# TRAINING\n",
    "Dataset Info.\n",
    "\n",
    "train.csv [파일]\n",
    "\n",
    "    ID : 샘플 고유 ID\n",
    "    User-ID : 유저 고유 ID\n",
    "    Book-ID : 도서 고유 ID\n",
    "    유저 정보\n",
    "    Age : 나이\n",
    "    Location : 지역\n",
    "    도서 정보\n",
    "    Book-Title : 도서 명\n",
    "    Book-Author : 도서 저자\n",
    "    Year-Of-Publication : 도서 출판 년도 (-1일 경우 결측 혹은 알 수 없음)\n",
    "    Publisher : 출판사\n",
    "    Book-Rating : 유저가 도서에 부여한 평점 (0점 ~ 10점)\n",
    "\n",
    "\n",
    "test.csv [파일]\n",
    "\n",
    "    ID : 샘플 고유 ID\n",
    "    User-ID : 유저 고유 ID\n",
    "    Book-ID : 도서 고유 ID\n",
    "    유저 정보\n",
    "    Age : 나이\n",
    "    Location : 지역\n",
    "    도서 정보\n",
    "    Book-Title : 도서 명\n",
    "    Book-Author : 도서 저자\n",
    "    Year-Of-Publication : 도서 출판 년도 (-1일 경우 결측 혹은 알 수 없음)\n",
    "    Publisher : 출판사\n",
    "\n",
    "\n",
    "sample_submission.csv [제출양식]\n",
    "\n",
    "    ID : 샘플 고유 ID\n",
    "    Book-Rating : 예측한 유저가 도서에 부여할 평점"
   ]
  },
  {
   "cell_type": "code",
   "execution_count": 1,
   "metadata": {
    "executionInfo": {
     "elapsed": 3,
     "status": "ok",
     "timestamp": 1682570776911,
     "user": {
      "displayName": "GyeongJun Byeon",
      "userId": "15563492176804444918"
     },
     "user_tz": -540
    },
    "id": "W8gYWePXpsQa",
    "tags": []
   },
   "outputs": [],
   "source": [
    "import pandas as pd"
   ]
  },
  {
   "cell_type": "code",
   "execution_count": 2,
   "metadata": {
    "executionInfo": {
     "elapsed": 3,
     "status": "ok",
     "timestamp": 1682570779705,
     "user": {
      "displayName": "GyeongJun Byeon",
      "userId": "15563492176804444918"
     },
     "user_tz": -540
    },
    "id": "ERnEHYmGrzow",
    "tags": []
   },
   "outputs": [],
   "source": [
    "import numpy as np\n",
    "import random\n",
    "import os\n",
    "import gc"
   ]
  },
  {
   "cell_type": "code",
   "execution_count": 3,
   "metadata": {
    "executionInfo": {
     "elapsed": 4,
     "status": "ok",
     "timestamp": 1682570779706,
     "user": {
      "displayName": "GyeongJun Byeon",
      "userId": "15563492176804444918"
     },
     "user_tz": -540
    },
    "id": "CWVnfmzAr2sW",
    "tags": []
   },
   "outputs": [],
   "source": [
    "def seed_everything(seed):\n",
    "    random.seed(seed)\n",
    "    os.environ['PYTHONHASHSEED'] = str(seed)\n",
    "    np.random.seed(seed)\n",
    "seed_everything(42) # Seed 고정"
   ]
  },
  {
   "cell_type": "code",
   "execution_count": 4,
   "metadata": {
    "executionInfo": {
     "elapsed": 1014,
     "status": "ok",
     "timestamp": 1682570787444,
     "user": {
      "displayName": "GyeongJun Byeon",
      "userId": "15563492176804444918"
     },
     "user_tz": -540
    },
    "id": "6KuLse1csCx7",
    "tags": []
   },
   "outputs": [],
   "source": [
    "train = pd.read_csv('train.csv')\n",
    "test = pd.read_csv( 'test.csv')\n",
    "sample_submission = pd.read_csv('sample_submission.csv', index_col = 0)"
   ]
  },
  {
   "cell_type": "code",
   "execution_count": 5,
   "metadata": {
    "executionInfo": {
     "elapsed": 1382,
     "status": "ok",
     "timestamp": 1682570788824,
     "user": {
      "displayName": "GyeongJun Byeon",
      "userId": "15563492176804444918"
     },
     "user_tz": -540
    },
    "id": "H3NR5fyizqX8",
    "tags": []
   },
   "outputs": [],
   "source": [
    "train['City'] = [(i.split(',')[0]).lstrip().title() for i in train['Location']]\n",
    "train['State'] = [(i.split(',')[1]).lstrip().title() for i in train['Location']]\n",
    "train['Country'] = [(i.split(',')[2]).lstrip().title() for i in train['Location']]"
   ]
  },
  {
   "cell_type": "code",
   "execution_count": 6,
   "metadata": {
    "executionInfo": {
     "elapsed": 437,
     "status": "ok",
     "timestamp": 1682570789260,
     "user": {
      "displayName": "GyeongJun Byeon",
      "userId": "15563492176804444918"
     },
     "user_tz": -540
    },
    "id": "DDZBviNneJGA",
    "tags": []
   },
   "outputs": [],
   "source": [
    "test['City'] = [(i.split(',')[0]).lstrip().title() for i in test['Location']]\n",
    "test['State'] = [(i.split(',')[1]).lstrip().title() for i in test['Location']]\n",
    "test['Country'] = [(i.split(',')[2]).lstrip().title() for i in test['Location']]"
   ]
  },
  {
   "cell_type": "code",
   "execution_count": 20,
   "metadata": {
    "colab": {
     "base_uri": "https://localhost:8080/"
    },
    "executionInfo": {
     "elapsed": 9157,
     "status": "ok",
     "timestamp": 1682570798415,
     "user": {
      "displayName": "GyeongJun Byeon",
      "userId": "15563492176804444918"
     },
     "user_tz": -540
    },
    "id": "pUtz59K59y-A",
    "outputId": "d0f0eb25-b103-4b4c-846a-1ec21fbdffb6"
   },
   "outputs": [
    {
     "name": "stdout",
     "output_type": "stream",
     "text": [
      "Looking in indexes: https://pypi.org/simple, https://us-python.pkg.dev/colab-wheels/public/simple/\n",
      "Collecting catboost\n",
      "  Downloading catboost-1.1.1-cp39-none-manylinux1_x86_64.whl (76.6 MB)\n",
      "\u001b[2K     \u001b[90m━━━━━━━━━━━━━━━━━━━━━━━━━━━━━━━━━━━━━━━━\u001b[0m \u001b[32m76.6/76.6 MB\u001b[0m \u001b[31m12.7 MB/s\u001b[0m eta \u001b[36m0:00:00\u001b[0m\n",
      "\u001b[?25hRequirement already satisfied: matplotlib in /usr/local/lib/python3.9/dist-packages (from catboost) (3.7.1)\n",
      "Requirement already satisfied: six in /usr/local/lib/python3.9/dist-packages (from catboost) (1.16.0)\n",
      "Requirement already satisfied: pandas>=0.24.0 in /usr/local/lib/python3.9/dist-packages (from catboost) (1.5.3)\n",
      "Requirement already satisfied: numpy>=1.16.0 in /usr/local/lib/python3.9/dist-packages (from catboost) (1.22.4)\n",
      "Requirement already satisfied: scipy in /usr/local/lib/python3.9/dist-packages (from catboost) (1.10.1)\n",
      "Requirement already satisfied: graphviz in /usr/local/lib/python3.9/dist-packages (from catboost) (0.20.1)\n",
      "Requirement already satisfied: plotly in /usr/local/lib/python3.9/dist-packages (from catboost) (5.13.1)\n",
      "Requirement already satisfied: pytz>=2020.1 in /usr/local/lib/python3.9/dist-packages (from pandas>=0.24.0->catboost) (2022.7.1)\n",
      "Requirement already satisfied: python-dateutil>=2.8.1 in /usr/local/lib/python3.9/dist-packages (from pandas>=0.24.0->catboost) (2.8.2)\n",
      "Requirement already satisfied: fonttools>=4.22.0 in /usr/local/lib/python3.9/dist-packages (from matplotlib->catboost) (4.39.3)\n",
      "Requirement already satisfied: pillow>=6.2.0 in /usr/local/lib/python3.9/dist-packages (from matplotlib->catboost) (8.4.0)\n",
      "Requirement already satisfied: packaging>=20.0 in /usr/local/lib/python3.9/dist-packages (from matplotlib->catboost) (23.1)\n",
      "Requirement already satisfied: importlib-resources>=3.2.0 in /usr/local/lib/python3.9/dist-packages (from matplotlib->catboost) (5.12.0)\n",
      "Requirement already satisfied: pyparsing>=2.3.1 in /usr/local/lib/python3.9/dist-packages (from matplotlib->catboost) (3.0.9)\n",
      "Requirement already satisfied: contourpy>=1.0.1 in /usr/local/lib/python3.9/dist-packages (from matplotlib->catboost) (1.0.7)\n",
      "Requirement already satisfied: cycler>=0.10 in /usr/local/lib/python3.9/dist-packages (from matplotlib->catboost) (0.11.0)\n",
      "Requirement already satisfied: kiwisolver>=1.0.1 in /usr/local/lib/python3.9/dist-packages (from matplotlib->catboost) (1.4.4)\n",
      "Requirement already satisfied: tenacity>=6.2.0 in /usr/local/lib/python3.9/dist-packages (from plotly->catboost) (8.2.2)\n",
      "Requirement already satisfied: zipp>=3.1.0 in /usr/local/lib/python3.9/dist-packages (from importlib-resources>=3.2.0->matplotlib->catboost) (3.15.0)\n",
      "Installing collected packages: catboost\n",
      "Successfully installed catboost-1.1.1\n"
     ]
    }
   ],
   "source": [
    "!pip install catboost"
   ]
  },
  {
   "cell_type": "code",
   "execution_count": 7,
   "metadata": {
    "executionInfo": {
     "elapsed": 6,
     "status": "ok",
     "timestamp": 1682570798416,
     "user": {
      "displayName": "GyeongJun Byeon",
      "userId": "15563492176804444918"
     },
     "user_tz": -540
    },
    "id": "VKKCf1GQpV1d",
    "tags": []
   },
   "outputs": [],
   "source": [
    "# 나이 그룹화\n",
    "labels = ['0-3','3-6','6-8','8-12','12-18','18-25','25-34','35-44','45-54','55-64','65-74','75+']\n",
    "bins = [0, 3, 6, 8, 12, 18, 25, 34, 44, 54, 64, 74, 250]\n",
    "train['Age_gb'] = pd.cut(train.Age, bins, labels = labels,include_lowest = True)"
   ]
  },
  {
   "cell_type": "code",
   "execution_count": 8,
   "metadata": {
    "executionInfo": {
     "elapsed": 5,
     "status": "ok",
     "timestamp": 1682570798416,
     "user": {
      "displayName": "GyeongJun Byeon",
      "userId": "15563492176804444918"
     },
     "user_tz": -540
    },
    "id": "NmxdeCjUpWHd",
    "tags": []
   },
   "outputs": [],
   "source": [
    "test['Age_gb'] = pd.cut(test.Age, bins, labels = labels,include_lowest = True)"
   ]
  },
  {
   "cell_type": "code",
   "execution_count": 9,
   "metadata": {
    "executionInfo": {
     "elapsed": 7967,
     "status": "ok",
     "timestamp": 1682570806378,
     "user": {
      "displayName": "GyeongJun Byeon",
      "userId": "15563492176804444918"
     },
     "user_tz": -540
    },
    "id": "0PlZEDPBgAzY",
    "tags": []
   },
   "outputs": [],
   "source": [
    "from sklearn.preprocessing import OrdinalEncoder\n",
    "\n",
    "FEATURE = ['User-ID', 'Book-Title','Book-Author','Publisher', 'City','State','Country','Age_gb']\n",
    "\n",
    "train_lb = train.__deepcopy__() \n",
    "test_lb = test.__deepcopy__()\n",
    "\n",
    "train_lb = train_lb.drop(columns = ['Book-ID', 'Location'])\n",
    "test_lb = test_lb.drop(columns = ['Book-ID', 'Location'])\n",
    "\n",
    "train_lb[FEATURE] = train_lb[FEATURE].astype(str) \n",
    "test_lb[FEATURE] = test_lb[FEATURE].astype(str)\n",
    "\n",
    "for i in FEATURE:\n",
    "    # train에는 없고, test에는 있는 원소는 -2 처리\n",
    "    oe = OrdinalEncoder(handle_unknown='use_encoded_value',\n",
    "                         unknown_value=-2)\n",
    "    oe=oe.fit(train_lb[i].to_numpy().reshape(-1, 1))\n",
    "    train_lb[i] = oe.transform(train_lb[i].to_numpy().reshape(-1, 1))\n",
    "    test_lb[i] = oe.transform(test_lb[i].to_numpy().reshape(-1, 1))"
   ]
  },
  {
   "cell_type": "code",
   "execution_count": 10,
   "metadata": {
    "executionInfo": {
     "elapsed": 3,
     "status": "ok",
     "timestamp": 1682570806378,
     "user": {
      "displayName": "GyeongJun Byeon",
      "userId": "15563492176804444918"
     },
     "user_tz": -540
    },
    "id": "cxHlCJXg-ONv",
    "tags": []
   },
   "outputs": [],
   "source": [
    "X_train = train_lb.drop(columns = ['ID','Book-Rating'])\n",
    "y_train = train_lb['Book-Rating']\n",
    "x_test = test_lb.drop(columns = ['ID'])"
   ]
  },
  {
   "cell_type": "code",
   "execution_count": 11,
   "metadata": {
    "executionInfo": {
     "elapsed": 599,
     "status": "ok",
     "timestamp": 1682570806975,
     "user": {
      "displayName": "GyeongJun Byeon",
      "userId": "15563492176804444918"
     },
     "user_tz": -540
    },
    "id": "9hUpk3wQStaJ",
    "tags": []
   },
   "outputs": [],
   "source": [
    "from catboost import CatBoostRegressor \n",
    "\n",
    "model = CatBoostRegressor(random_seed = 113,\n",
    "                          l2_leaf_reg = 0.003426034644149707,\n",
    "                          max_bin = 358,\n",
    "                          subsample = 0.9974697184313627,\n",
    "                          learning_rate = 0.009464402227606937,\n",
    "                          max_depth = 11,\n",
    "                          min_data_in_leaf = 139,\n",
    "                          eval_metric = 'RMSE',\n",
    "                          iterations = 8694,\n",
    "                          task_type='GPU',\n",
    "                          bootstrap_type = 'Poisson',\n",
    "                          early_stopping_rounds = 100,\n",
    "                          verbose=500\n",
    "                          )"
   ]
  },
  {
   "cell_type": "code",
   "execution_count": 14,
   "metadata": {
    "tags": []
   },
   "outputs": [
    {
     "name": "stderr",
     "output_type": "stream",
     "text": [
      "\u001b[32m[I 2023-04-28 11:07:25,842]\u001b[0m A new study created in memory with name: Xgboost Optuna\u001b[0m\n",
      "\u001b[32m[I 2023-04-28 11:08:35,492]\u001b[0m Trial 0 finished with value: 3.432492487684231 and parameters: {'lambda': 0.08534656378027873, 'alpha': 0.07482969524341769, 'colsample_bytree': 0.3, 'subsample': 0.7, 'learning_rate': 0.02, 'n_estimators': 17000, 'max_depth': 13, 'random_state': 113, 'min_child_weight': 84}. Best is trial 0 with value: 3.432492487684231.\u001b[0m\n",
      "\u001b[32m[I 2023-04-28 11:09:11,148]\u001b[0m Trial 1 finished with value: 3.430621570940563 and parameters: {'lambda': 0.053046496177405235, 'alpha': 0.2600977536747163, 'colsample_bytree': 1.0, 'subsample': 0.8, 'learning_rate': 0.016, 'n_estimators': 2991, 'max_depth': 11, 'random_state': 113, 'min_child_weight': 206}. Best is trial 1 with value: 3.430621570940563.\u001b[0m\n",
      "\u001b[32m[I 2023-04-28 11:09:54,705]\u001b[0m Trial 2 finished with value: 3.4801014418334204 and parameters: {'lambda': 0.08386773236732104, 'alpha': 0.7738470945799337, 'colsample_bytree': 0.8, 'subsample': 0.5, 'learning_rate': 0.008, 'n_estimators': 6910, 'max_depth': 7, 'random_state': 113, 'min_child_weight': 65}. Best is trial 1 with value: 3.430621570940563.\u001b[0m\n",
      "\u001b[32m[I 2023-04-28 11:10:31,465]\u001b[0m Trial 3 finished with value: 3.539940587872536 and parameters: {'lambda': 0.0982762119012496, 'alpha': 0.45368562818703095, 'colsample_bytree': 0.6, 'subsample': 0.7, 'learning_rate': 0.012, 'n_estimators': 8155, 'max_depth': 5, 'random_state': 113, 'min_child_weight': 234}. Best is trial 1 with value: 3.430621570940563.\u001b[0m\n",
      "\u001b[32m[I 2023-04-28 11:11:16,428]\u001b[0m Trial 4 finished with value: 3.5284088416426034 and parameters: {'lambda': 0.06963934688761368, 'alpha': 0.6669581338327315, 'colsample_bytree': 0.6, 'subsample': 0.6, 'learning_rate': 0.014, 'n_estimators': 9956, 'max_depth': 5, 'random_state': 113, 'min_child_weight': 275}. Best is trial 1 with value: 3.430621570940563.\u001b[0m\n",
      "\u001b[32m[I 2023-04-28 11:12:37,381]\u001b[0m Trial 5 finished with value: 3.419737567589083 and parameters: {'lambda': 0.008703273774719009, 'alpha': 0.808706595589642, 'colsample_bytree': 1.0, 'subsample': 0.8, 'learning_rate': 0.014, 'n_estimators': 24454, 'max_depth': 9, 'random_state': 113, 'min_child_weight': 148}. Best is trial 5 with value: 3.419737567589083.\u001b[0m\n",
      "\u001b[32m[I 2023-04-28 11:13:16,326]\u001b[0m Trial 6 finished with value: 3.5435435918292075 and parameters: {'lambda': 0.03276345140174843, 'alpha': 0.6595357937816109, 'colsample_bytree': 0.8, 'subsample': 0.7, 'learning_rate': 0.008, 'n_estimators': 8621, 'max_depth': 5, 'random_state': 113, 'min_child_weight': 206}. Best is trial 5 with value: 3.419737567589083.\u001b[0m\n",
      "\u001b[32m[I 2023-04-28 11:14:43,236]\u001b[0m Trial 7 finished with value: 3.3662999148850203 and parameters: {'lambda': 0.08603739471973224, 'alpha': 0.7397547300990835, 'colsample_bytree': 0.7, 'subsample': 1.0, 'learning_rate': 0.016, 'n_estimators': 6683, 'max_depth': 15, 'random_state': 113, 'min_child_weight': 9}. Best is trial 7 with value: 3.3662999148850203.\u001b[0m\n",
      "\u001b[32m[I 2023-04-28 11:16:08,803]\u001b[0m Trial 8 finished with value: 3.4616965916408637 and parameters: {'lambda': 0.01530154982219405, 'alpha': 0.9710815701685082, 'colsample_bytree': 0.5, 'subsample': 0.7, 'learning_rate': 0.01, 'n_estimators': 13833, 'max_depth': 7, 'random_state': 113, 'min_child_weight': 201}. Best is trial 7 with value: 3.3662999148850203.\u001b[0m\n",
      "\u001b[32m[I 2023-04-28 11:18:02,369]\u001b[0m Trial 9 finished with value: 3.4505451830228 and parameters: {'lambda': 0.05082084594198989, 'alpha': 0.5756454088679681, 'colsample_bytree': 0.5, 'subsample': 0.7, 'learning_rate': 0.018, 'n_estimators': 24881, 'max_depth': 5, 'random_state': 113, 'min_child_weight': 31}. Best is trial 7 with value: 3.3662999148850203.\u001b[0m\n",
      "\u001b[32m[I 2023-04-28 11:18:42,955]\u001b[0m Trial 10 finished with value: 3.4025612828820444 and parameters: {'lambda': 0.0662952813948752, 'alpha': 0.3955448334147299, 'colsample_bytree': 0.7, 'subsample': 1.0, 'learning_rate': 0.016, 'n_estimators': 1756, 'max_depth': 15, 'random_state': 113, 'min_child_weight': 124}. Best is trial 7 with value: 3.3662999148850203.\u001b[0m\n",
      "\u001b[32m[I 2023-04-28 11:20:32,681]\u001b[0m Trial 11 finished with value: 3.3670764402218136 and parameters: {'lambda': 0.06775604705873879, 'alpha': 0.40268561040468964, 'colsample_bytree': 0.7, 'subsample': 1.0, 'learning_rate': 0.016, 'n_estimators': 1263, 'max_depth': 15, 'random_state': 113, 'min_child_weight': 2}. Best is trial 7 with value: 3.3662999148850203.\u001b[0m\n",
      "\u001b[32m[I 2023-04-28 11:22:07,989]\u001b[0m Trial 12 finished with value: 3.366119367830656 and parameters: {'lambda': 0.07103838754786801, 'alpha': 0.3431708503623965, 'colsample_bytree': 0.7, 'subsample': 1.0, 'learning_rate': 0.016, 'n_estimators': 4060, 'max_depth': 15, 'random_state': 113, 'min_child_weight': 5}. Best is trial 12 with value: 3.366119367830656.\u001b[0m\n",
      "\u001b[32m[I 2023-04-28 11:23:26,972]\u001b[0m Trial 13 finished with value: 3.3829932422342703 and parameters: {'lambda': 0.09750805150469526, 'alpha': 0.2417597719874482, 'colsample_bytree': 0.9, 'subsample': 1.0, 'learning_rate': 0.016, 'n_estimators': 4910, 'max_depth': 17, 'random_state': 113, 'min_child_weight': 8}. Best is trial 12 with value: 3.366119367830656.\u001b[0m\n",
      "\u001b[32m[I 2023-04-28 11:24:35,693]\u001b[0m Trial 14 finished with value: 3.414894301404456 and parameters: {'lambda': 0.08173889940840176, 'alpha': 0.4972220118242108, 'colsample_bytree': 0.7, 'subsample': 0.4, 'learning_rate': 0.016, 'n_estimators': 12528, 'max_depth': 15, 'random_state': 113, 'min_child_weight': 65}. Best is trial 12 with value: 3.366119367830656.\u001b[0m\n",
      "\u001b[32m[I 2023-04-28 11:26:16,268]\u001b[0m Trial 15 finished with value: 3.394811831286154 and parameters: {'lambda': 0.0384348715386394, 'alpha': 0.9747108665579424, 'colsample_bytree': 0.4, 'subsample': 1.0, 'learning_rate': 0.012, 'n_estimators': 5387, 'max_depth': 15, 'random_state': 113, 'min_child_weight': 104}. Best is trial 12 with value: 3.366119367830656.\u001b[0m\n",
      "\u001b[32m[I 2023-04-28 11:28:07,330]\u001b[0m Trial 16 finished with value: 3.375333242826045 and parameters: {'lambda': 0.0757442349056288, 'alpha': 0.026286737635164703, 'colsample_bytree': 0.7, 'subsample': 1.0, 'learning_rate': 0.01, 'n_estimators': 11157, 'max_depth': 15, 'random_state': 113, 'min_child_weight': 41}. Best is trial 12 with value: 3.366119367830656.\u001b[0m\n",
      "\u001b[32m[I 2023-04-28 11:29:02,375]\u001b[0m Trial 17 finished with value: 3.396690741313364 and parameters: {'lambda': 0.060097574910616174, 'alpha': 0.31141212518869416, 'colsample_bytree': 0.7, 'subsample': 0.5, 'learning_rate': 0.018, 'n_estimators': 16655, 'max_depth': 17, 'random_state': 113, 'min_child_weight': 38}. Best is trial 12 with value: 3.366119367830656.\u001b[0m\n",
      "\u001b[32m[I 2023-04-28 11:29:37,987]\u001b[0m Trial 18 finished with value: 3.4558783124847547 and parameters: {'lambda': 0.09051289280778846, 'alpha': 0.5546204167661305, 'colsample_bytree': 0.4, 'subsample': 0.6, 'learning_rate': 0.02, 'n_estimators': 4150, 'max_depth': 9, 'random_state': 113, 'min_child_weight': 140}. Best is trial 12 with value: 3.366119367830656.\u001b[0m\n",
      "\u001b[32m[I 2023-04-28 11:30:30,707]\u001b[0m Trial 19 finished with value: 3.436185566529868 and parameters: {'lambda': 0.07837499576061367, 'alpha': 0.15279719719247242, 'colsample_bytree': 0.9, 'subsample': 0.4, 'learning_rate': 0.016, 'n_estimators': 6437, 'max_depth': 11, 'random_state': 113, 'min_child_weight': 95}. Best is trial 12 with value: 3.366119367830656.\u001b[0m\n",
      "\u001b[32m[I 2023-04-28 11:32:09,705]\u001b[0m Trial 20 finished with value: 3.4396198327787233 and parameters: {'lambda': 0.08951684361516198, 'alpha': 0.3692312670707074, 'colsample_bytree': 0.3, 'subsample': 1.0, 'learning_rate': 0.016, 'n_estimators': 21045, 'max_depth': 13, 'random_state': 113, 'min_child_weight': 175}. Best is trial 12 with value: 3.366119367830656.\u001b[0m\n",
      "\u001b[32m[I 2023-04-28 11:33:50,910]\u001b[0m Trial 21 finished with value: 3.367422051097638 and parameters: {'lambda': 0.0713016611151638, 'alpha': 0.40683217875682126, 'colsample_bytree': 0.7, 'subsample': 1.0, 'learning_rate': 0.016, 'n_estimators': 1149, 'max_depth': 15, 'random_state': 113, 'min_child_weight': 2}. Best is trial 12 with value: 3.366119367830656.\u001b[0m\n",
      "\u001b[32m[I 2023-04-28 11:35:01,318]\u001b[0m Trial 22 finished with value: 3.3728187075565255 and parameters: {'lambda': 0.06137424487337838, 'alpha': 0.31390951432324066, 'colsample_bytree': 0.7, 'subsample': 1.0, 'learning_rate': 0.016, 'n_estimators': 3275, 'max_depth': 15, 'random_state': 113, 'min_child_weight': 23}. Best is trial 12 with value: 3.366119367830656.\u001b[0m\n",
      "\u001b[32m[I 2023-04-28 11:35:34,979]\u001b[0m Trial 23 finished with value: 3.3962661951460147 and parameters: {'lambda': 0.07415988648280833, 'alpha': 0.5007272276397767, 'colsample_bytree': 0.7, 'subsample': 1.0, 'learning_rate': 0.016, 'n_estimators': 1105, 'max_depth': 15, 'random_state': 113, 'min_child_weight': 66}. Best is trial 12 with value: 3.366119367830656.\u001b[0m\n",
      "\u001b[32m[I 2023-04-28 11:37:04,586]\u001b[0m Trial 24 finished with value: 3.3671910518283834 and parameters: {'lambda': 0.06579247616584834, 'alpha': 0.16768232653160375, 'colsample_bytree': 0.7, 'subsample': 1.0, 'learning_rate': 0.016, 'n_estimators': 3577, 'max_depth': 15, 'random_state': 113, 'min_child_weight': 6}. Best is trial 12 with value: 3.366119367830656.\u001b[0m\n",
      "\u001b[32m[I 2023-04-28 11:38:17,785]\u001b[0m Trial 25 finished with value: 3.3763274455794736 and parameters: {'lambda': 0.07702438380102175, 'alpha': 0.37959193281089293, 'colsample_bytree': 0.7, 'subsample': 1.0, 'learning_rate': 0.016, 'n_estimators': 7179, 'max_depth': 15, 'random_state': 113, 'min_child_weight': 44}. Best is trial 12 with value: 3.366119367830656.\u001b[0m\n",
      "\u001b[32m[I 2023-04-28 11:39:09,635]\u001b[0m Trial 26 finished with value: 3.3814462966933143 and parameters: {'lambda': 0.06045950009134713, 'alpha': 0.46392295506775383, 'colsample_bytree': 0.7, 'subsample': 1.0, 'learning_rate': 0.02, 'n_estimators': 5662, 'max_depth': 15, 'random_state': 113, 'min_child_weight': 57}. Best is trial 12 with value: 3.366119367830656.\u001b[0m\n",
      "\u001b[32m[I 2023-04-28 11:40:32,129]\u001b[0m Trial 27 finished with value: 3.380858843482531 and parameters: {'lambda': 0.09000607342806355, 'alpha': 0.5582038572715171, 'colsample_bytree': 0.7, 'subsample': 0.6, 'learning_rate': 0.012, 'n_estimators': 9702, 'max_depth': 15, 'random_state': 113, 'min_child_weight': 19}. Best is trial 12 with value: 3.366119367830656.\u001b[0m\n",
      "\u001b[32m[I 2023-04-28 11:41:02,316]\u001b[0m Trial 28 finished with value: 3.493088638604543 and parameters: {'lambda': 0.07261224103828778, 'alpha': 0.3387775205800272, 'colsample_bytree': 0.6, 'subsample': 0.8, 'learning_rate': 0.008, 'n_estimators': 2613, 'max_depth': 11, 'random_state': 113, 'min_child_weight': 295}. Best is trial 12 with value: 3.366119367830656.\u001b[0m\n",
      "\u001b[32m[I 2023-04-28 11:43:00,972]\u001b[0m Trial 29 finished with value: 3.4456237382982704 and parameters: {'lambda': 0.08202066431033513, 'alpha': 0.11184041425755234, 'colsample_bytree': 0.3, 'subsample': 0.4, 'learning_rate': 0.01, 'n_estimators': 15208, 'max_depth': 13, 'random_state': 113, 'min_child_weight': 83}. Best is trial 12 with value: 3.366119367830656.\u001b[0m\n",
      "\u001b[32m[I 2023-04-28 11:43:47,153]\u001b[0m Trial 30 finished with value: 3.423975174821306 and parameters: {'lambda': 0.0870631634800081, 'alpha': 0.23569239248313292, 'colsample_bytree': 0.9, 'subsample': 0.5, 'learning_rate': 0.018, 'n_estimators': 4625, 'max_depth': 17, 'random_state': 113, 'min_child_weight': 113}. Best is trial 12 with value: 3.366119367830656.\u001b[0m\n",
      "\u001b[32m[I 2023-04-28 11:45:44,237]\u001b[0m Trial 31 finished with value: 3.366431359004869 and parameters: {'lambda': 0.0690962963192403, 'alpha': 0.2008590967910703, 'colsample_bytree': 0.7, 'subsample': 1.0, 'learning_rate': 0.016, 'n_estimators': 3879, 'max_depth': 15, 'random_state': 113, 'min_child_weight': 3}. Best is trial 12 with value: 3.366119367830656.\u001b[0m\n",
      "\u001b[32m[I 2023-04-28 11:46:47,706]\u001b[0m Trial 32 finished with value: 3.391501831994057 and parameters: {'lambda': 0.05733502115026515, 'alpha': 0.2686812879855279, 'colsample_bytree': 1.0, 'subsample': 1.0, 'learning_rate': 0.016, 'n_estimators': 2463, 'max_depth': 15, 'random_state': 113, 'min_child_weight': 14}. Best is trial 12 with value: 3.366119367830656.\u001b[0m\n",
      "\u001b[32m[I 2023-04-28 11:47:49,914]\u001b[0m Trial 33 finished with value: 3.3762221384302236 and parameters: {'lambda': 0.06675418347060526, 'alpha': 0.19084336902521365, 'colsample_bytree': 0.7, 'subsample': 1.0, 'learning_rate': 0.016, 'n_estimators': 7260, 'max_depth': 15, 'random_state': 113, 'min_child_weight': 30}. Best is trial 12 with value: 3.366119367830656.\u001b[0m\n",
      "\u001b[32m[I 2023-04-28 11:48:21,164]\u001b[0m Trial 34 finished with value: 3.422701506068244 and parameters: {'lambda': 0.0793635334464204, 'alpha': 0.10568634875743321, 'colsample_bytree': 0.8, 'subsample': 1.0, 'learning_rate': 0.016, 'n_estimators': 3523, 'max_depth': 9, 'random_state': 113, 'min_child_weight': 78}. Best is trial 12 with value: 3.366119367830656.\u001b[0m\n",
      "\u001b[32m[I 2023-04-28 11:49:14,640]\u001b[0m Trial 35 finished with value: 3.4318656559511633 and parameters: {'lambda': 0.06979755074975579, 'alpha': 0.2940405314303164, 'colsample_bytree': 0.7, 'subsample': 0.8, 'learning_rate': 0.014, 'n_estimators': 8550, 'max_depth': 7, 'random_state': 113, 'min_child_weight': 47}. Best is trial 12 with value: 3.366119367830656.\u001b[0m\n",
      "\u001b[32m[I 2023-04-28 11:51:13,385]\u001b[0m Trial 36 finished with value: 3.37579307638925 and parameters: {'lambda': 0.08371733238901168, 'alpha': 0.2159211943604144, 'colsample_bytree': 0.4, 'subsample': 1.0, 'learning_rate': 0.016, 'n_estimators': 6186, 'max_depth': 13, 'random_state': 113, 'min_child_weight': 2}. Best is trial 12 with value: 3.366119367830656.\u001b[0m\n",
      "\u001b[32m[I 2023-04-28 11:51:52,911]\u001b[0m Trial 37 finished with value: 3.405550297957311 and parameters: {'lambda': 0.05447756575623673, 'alpha': 0.004788362336755614, 'colsample_bytree': 1.0, 'subsample': 0.5, 'learning_rate': 0.02, 'n_estimators': 2300, 'max_depth': 15, 'random_state': 113, 'min_child_weight': 23}. Best is trial 12 with value: 3.366119367830656.\u001b[0m\n",
      "\u001b[32m[I 2023-04-28 11:54:21,152]\u001b[0m Trial 38 finished with value: 3.401882195776919 and parameters: {'lambda': 0.06373815584855139, 'alpha': 0.41362283128409405, 'colsample_bytree': 0.5, 'subsample': 0.6, 'learning_rate': 0.008, 'n_estimators': 20682, 'max_depth': 11, 'random_state': 113, 'min_child_weight': 56}. Best is trial 12 with value: 3.366119367830656.\u001b[0m\n",
      "\u001b[32m[I 2023-04-28 11:55:19,226]\u001b[0m Trial 39 finished with value: 3.4572490568127052 and parameters: {'lambda': 0.07395783770600999, 'alpha': 0.2603235054238806, 'colsample_bytree': 0.6, 'subsample': 1.0, 'learning_rate': 0.014, 'n_estimators': 9845, 'max_depth': 7, 'random_state': 113, 'min_child_weight': 251}. Best is trial 12 with value: 3.366119367830656.\u001b[0m\n",
      "\u001b[32m[I 2023-04-28 11:55:39,422]\u001b[0m Trial 40 finished with value: 3.5491918758277765 and parameters: {'lambda': 0.04512382744074028, 'alpha': 0.35017582687489623, 'colsample_bytree': 0.8, 'subsample': 0.7, 'learning_rate': 0.012, 'n_estimators': 4411, 'max_depth': 5, 'random_state': 113, 'min_child_weight': 27}. Best is trial 12 with value: 3.366119367830656.\u001b[0m\n",
      "\u001b[32m[I 2023-04-28 11:57:38,178]\u001b[0m Trial 41 finished with value: 3.3667453544614365 and parameters: {'lambda': 0.06730741950864182, 'alpha': 0.1687373809947048, 'colsample_bytree': 0.7, 'subsample': 1.0, 'learning_rate': 0.016, 'n_estimators': 3435, 'max_depth': 15, 'random_state': 113, 'min_child_weight': 3}. Best is trial 12 with value: 3.366119367830656.\u001b[0m\n",
      "\u001b[32m[I 2023-04-28 11:58:51,841]\u001b[0m Trial 42 finished with value: 3.3688850946526827 and parameters: {'lambda': 0.07042824671201404, 'alpha': 0.1918957976136306, 'colsample_bytree': 0.7, 'subsample': 1.0, 'learning_rate': 0.016, 'n_estimators': 2302, 'max_depth': 15, 'random_state': 113, 'min_child_weight': 15}. Best is trial 12 with value: 3.366119367830656.\u001b[0m\n",
      "\u001b[32m[I 2023-04-28 12:00:48,387]\u001b[0m Trial 43 finished with value: 3.365888728651448 and parameters: {'lambda': 0.05576344920852407, 'alpha': 0.28724065047316105, 'colsample_bytree': 0.7, 'subsample': 1.0, 'learning_rate': 0.016, 'n_estimators': 7488, 'max_depth': 15, 'random_state': 113, 'min_child_weight': 3}. Best is trial 43 with value: 3.365888728651448.\u001b[0m\n",
      "\u001b[32m[I 2023-04-28 12:01:58,986]\u001b[0m Trial 44 finished with value: 3.399995329593976 and parameters: {'lambda': 0.05538841356133578, 'alpha': 0.2831181605089276, 'colsample_bytree': 0.7, 'subsample': 1.0, 'learning_rate': 0.016, 'n_estimators': 8124, 'max_depth': 15, 'random_state': 113, 'min_child_weight': 176}. Best is trial 43 with value: 3.365888728651448.\u001b[0m\n",
      "\u001b[32m[I 2023-04-28 12:03:28,685]\u001b[0m Trial 45 finished with value: 3.415677412157789 and parameters: {'lambda': 0.04774090940714401, 'alpha': 0.1416343627196658, 'colsample_bytree': 0.3, 'subsample': 0.8, 'learning_rate': 0.016, 'n_estimators': 7821, 'max_depth': 15, 'random_state': 113, 'min_child_weight': 36}. Best is trial 43 with value: 3.365888728651448.\u001b[0m\n",
      "\u001b[32m[I 2023-04-28 12:04:17,888]\u001b[0m Trial 46 finished with value: 3.402474660558557 and parameters: {'lambda': 0.05184339367513373, 'alpha': 0.06476095058219508, 'colsample_bytree': 0.7, 'subsample': 1.0, 'learning_rate': 0.016, 'n_estimators': 5588, 'max_depth': 9, 'random_state': 113, 'min_child_weight': 54}. Best is trial 43 with value: 3.365888728651448.\u001b[0m\n",
      "\u001b[32m[I 2023-04-28 12:06:16,056]\u001b[0m Trial 47 finished with value: 3.37205346629122 and parameters: {'lambda': 0.06402514030460019, 'alpha': 0.19402450727821882, 'colsample_bytree': 0.5, 'subsample': 0.7, 'learning_rate': 0.01, 'n_estimators': 10886, 'max_depth': 15, 'random_state': 113, 'min_child_weight': 18}. Best is trial 43 with value: 3.365888728651448.\u001b[0m\n",
      "\u001b[32m[I 2023-04-28 12:07:11,360]\u001b[0m Trial 48 finished with value: 3.462255868766186 and parameters: {'lambda': 0.05785823144311553, 'alpha': 0.22809050086019456, 'colsample_bytree': 0.7, 'subsample': 1.0, 'learning_rate': 0.018, 'n_estimators': 12687, 'max_depth': 5, 'random_state': 113, 'min_child_weight': 71}. Best is trial 43 with value: 3.365888728651448.\u001b[0m\n",
      "\u001b[32m[I 2023-04-28 12:08:08,074]\u001b[0m Trial 49 finished with value: 3.403595105176867 and parameters: {'lambda': 0.0673027320419299, 'alpha': 0.7823844277649976, 'colsample_bytree': 0.7, 'subsample': 0.4, 'learning_rate': 0.016, 'n_estimators': 6523, 'max_depth': 15, 'random_state': 113, 'min_child_weight': 30}. Best is trial 43 with value: 3.365888728651448.\u001b[0m\n"
     ]
    }
   ],
   "source": [
    "import optuna \n",
    "from optuna.samplers import TPESampler\n",
    "from sklearn.model_selection import train_test_split\n",
    "from sklearn.metrics import mean_squared_error\n",
    "from xgboost import XGBRegressor\n",
    "\n",
    "sampler = TPESampler(seed = 113)\n",
    "def objective(trial):\n",
    "    FEATURE = ['User-ID', 'Book-Title','Book-Author','Publisher', 'City','State','Country','Age_gb']\n",
    "    train_x, test_x, train_y, test_y = train_test_split(X_train[FEATURE], y_train, test_size=0.2,random_state=42)\n",
    "    param = {\n",
    "        'tree_method':'gpu_hist',\n",
    "        'gpu_id':0,\n",
    "        'lambda': trial.suggest_float('lambda', 1e-3, 0.1),\n",
    "        'alpha': trial.suggest_float('alpha', 1e-3, 1.0),\n",
    "        'colsample_bytree': trial.suggest_categorical('colsample_bytree', [0.3,0.4,0.5,0.6,0.7,0.8,0.9, 1.0]),\n",
    "        'subsample': trial.suggest_categorical('subsample', [0.4,0.5,0.6,0.7,0.8,1.0]),\n",
    "        'learning_rate': trial.suggest_categorical('learning_rate', [0.008,0.01,0.012,0.014,0.016,0.018, 0.02]),\n",
    "        'n_estimators': trial.suggest_int(\"n_estimators\", 1000, 25000),\n",
    "        'max_depth': trial.suggest_categorical('max_depth', [5,7,9,11,13,15,17]),\n",
    "        'random_state': trial.suggest_categorical('random_state', [113]),\n",
    "        'min_child_weight': trial.suggest_int('min_child_weight', 2, 300),\n",
    "        'eval_metric' : 'rmse',\n",
    "        'early_stopping_rounds' : 100\n",
    "    }\n",
    "    model =XGBRegressor(**param)  \n",
    "    \n",
    "    model.fit(train_x,train_y,eval_set=[(test_x,test_y)], verbose=False)\n",
    "    \n",
    "    preds = np.clip(model.predict(test_x[FEATURE]),0,10)\n",
    "    \n",
    "    rmse = mean_squared_error(test_y, preds, squared=False)\n",
    "    \n",
    "    return rmse\n",
    "          \n",
    "study_xgb = optuna.create_study(\n",
    "    direction='minimize',\n",
    "    study_name = 'Xgboost Optuna', \n",
    "    sampler=sampler\n",
    ")\n",
    "study_xgb.optimize(objective, n_trials=1000, timeout = 3600*1)"
   ]
  },
  {
   "cell_type": "code",
   "execution_count": 12,
   "metadata": {
    "tags": []
   },
   "outputs": [
    {
     "ename": "NameError",
     "evalue": "name 'study_xgb' is not defined",
     "output_type": "error",
     "traceback": [
      "\u001b[0;31m---------------------------------------------------------------------------\u001b[0m",
      "\u001b[0;31mNameError\u001b[0m                                 Traceback (most recent call last)",
      "Cell \u001b[0;32mIn[12], line 1\u001b[0m\n\u001b[0;32m----> 1\u001b[0m trial_xgb \u001b[38;5;241m=\u001b[39m \u001b[43mstudy_xgb\u001b[49m\u001b[38;5;241m.\u001b[39mbest_trial\n\u001b[1;32m      2\u001b[0m xgb_params \u001b[38;5;241m=\u001b[39m trial_xgb\u001b[38;5;241m.\u001b[39mparams\n",
      "\u001b[0;31mNameError\u001b[0m: name 'study_xgb' is not defined"
     ]
    }
   ],
   "source": [
    "trial_xgb = study_xgb.best_trial\n",
    "xgb_params = trial_xgb.params"
   ]
  },
  {
   "cell_type": "code",
   "execution_count": 13,
   "metadata": {
    "tags": []
   },
   "outputs": [],
   "source": [
    "xgb_params = {'lambda': 0.05576344920852407, 'alpha': 0.28724065047316105, 'colsample_bytree': 0.7, 'subsample': 1.0, 'learning_rate': 0.016, 'n_estimators': 7488, 'max_depth': 15, 'random_state': 113, 'min_child_weight': 3}"
   ]
  },
  {
   "cell_type": "code",
   "execution_count": 14,
   "metadata": {
    "tags": []
   },
   "outputs": [],
   "source": [
    "xgb_params['random_state'] = 113\n",
    "xgb_params['tree_method'] = 'gpu_hist'\n",
    "xgb_params['eval_metric'] = 'rmse'\n",
    "xgb_params['gpu_id'] = 0"
   ]
  },
  {
   "cell_type": "code",
   "execution_count": 18,
   "metadata": {
    "tags": []
   },
   "outputs": [],
   "source": [
    "from cuml.ensemble import RandomForestRegressor as curfr\n",
    "from xgboost import XGBRegressor\n",
    "\n",
    "model2 = curfr(n_streams=1, n_estimators = 3000 , random_state=113 )\n",
    "model3 = XGBRegressor(**xgb_params)\n",
    "#other catboost\n",
    "model4 = CatBoostRegressor(random_seed = 113,\n",
    "                          l2_leaf_reg = 17.178091468605494,\n",
    "                          max_bin = 348,\n",
    "                          learning_rate = 0.007058948631189331,\n",
    "                          max_depth = 11,\n",
    "                          min_data_in_leaf = 118,\n",
    "                          iterations = 24635,\n",
    "                          subsample = 0.9984770090737676,\n",
    "                          eval_metric = 'RMSE',\n",
    "                          task_type='GPU',\n",
    "                          bootstrap_type = 'Poisson',\n",
    "                          verbose=500\n",
    "                          )\n",
    "model5 = curfr(n_streams=1 , n_estimators = 1000, max_depth=9, random_state=113)"
   ]
  },
  {
   "cell_type": "code",
   "execution_count": 20,
   "metadata": {
    "tags": []
   },
   "outputs": [
    {
     "name": "stdout",
     "output_type": "stream",
     "text": [
      "Collecting mlxtend\n",
      "  Downloading mlxtend-0.22.0-py2.py3-none-any.whl (1.4 MB)\n",
      "\u001b[2K     \u001b[90m━━━━━━━━━━━━━━━━━━━━━━━━━━━━━━━━━━━━━━━━\u001b[0m \u001b[32m1.4/1.4 MB\u001b[0m \u001b[31m10.1 MB/s\u001b[0m eta \u001b[36m0:00:00\u001b[0ma \u001b[36m0:00:01\u001b[0m\n",
      "\u001b[?25hRequirement already satisfied: scipy>=1.2.1 in ./miniconda3/envs/rapids-23.04/lib/python3.10/site-packages (from mlxtend) (1.10.1)\n",
      "Requirement already satisfied: numpy>=1.16.2 in ./miniconda3/envs/rapids-23.04/lib/python3.10/site-packages (from mlxtend) (1.23.5)\n",
      "Requirement already satisfied: pandas>=0.24.2 in ./miniconda3/envs/rapids-23.04/lib/python3.10/site-packages (from mlxtend) (1.5.3)\n",
      "Requirement already satisfied: scikit-learn>=1.0.2 in ./miniconda3/envs/rapids-23.04/lib/python3.10/site-packages (from mlxtend) (1.2.2)\n",
      "Requirement already satisfied: matplotlib>=3.0.0 in ./miniconda3/envs/rapids-23.04/lib/python3.10/site-packages (from mlxtend) (3.7.1)\n",
      "Requirement already satisfied: joblib>=0.13.2 in ./miniconda3/envs/rapids-23.04/lib/python3.10/site-packages (from mlxtend) (1.2.0)\n",
      "Requirement already satisfied: setuptools in ./miniconda3/envs/rapids-23.04/lib/python3.10/site-packages (from mlxtend) (67.6.1)\n",
      "Requirement already satisfied: contourpy>=1.0.1 in ./miniconda3/envs/rapids-23.04/lib/python3.10/site-packages (from matplotlib>=3.0.0->mlxtend) (1.0.7)\n",
      "Requirement already satisfied: cycler>=0.10 in ./miniconda3/envs/rapids-23.04/lib/python3.10/site-packages (from matplotlib>=3.0.0->mlxtend) (0.11.0)\n",
      "Requirement already satisfied: fonttools>=4.22.0 in ./miniconda3/envs/rapids-23.04/lib/python3.10/site-packages (from matplotlib>=3.0.0->mlxtend) (4.39.3)\n",
      "Requirement already satisfied: kiwisolver>=1.0.1 in ./miniconda3/envs/rapids-23.04/lib/python3.10/site-packages (from matplotlib>=3.0.0->mlxtend) (1.4.4)\n",
      "Requirement already satisfied: packaging>=20.0 in ./miniconda3/envs/rapids-23.04/lib/python3.10/site-packages (from matplotlib>=3.0.0->mlxtend) (23.1)\n",
      "Requirement already satisfied: pillow>=6.2.0 in ./miniconda3/envs/rapids-23.04/lib/python3.10/site-packages (from matplotlib>=3.0.0->mlxtend) (9.4.0)\n",
      "Requirement already satisfied: pyparsing>=2.3.1 in ./miniconda3/envs/rapids-23.04/lib/python3.10/site-packages (from matplotlib>=3.0.0->mlxtend) (3.0.9)\n",
      "Requirement already satisfied: python-dateutil>=2.7 in ./miniconda3/envs/rapids-23.04/lib/python3.10/site-packages (from matplotlib>=3.0.0->mlxtend) (2.8.2)\n",
      "Requirement already satisfied: pytz>=2020.1 in ./miniconda3/envs/rapids-23.04/lib/python3.10/site-packages (from pandas>=0.24.2->mlxtend) (2023.3)\n",
      "Requirement already satisfied: threadpoolctl>=2.0.0 in ./miniconda3/envs/rapids-23.04/lib/python3.10/site-packages (from scikit-learn>=1.0.2->mlxtend) (3.1.0)\n",
      "Requirement already satisfied: six>=1.5 in ./miniconda3/envs/rapids-23.04/lib/python3.10/site-packages (from python-dateutil>=2.7->matplotlib>=3.0.0->mlxtend) (1.16.0)\n",
      "Installing collected packages: mlxtend\n",
      "Successfully installed mlxtend-0.22.0\n"
     ]
    }
   ],
   "source": [
    "!pip install mlxtend  "
   ]
  },
  {
   "cell_type": "code",
   "execution_count": 19,
   "metadata": {
    "tags": []
   },
   "outputs": [
    {
     "name": "stderr",
     "output_type": "stream",
     "text": [
      "Warning: less than 75% gpu memory available for training. Free: 6047 Total: 8191.375\n"
     ]
    },
    {
     "name": "stdout",
     "output_type": "stream",
     "text": [
      "0:\tlearn: 3.8456652\ttotal: 21.3ms\tremaining: 3m 5s\n",
      "500:\tlearn: 3.6699327\ttotal: 9.75s\tremaining: 2m 39s\n",
      "1000:\tlearn: 3.6114965\ttotal: 20.5s\tremaining: 2m 37s\n",
      "1500:\tlearn: 3.5758382\ttotal: 30.2s\tremaining: 2m 24s\n",
      "2000:\tlearn: 3.5458200\ttotal: 39.3s\tremaining: 2m 11s\n",
      "2500:\tlearn: 3.5211443\ttotal: 48.4s\tremaining: 1m 59s\n",
      "3000:\tlearn: 3.4993095\ttotal: 57.4s\tremaining: 1m 48s\n",
      "3500:\tlearn: 3.4792654\ttotal: 1m 6s\tremaining: 1m 38s\n",
      "4000:\tlearn: 3.4609451\ttotal: 1m 15s\tremaining: 1m 28s\n",
      "4500:\tlearn: 3.4441147\ttotal: 1m 24s\tremaining: 1m 18s\n",
      "5000:\tlearn: 3.4278869\ttotal: 1m 33s\tremaining: 1m 9s\n",
      "5500:\tlearn: 3.4125309\ttotal: 1m 42s\tremaining: 59.8s\n",
      "6000:\tlearn: 3.3980994\ttotal: 1m 52s\tremaining: 50.3s\n",
      "6500:\tlearn: 3.3843363\ttotal: 2m 1s\tremaining: 40.9s\n",
      "7000:\tlearn: 3.3707378\ttotal: 2m 10s\tremaining: 31.5s\n",
      "7500:\tlearn: 3.3577009\ttotal: 2m 19s\tremaining: 22.2s\n",
      "8000:\tlearn: 3.3450640\ttotal: 2m 28s\tremaining: 12.9s\n",
      "8500:\tlearn: 3.3329339\ttotal: 2m 37s\tremaining: 3.58s\n",
      "8693:\tlearn: 3.3282412\ttotal: 2m 41s\tremaining: 0us\n"
     ]
    },
    {
     "name": "stderr",
     "output_type": "stream",
     "text": [
      "Warning: less than 75% gpu memory available for training. Free: 6047 Total: 8191.375\n"
     ]
    },
    {
     "name": "stdout",
     "output_type": "stream",
     "text": [
      "0:\tlearn: 3.8446155\ttotal: 18.2ms\tremaining: 2m 38s\n",
      "500:\tlearn: 3.6669310\ttotal: 9.04s\tremaining: 2m 27s\n",
      "1000:\tlearn: 3.6109942\ttotal: 18s\tremaining: 2m 18s\n",
      "1500:\tlearn: 3.5734639\ttotal: 27.1s\tremaining: 2m 9s\n",
      "2000:\tlearn: 3.5438842\ttotal: 36.1s\tremaining: 2m\n",
      "2500:\tlearn: 3.5184769\ttotal: 45.2s\tremaining: 1m 51s\n",
      "3000:\tlearn: 3.4958815\ttotal: 54.2s\tremaining: 1m 42s\n",
      "3500:\tlearn: 3.4763108\ttotal: 1m 3s\tremaining: 1m 33s\n",
      "4000:\tlearn: 3.4577442\ttotal: 1m 12s\tremaining: 1m 24s\n",
      "4500:\tlearn: 3.4408287\ttotal: 1m 21s\tremaining: 1m 15s\n",
      "5000:\tlearn: 3.4247839\ttotal: 1m 30s\tremaining: 1m 6s\n",
      "5500:\tlearn: 3.4097868\ttotal: 1m 39s\tremaining: 57.9s\n",
      "6000:\tlearn: 3.3953351\ttotal: 1m 48s\tremaining: 48.9s\n",
      "6500:\tlearn: 3.3815549\ttotal: 1m 58s\tremaining: 39.9s\n",
      "7000:\tlearn: 3.3680524\ttotal: 2m 7s\tremaining: 30.9s\n",
      "7500:\tlearn: 3.3549135\ttotal: 2m 17s\tremaining: 21.8s\n",
      "8000:\tlearn: 3.3422010\ttotal: 2m 26s\tremaining: 12.7s\n",
      "8500:\tlearn: 3.3299362\ttotal: 2m 35s\tremaining: 3.53s\n",
      "8693:\tlearn: 3.3253695\ttotal: 2m 39s\tremaining: 0us\n"
     ]
    },
    {
     "name": "stderr",
     "output_type": "stream",
     "text": [
      "Warning: less than 75% gpu memory available for training. Free: 6047 Total: 8191.375\n"
     ]
    },
    {
     "name": "stdout",
     "output_type": "stream",
     "text": [
      "0:\tlearn: 3.8456365\ttotal: 18.1ms\tremaining: 2m 37s\n",
      "500:\tlearn: 3.6683048\ttotal: 9.05s\tremaining: 2m 28s\n",
      "1000:\tlearn: 3.6132641\ttotal: 18s\tremaining: 2m 18s\n",
      "1500:\tlearn: 3.5758193\ttotal: 27s\tremaining: 2m 9s\n",
      "2000:\tlearn: 3.5468625\ttotal: 36.1s\tremaining: 2m\n",
      "2500:\tlearn: 3.5204259\ttotal: 45.1s\tremaining: 1m 51s\n",
      "3000:\tlearn: 3.4979151\ttotal: 54.1s\tremaining: 1m 42s\n",
      "3500:\tlearn: 3.4781304\ttotal: 1m 3s\tremaining: 1m 33s\n",
      "4000:\tlearn: 3.4596707\ttotal: 1m 12s\tremaining: 1m 24s\n",
      "4500:\tlearn: 3.4426109\ttotal: 1m 21s\tremaining: 1m 15s\n",
      "5000:\tlearn: 3.4265905\ttotal: 1m 30s\tremaining: 1m 6s\n",
      "5500:\tlearn: 3.4111524\ttotal: 1m 39s\tremaining: 57.7s\n",
      "6000:\tlearn: 3.3964970\ttotal: 1m 48s\tremaining: 48.7s\n",
      "6500:\tlearn: 3.3827236\ttotal: 1m 57s\tremaining: 39.7s\n",
      "7000:\tlearn: 3.3692086\ttotal: 2m 6s\tremaining: 30.7s\n",
      "7500:\tlearn: 3.3561787\ttotal: 2m 15s\tremaining: 21.6s\n",
      "8000:\tlearn: 3.3433444\ttotal: 2m 25s\tremaining: 12.6s\n",
      "8500:\tlearn: 3.3307100\ttotal: 2m 34s\tremaining: 3.5s\n",
      "8693:\tlearn: 3.3259601\ttotal: 2m 37s\tremaining: 0us\n"
     ]
    },
    {
     "name": "stderr",
     "output_type": "stream",
     "text": [
      "Warning: less than 75% gpu memory available for training. Free: 6047 Total: 8191.375\n"
     ]
    },
    {
     "name": "stdout",
     "output_type": "stream",
     "text": [
      "0:\tlearn: 3.8441366\ttotal: 39.3ms\tremaining: 5m 41s\n",
      "500:\tlearn: 3.6697492\ttotal: 9.17s\tremaining: 2m 30s\n",
      "1000:\tlearn: 3.6119507\ttotal: 18.2s\tremaining: 2m 19s\n",
      "1500:\tlearn: 3.5742016\ttotal: 27.2s\tremaining: 2m 10s\n",
      "2000:\tlearn: 3.5447263\ttotal: 36.3s\tremaining: 2m 1s\n",
      "2500:\tlearn: 3.5192017\ttotal: 45.3s\tremaining: 1m 52s\n",
      "3000:\tlearn: 3.4968124\ttotal: 54.4s\tremaining: 1m 43s\n",
      "3500:\tlearn: 3.4769484\ttotal: 1m 3s\tremaining: 1m 34s\n",
      "4000:\tlearn: 3.4590409\ttotal: 1m 12s\tremaining: 1m 25s\n",
      "4500:\tlearn: 3.4419554\ttotal: 1m 21s\tremaining: 1m 16s\n",
      "5000:\tlearn: 3.4260235\ttotal: 1m 30s\tremaining: 1m 7s\n",
      "5500:\tlearn: 3.4106947\ttotal: 1m 40s\tremaining: 58.1s\n",
      "6000:\tlearn: 3.3963400\ttotal: 1m 49s\tremaining: 49s\n",
      "6500:\tlearn: 3.3824359\ttotal: 1m 58s\tremaining: 39.9s\n",
      "7000:\tlearn: 3.3688684\ttotal: 2m 7s\tremaining: 30.9s\n",
      "7500:\tlearn: 3.3557563\ttotal: 2m 16s\tremaining: 21.8s\n",
      "8000:\tlearn: 3.3431824\ttotal: 2m 25s\tremaining: 12.6s\n",
      "8500:\tlearn: 3.3308411\ttotal: 2m 35s\tremaining: 3.52s\n",
      "8693:\tlearn: 3.3261167\ttotal: 2m 38s\tremaining: 0us\n"
     ]
    },
    {
     "name": "stderr",
     "output_type": "stream",
     "text": [
      "Warning: less than 75% gpu memory available for training. Free: 6047 Total: 8191.375\n"
     ]
    },
    {
     "name": "stdout",
     "output_type": "stream",
     "text": [
      "0:\tlearn: 3.8446578\ttotal: 18.3ms\tremaining: 2m 38s\n",
      "500:\tlearn: 3.6684496\ttotal: 9.08s\tremaining: 2m 28s\n",
      "1000:\tlearn: 3.6125778\ttotal: 18.1s\tremaining: 2m 19s\n",
      "1500:\tlearn: 3.5745159\ttotal: 27.1s\tremaining: 2m 10s\n",
      "2000:\tlearn: 3.5450650\ttotal: 36.2s\tremaining: 2m 1s\n",
      "2500:\tlearn: 3.5210480\ttotal: 45.3s\tremaining: 1m 52s\n",
      "3000:\tlearn: 3.4985405\ttotal: 54.4s\tremaining: 1m 43s\n",
      "3500:\tlearn: 3.4787920\ttotal: 1m 3s\tremaining: 1m 34s\n",
      "4000:\tlearn: 3.4600143\ttotal: 1m 12s\tremaining: 1m 25s\n",
      "4500:\tlearn: 3.4432079\ttotal: 1m 21s\tremaining: 1m 16s\n",
      "5000:\tlearn: 3.4270084\ttotal: 1m 30s\tremaining: 1m 7s\n",
      "5500:\tlearn: 3.4117348\ttotal: 1m 40s\tremaining: 58.1s\n",
      "6000:\tlearn: 3.3973174\ttotal: 1m 49s\tremaining: 49s\n",
      "6500:\tlearn: 3.3835719\ttotal: 1m 58s\tremaining: 39.9s\n",
      "7000:\tlearn: 3.3699481\ttotal: 2m 7s\tremaining: 30.9s\n",
      "7500:\tlearn: 3.3566398\ttotal: 2m 16s\tremaining: 21.8s\n",
      "8000:\tlearn: 3.3438866\ttotal: 2m 25s\tremaining: 12.6s\n",
      "8500:\tlearn: 3.3316740\ttotal: 2m 35s\tremaining: 3.52s\n",
      "8693:\tlearn: 3.3269914\ttotal: 2m 38s\tremaining: 0us\n"
     ]
    },
    {
     "name": "stderr",
     "output_type": "stream",
     "text": [
      "Warning: less than 75% gpu memory available for training. Free: 6047 Total: 8191.375\n"
     ]
    },
    {
     "name": "stdout",
     "output_type": "stream",
     "text": [
      "0:\tlearn: 3.8449684\ttotal: 18.1ms\tremaining: 2m 36s\n",
      "500:\tlearn: 3.6692559\ttotal: 9.04s\tremaining: 2m 27s\n",
      "1000:\tlearn: 3.6130498\ttotal: 18s\tremaining: 2m 18s\n",
      "1500:\tlearn: 3.5748630\ttotal: 27.1s\tremaining: 2m 9s\n",
      "2000:\tlearn: 3.5458271\ttotal: 36.1s\tremaining: 2m\n",
      "2500:\tlearn: 3.5208041\ttotal: 45.2s\tremaining: 1m 51s\n",
      "3000:\tlearn: 3.4988982\ttotal: 54.3s\tremaining: 1m 42s\n",
      "3500:\tlearn: 3.4785618\ttotal: 1m 3s\tremaining: 1m 33s\n",
      "4000:\tlearn: 3.4602588\ttotal: 1m 12s\tremaining: 1m 25s\n",
      "4500:\tlearn: 3.4430568\ttotal: 1m 21s\tremaining: 1m 16s\n",
      "5000:\tlearn: 3.4268554\ttotal: 1m 30s\tremaining: 1m 7s\n",
      "5500:\tlearn: 3.4117669\ttotal: 1m 39s\tremaining: 58s\n",
      "6000:\tlearn: 3.3974653\ttotal: 1m 49s\tremaining: 48.9s\n",
      "6500:\tlearn: 3.3835495\ttotal: 1m 58s\tremaining: 39.9s\n",
      "7000:\tlearn: 3.3701055\ttotal: 2m 7s\tremaining: 30.8s\n",
      "7500:\tlearn: 3.3570312\ttotal: 2m 16s\tremaining: 21.7s\n",
      "8000:\tlearn: 3.3442931\ttotal: 2m 25s\tremaining: 12.6s\n",
      "8500:\tlearn: 3.3321026\ttotal: 2m 35s\tremaining: 3.52s\n",
      "8693:\tlearn: 3.3274952\ttotal: 2m 38s\tremaining: 0us\n"
     ]
    },
    {
     "name": "stderr",
     "output_type": "stream",
     "text": [
      "Warning: less than 75% gpu memory available for training. Free: 6047 Total: 8191.375\n"
     ]
    },
    {
     "name": "stdout",
     "output_type": "stream",
     "text": [
      "0:\tlearn: 3.8449944\ttotal: 18.4ms\tremaining: 2m 39s\n",
      "500:\tlearn: 3.6678968\ttotal: 9.05s\tremaining: 2m 27s\n",
      "1000:\tlearn: 3.6094732\ttotal: 18.1s\tremaining: 2m 18s\n",
      "1500:\tlearn: 3.5722245\ttotal: 27.1s\tremaining: 2m 10s\n",
      "2000:\tlearn: 3.5427353\ttotal: 36.2s\tremaining: 2m 1s\n",
      "2500:\tlearn: 3.5175345\ttotal: 45.3s\tremaining: 1m 52s\n",
      "3000:\tlearn: 3.4958669\ttotal: 54.3s\tremaining: 1m 43s\n",
      "3500:\tlearn: 3.4760278\ttotal: 1m 3s\tremaining: 1m 34s\n",
      "4000:\tlearn: 3.4580012\ttotal: 1m 12s\tremaining: 1m 25s\n",
      "4500:\tlearn: 3.4411270\ttotal: 1m 21s\tremaining: 1m 16s\n",
      "5000:\tlearn: 3.4255534\ttotal: 1m 30s\tremaining: 1m 7s\n",
      "5500:\tlearn: 3.4105253\ttotal: 1m 39s\tremaining: 58s\n",
      "6000:\tlearn: 3.3959711\ttotal: 1m 49s\tremaining: 49s\n",
      "6500:\tlearn: 3.3820495\ttotal: 1m 58s\tremaining: 39.9s\n",
      "7000:\tlearn: 3.3688088\ttotal: 2m 7s\tremaining: 30.8s\n",
      "7500:\tlearn: 3.3557726\ttotal: 2m 16s\tremaining: 21.7s\n",
      "8000:\tlearn: 3.3430995\ttotal: 2m 25s\tremaining: 12.6s\n",
      "8500:\tlearn: 3.3306920\ttotal: 2m 35s\tremaining: 3.52s\n",
      "8693:\tlearn: 3.3260113\ttotal: 2m 38s\tremaining: 0us\n"
     ]
    },
    {
     "name": "stderr",
     "output_type": "stream",
     "text": [
      "Warning: less than 75% gpu memory available for training. Free: 6047 Total: 8191.375\n"
     ]
    },
    {
     "name": "stdout",
     "output_type": "stream",
     "text": [
      "0:\tlearn: 3.8454253\ttotal: 18.1ms\tremaining: 2m 37s\n",
      "500:\tlearn: 3.6682762\ttotal: 9.07s\tremaining: 2m 28s\n",
      "1000:\tlearn: 3.6117959\ttotal: 18.1s\tremaining: 2m 19s\n",
      "1500:\tlearn: 3.5756603\ttotal: 27.2s\tremaining: 2m 10s\n",
      "2000:\tlearn: 3.5464560\ttotal: 36.2s\tremaining: 2m 1s\n",
      "2500:\tlearn: 3.5216993\ttotal: 45.3s\tremaining: 1m 52s\n",
      "3000:\tlearn: 3.4993140\ttotal: 54.4s\tremaining: 1m 43s\n",
      "3500:\tlearn: 3.4794436\ttotal: 1m 3s\tremaining: 1m 34s\n",
      "4000:\tlearn: 3.4614108\ttotal: 1m 12s\tremaining: 1m 25s\n",
      "4500:\tlearn: 3.4444877\ttotal: 1m 21s\tremaining: 1m 16s\n",
      "5000:\tlearn: 3.4286278\ttotal: 1m 30s\tremaining: 1m 7s\n",
      "5500:\tlearn: 3.4136911\ttotal: 1m 40s\tremaining: 58.1s\n",
      "6000:\tlearn: 3.3990336\ttotal: 1m 49s\tremaining: 49s\n",
      "6500:\tlearn: 3.3851048\ttotal: 1m 58s\tremaining: 39.9s\n",
      "7000:\tlearn: 3.3715492\ttotal: 2m 7s\tremaining: 30.9s\n",
      "7500:\tlearn: 3.3586320\ttotal: 2m 16s\tremaining: 21.8s\n",
      "8000:\tlearn: 3.3459781\ttotal: 2m 25s\tremaining: 12.6s\n",
      "8500:\tlearn: 3.3336624\ttotal: 2m 35s\tremaining: 3.52s\n",
      "8693:\tlearn: 3.3289872\ttotal: 2m 38s\tremaining: 0us\n"
     ]
    },
    {
     "name": "stderr",
     "output_type": "stream",
     "text": [
      "Warning: less than 75% gpu memory available for training. Free: 6047 Total: 8191.375\n"
     ]
    },
    {
     "name": "stdout",
     "output_type": "stream",
     "text": [
      "0:\tlearn: 3.8454804\ttotal: 36.5ms\tremaining: 5m 16s\n",
      "500:\tlearn: 3.6677916\ttotal: 9.16s\tremaining: 2m 29s\n",
      "1000:\tlearn: 3.6126966\ttotal: 18.2s\tremaining: 2m 19s\n",
      "1500:\tlearn: 3.5753921\ttotal: 27.3s\tremaining: 2m 10s\n",
      "2000:\tlearn: 3.5461764\ttotal: 36.3s\tremaining: 2m 1s\n",
      "2500:\tlearn: 3.5210678\ttotal: 45.4s\tremaining: 1m 52s\n",
      "3000:\tlearn: 3.4987550\ttotal: 54.5s\tremaining: 1m 43s\n",
      "3500:\tlearn: 3.4784253\ttotal: 1m 3s\tremaining: 1m 34s\n",
      "4000:\tlearn: 3.4602426\ttotal: 1m 12s\tremaining: 1m 25s\n",
      "4500:\tlearn: 3.4434866\ttotal: 1m 21s\tremaining: 1m 16s\n",
      "5000:\tlearn: 3.4272188\ttotal: 1m 30s\tremaining: 1m 7s\n",
      "5500:\tlearn: 3.4120338\ttotal: 1m 39s\tremaining: 58s\n",
      "6000:\tlearn: 3.3974614\ttotal: 1m 49s\tremaining: 48.9s\n",
      "6500:\tlearn: 3.3833396\ttotal: 1m 58s\tremaining: 39.9s\n",
      "7000:\tlearn: 3.3699288\ttotal: 2m 7s\tremaining: 30.8s\n",
      "7500:\tlearn: 3.3568271\ttotal: 2m 16s\tremaining: 21.7s\n",
      "8000:\tlearn: 3.3442675\ttotal: 2m 25s\tremaining: 12.6s\n",
      "8500:\tlearn: 3.3317745\ttotal: 2m 34s\tremaining: 3.52s\n",
      "8693:\tlearn: 3.3271052\ttotal: 2m 38s\tremaining: 0us\n"
     ]
    },
    {
     "name": "stderr",
     "output_type": "stream",
     "text": [
      "Warning: less than 75% gpu memory available for training. Free: 6047 Total: 8191.375\n"
     ]
    },
    {
     "name": "stdout",
     "output_type": "stream",
     "text": [
      "0:\tlearn: 3.8469974\ttotal: 18.6ms\tremaining: 2m 41s\n",
      "500:\tlearn: 3.6711278\ttotal: 9.04s\tremaining: 2m 27s\n",
      "1000:\tlearn: 3.6137186\ttotal: 18s\tremaining: 2m 18s\n",
      "1500:\tlearn: 3.5764051\ttotal: 27.1s\tremaining: 2m 9s\n",
      "2000:\tlearn: 3.5465660\ttotal: 36.2s\tremaining: 2m 1s\n",
      "2500:\tlearn: 3.5210555\ttotal: 45.3s\tremaining: 1m 52s\n",
      "3000:\tlearn: 3.4991448\ttotal: 54.3s\tremaining: 1m 43s\n",
      "3500:\tlearn: 3.4791611\ttotal: 1m 3s\tremaining: 1m 34s\n",
      "4000:\tlearn: 3.4609945\ttotal: 1m 12s\tremaining: 1m 25s\n",
      "4500:\tlearn: 3.4436064\ttotal: 1m 21s\tremaining: 1m 16s\n",
      "5000:\tlearn: 3.4277547\ttotal: 1m 30s\tremaining: 1m 7s\n",
      "5500:\tlearn: 3.4125431\ttotal: 1m 40s\tremaining: 58s\n",
      "6000:\tlearn: 3.3979072\ttotal: 1m 49s\tremaining: 49s\n",
      "6500:\tlearn: 3.3839851\ttotal: 1m 58s\tremaining: 39.9s\n",
      "7000:\tlearn: 3.3706730\ttotal: 2m 7s\tremaining: 30.8s\n",
      "7500:\tlearn: 3.3576127\ttotal: 2m 16s\tremaining: 21.7s\n",
      "8000:\tlearn: 3.3450207\ttotal: 2m 25s\tremaining: 12.6s\n",
      "8500:\tlearn: 3.3329559\ttotal: 2m 35s\tremaining: 3.52s\n",
      "8693:\tlearn: 3.3283467\ttotal: 2m 38s\tremaining: 0us\n"
     ]
    },
    {
     "name": "stderr",
     "output_type": "stream",
     "text": [
      "Warning: less than 75% gpu memory available for training. Free: 6047 Total: 8191.375\n"
     ]
    },
    {
     "name": "stdout",
     "output_type": "stream",
     "text": [
      "0:\tlearn: 3.8461174\ttotal: 18.3ms\tremaining: 7m 30s\n",
      "500:\tlearn: 3.6922904\ttotal: 9.14s\tremaining: 7m 20s\n",
      "1000:\tlearn: 3.6416925\ttotal: 18.3s\tremaining: 7m 11s\n",
      "1500:\tlearn: 3.6097800\ttotal: 27.4s\tremaining: 7m 1s\n",
      "2000:\tlearn: 3.5847058\ttotal: 36.4s\tremaining: 6m 52s\n",
      "2500:\tlearn: 3.5647237\ttotal: 45.6s\tremaining: 6m 43s\n",
      "3000:\tlearn: 3.5476079\ttotal: 54.7s\tremaining: 6m 34s\n",
      "3500:\tlearn: 3.5318996\ttotal: 1m 3s\tremaining: 6m 25s\n",
      "4000:\tlearn: 3.5178485\ttotal: 1m 12s\tremaining: 6m 16s\n",
      "4500:\tlearn: 3.5055555\ttotal: 1m 22s\tremaining: 6m 7s\n",
      "5000:\tlearn: 3.4940705\ttotal: 1m 31s\tremaining: 5m 58s\n",
      "5500:\tlearn: 3.4834294\ttotal: 1m 40s\tremaining: 5m 49s\n",
      "6000:\tlearn: 3.4738296\ttotal: 1m 49s\tremaining: 5m 40s\n",
      "6500:\tlearn: 3.4647494\ttotal: 1m 58s\tremaining: 5m 31s\n",
      "7000:\tlearn: 3.4560434\ttotal: 2m 8s\tremaining: 5m 22s\n",
      "7500:\tlearn: 3.4477186\ttotal: 2m 17s\tremaining: 5m 13s\n",
      "8000:\tlearn: 3.4397775\ttotal: 2m 26s\tremaining: 5m 4s\n",
      "8500:\tlearn: 3.4318683\ttotal: 2m 35s\tremaining: 4m 55s\n",
      "9000:\tlearn: 3.4245776\ttotal: 2m 44s\tremaining: 4m 46s\n",
      "9500:\tlearn: 3.4175817\ttotal: 2m 54s\tremaining: 4m 37s\n",
      "10000:\tlearn: 3.4107401\ttotal: 3m 3s\tremaining: 4m 28s\n",
      "10500:\tlearn: 3.4041905\ttotal: 3m 12s\tremaining: 4m 19s\n",
      "11000:\tlearn: 3.3977497\ttotal: 3m 21s\tremaining: 4m 10s\n",
      "11500:\tlearn: 3.3914597\ttotal: 3m 31s\tremaining: 4m 1s\n",
      "12000:\tlearn: 3.3853836\ttotal: 3m 40s\tremaining: 3m 52s\n",
      "12500:\tlearn: 3.3792390\ttotal: 3m 49s\tremaining: 3m 42s\n",
      "13000:\tlearn: 3.3734499\ttotal: 3m 58s\tremaining: 3m 33s\n",
      "13500:\tlearn: 3.3677169\ttotal: 4m 8s\tremaining: 3m 24s\n",
      "14000:\tlearn: 3.3620991\ttotal: 4m 17s\tremaining: 3m 15s\n",
      "14500:\tlearn: 3.3565806\ttotal: 4m 26s\tremaining: 3m 6s\n",
      "15000:\tlearn: 3.3511751\ttotal: 4m 36s\tremaining: 2m 57s\n",
      "15500:\tlearn: 3.3458962\ttotal: 4m 45s\tremaining: 2m 48s\n",
      "16000:\tlearn: 3.3406066\ttotal: 4m 54s\tremaining: 2m 39s\n",
      "16500:\tlearn: 3.3354191\ttotal: 5m 4s\tremaining: 2m 29s\n",
      "17000:\tlearn: 3.3301899\ttotal: 5m 13s\tremaining: 2m 20s\n",
      "17500:\tlearn: 3.3251367\ttotal: 5m 22s\tremaining: 2m 11s\n",
      "18000:\tlearn: 3.3201977\ttotal: 5m 31s\tremaining: 2m 2s\n",
      "18500:\tlearn: 3.3153855\ttotal: 5m 41s\tremaining: 1m 53s\n",
      "19000:\tlearn: 3.3106161\ttotal: 5m 50s\tremaining: 1m 43s\n",
      "19500:\tlearn: 3.3058895\ttotal: 5m 59s\tremaining: 1m 34s\n",
      "20000:\tlearn: 3.3012592\ttotal: 6m 9s\tremaining: 1m 25s\n",
      "20500:\tlearn: 3.2966935\ttotal: 6m 18s\tremaining: 1m 16s\n",
      "21000:\tlearn: 3.2921302\ttotal: 6m 27s\tremaining: 1m 7s\n",
      "21500:\tlearn: 3.2875991\ttotal: 6m 36s\tremaining: 57.9s\n",
      "22000:\tlearn: 3.2831016\ttotal: 6m 46s\tremaining: 48.6s\n",
      "22500:\tlearn: 3.2786726\ttotal: 6m 55s\tremaining: 39.4s\n",
      "23000:\tlearn: 3.2743802\ttotal: 7m 4s\tremaining: 30.2s\n",
      "23500:\tlearn: 3.2699826\ttotal: 7m 14s\tremaining: 20.9s\n",
      "24000:\tlearn: 3.2657021\ttotal: 7m 23s\tremaining: 11.7s\n",
      "24500:\tlearn: 3.2614820\ttotal: 7m 32s\tremaining: 2.48s\n",
      "24634:\tlearn: 3.2603844\ttotal: 7m 35s\tremaining: 0us\n"
     ]
    },
    {
     "name": "stderr",
     "output_type": "stream",
     "text": [
      "Warning: less than 75% gpu memory available for training. Free: 6047 Total: 8191.375\n"
     ]
    },
    {
     "name": "stdout",
     "output_type": "stream",
     "text": [
      "0:\tlearn: 3.8450371\ttotal: 18.3ms\tremaining: 7m 30s\n",
      "500:\tlearn: 3.6926449\ttotal: 9.2s\tremaining: 7m 23s\n",
      "1000:\tlearn: 3.6412345\ttotal: 18.3s\tremaining: 7m 11s\n",
      "1500:\tlearn: 3.6083813\ttotal: 27.4s\tremaining: 7m 2s\n",
      "2000:\tlearn: 3.5842889\ttotal: 36.5s\tremaining: 6m 53s\n",
      "2500:\tlearn: 3.5641875\ttotal: 45.7s\tremaining: 6m 44s\n",
      "3000:\tlearn: 3.5470448\ttotal: 54.9s\tremaining: 6m 35s\n",
      "3500:\tlearn: 3.5313503\ttotal: 1m 4s\tremaining: 6m 26s\n",
      "4000:\tlearn: 3.5174988\ttotal: 1m 13s\tremaining: 6m 17s\n",
      "4500:\tlearn: 3.5045482\ttotal: 1m 22s\tremaining: 6m 8s\n",
      "5000:\tlearn: 3.4930965\ttotal: 1m 31s\tremaining: 5m 59s\n",
      "5500:\tlearn: 3.4824657\ttotal: 1m 40s\tremaining: 5m 50s\n",
      "6000:\tlearn: 3.4725050\ttotal: 1m 49s\tremaining: 5m 41s\n",
      "6500:\tlearn: 3.4632936\ttotal: 1m 59s\tremaining: 5m 32s\n",
      "7000:\tlearn: 3.4545457\ttotal: 2m 8s\tremaining: 5m 23s\n",
      "7500:\tlearn: 3.4461644\ttotal: 2m 17s\tremaining: 5m 14s\n",
      "8000:\tlearn: 3.4382648\ttotal: 2m 26s\tremaining: 5m 5s\n",
      "8500:\tlearn: 3.4307263\ttotal: 2m 36s\tremaining: 4m 56s\n",
      "9000:\tlearn: 3.4235489\ttotal: 2m 45s\tremaining: 4m 47s\n",
      "9500:\tlearn: 3.4165990\ttotal: 2m 54s\tremaining: 4m 38s\n",
      "10000:\tlearn: 3.4098350\ttotal: 3m 3s\tremaining: 4m 29s\n",
      "10500:\tlearn: 3.4033736\ttotal: 3m 13s\tremaining: 4m 20s\n",
      "11000:\tlearn: 3.3969548\ttotal: 3m 22s\tremaining: 4m 10s\n",
      "11500:\tlearn: 3.3907547\ttotal: 3m 31s\tremaining: 4m 1s\n",
      "12000:\tlearn: 3.3845656\ttotal: 3m 41s\tremaining: 3m 52s\n",
      "12500:\tlearn: 3.3785397\ttotal: 3m 50s\tremaining: 3m 43s\n",
      "13000:\tlearn: 3.3727489\ttotal: 3m 59s\tremaining: 3m 34s\n",
      "13500:\tlearn: 3.3669836\ttotal: 4m 8s\tremaining: 3m 25s\n",
      "14000:\tlearn: 3.3613081\ttotal: 4m 18s\tremaining: 3m 16s\n",
      "14500:\tlearn: 3.3557429\ttotal: 4m 27s\tremaining: 3m 6s\n",
      "15000:\tlearn: 3.3502443\ttotal: 4m 36s\tremaining: 2m 57s\n",
      "15500:\tlearn: 3.3449018\ttotal: 4m 46s\tremaining: 2m 48s\n",
      "16000:\tlearn: 3.3396679\ttotal: 4m 55s\tremaining: 2m 39s\n",
      "16500:\tlearn: 3.3344616\ttotal: 5m 4s\tremaining: 2m 30s\n",
      "17000:\tlearn: 3.3293670\ttotal: 5m 13s\tremaining: 2m 20s\n",
      "17500:\tlearn: 3.3242673\ttotal: 5m 23s\tremaining: 2m 11s\n",
      "18000:\tlearn: 3.3192719\ttotal: 5m 32s\tremaining: 2m 2s\n",
      "18500:\tlearn: 3.3143315\ttotal: 5m 41s\tremaining: 1m 53s\n",
      "19000:\tlearn: 3.3093907\ttotal: 5m 51s\tremaining: 1m 44s\n",
      "19500:\tlearn: 3.3046956\ttotal: 6m\tremaining: 1m 34s\n",
      "20000:\tlearn: 3.3000429\ttotal: 6m 9s\tremaining: 1m 25s\n",
      "20500:\tlearn: 3.2953708\ttotal: 6m 19s\tremaining: 1m 16s\n",
      "21000:\tlearn: 3.2908504\ttotal: 6m 28s\tremaining: 1m 7s\n",
      "21500:\tlearn: 3.2862848\ttotal: 6m 37s\tremaining: 58s\n",
      "22000:\tlearn: 3.2817677\ttotal: 6m 46s\tremaining: 48.7s\n",
      "22500:\tlearn: 3.2772517\ttotal: 6m 56s\tremaining: 39.5s\n",
      "23000:\tlearn: 3.2728194\ttotal: 7m 5s\tremaining: 30.2s\n",
      "23500:\tlearn: 3.2685100\ttotal: 7m 14s\tremaining: 21s\n",
      "24000:\tlearn: 3.2642774\ttotal: 7m 24s\tremaining: 11.7s\n",
      "24500:\tlearn: 3.2600131\ttotal: 7m 33s\tremaining: 2.48s\n",
      "24634:\tlearn: 3.2589014\ttotal: 7m 35s\tremaining: 0us\n"
     ]
    },
    {
     "name": "stderr",
     "output_type": "stream",
     "text": [
      "Warning: less than 75% gpu memory available for training. Free: 6047 Total: 8191.375\n"
     ]
    },
    {
     "name": "stdout",
     "output_type": "stream",
     "text": [
      "0:\tlearn: 3.8460815\ttotal: 18.8ms\tremaining: 7m 42s\n",
      "500:\tlearn: 3.6905841\ttotal: 9.12s\tremaining: 7m 19s\n",
      "1000:\tlearn: 3.6423080\ttotal: 18.2s\tremaining: 7m 10s\n",
      "1500:\tlearn: 3.6099439\ttotal: 27.4s\tremaining: 7m 1s\n",
      "2000:\tlearn: 3.5860871\ttotal: 36.6s\tremaining: 6m 53s\n",
      "2500:\tlearn: 3.5655063\ttotal: 45.7s\tremaining: 6m 44s\n",
      "3000:\tlearn: 3.5480559\ttotal: 54.9s\tremaining: 6m 35s\n",
      "3500:\tlearn: 3.5321101\ttotal: 1m 4s\tremaining: 6m 26s\n",
      "4000:\tlearn: 3.5180005\ttotal: 1m 13s\tremaining: 6m 17s\n",
      "4500:\tlearn: 3.5053036\ttotal: 1m 22s\tremaining: 6m 8s\n",
      "5000:\tlearn: 3.4940199\ttotal: 1m 31s\tremaining: 5m 59s\n",
      "5500:\tlearn: 3.4834820\ttotal: 1m 40s\tremaining: 5m 50s\n",
      "6000:\tlearn: 3.4737584\ttotal: 1m 49s\tremaining: 5m 41s\n",
      "6500:\tlearn: 3.4644643\ttotal: 1m 59s\tremaining: 5m 32s\n",
      "7000:\tlearn: 3.4558005\ttotal: 2m 8s\tremaining: 5m 23s\n",
      "7500:\tlearn: 3.4476106\ttotal: 2m 17s\tremaining: 5m 14s\n",
      "8000:\tlearn: 3.4396682\ttotal: 2m 26s\tremaining: 5m 5s\n",
      "8500:\tlearn: 3.4321384\ttotal: 2m 36s\tremaining: 4m 56s\n",
      "9000:\tlearn: 3.4249256\ttotal: 2m 45s\tremaining: 4m 47s\n",
      "9500:\tlearn: 3.4177658\ttotal: 2m 54s\tremaining: 4m 38s\n",
      "10000:\tlearn: 3.4109475\ttotal: 3m 3s\tremaining: 4m 28s\n",
      "10500:\tlearn: 3.4042216\ttotal: 3m 13s\tremaining: 4m 19s\n",
      "11000:\tlearn: 3.3976917\ttotal: 3m 22s\tremaining: 4m 10s\n",
      "11500:\tlearn: 3.3913456\ttotal: 3m 31s\tremaining: 4m 1s\n",
      "12000:\tlearn: 3.3851295\ttotal: 3m 40s\tremaining: 3m 52s\n",
      "12500:\tlearn: 3.3790126\ttotal: 3m 50s\tremaining: 3m 43s\n",
      "13000:\tlearn: 3.3730126\ttotal: 3m 59s\tremaining: 3m 34s\n",
      "13500:\tlearn: 3.3672005\ttotal: 4m 8s\tremaining: 3m 25s\n",
      "14000:\tlearn: 3.3614900\ttotal: 4m 17s\tremaining: 3m 15s\n",
      "14500:\tlearn: 3.3558244\ttotal: 4m 27s\tremaining: 3m 6s\n",
      "15000:\tlearn: 3.3502903\ttotal: 4m 36s\tremaining: 2m 57s\n",
      "15500:\tlearn: 3.3448417\ttotal: 4m 45s\tremaining: 2m 48s\n",
      "16000:\tlearn: 3.3395230\ttotal: 4m 54s\tremaining: 2m 39s\n",
      "16500:\tlearn: 3.3342530\ttotal: 5m 4s\tremaining: 2m 29s\n",
      "17000:\tlearn: 3.3291917\ttotal: 5m 13s\tremaining: 2m 20s\n",
      "17500:\tlearn: 3.3241501\ttotal: 5m 22s\tremaining: 2m 11s\n",
      "18000:\tlearn: 3.3191960\ttotal: 5m 32s\tremaining: 2m 2s\n",
      "18500:\tlearn: 3.3141774\ttotal: 5m 41s\tremaining: 1m 53s\n",
      "19000:\tlearn: 3.3092263\ttotal: 5m 50s\tremaining: 1m 43s\n",
      "19500:\tlearn: 3.3043919\ttotal: 6m\tremaining: 1m 34s\n",
      "20000:\tlearn: 3.2995977\ttotal: 6m 9s\tremaining: 1m 25s\n",
      "20500:\tlearn: 3.2948978\ttotal: 6m 19s\tremaining: 1m 16s\n",
      "21000:\tlearn: 3.2902957\ttotal: 6m 28s\tremaining: 1m 7s\n",
      "21500:\tlearn: 3.2857012\ttotal: 6m 38s\tremaining: 58s\n",
      "22000:\tlearn: 3.2811737\ttotal: 6m 47s\tremaining: 48.8s\n",
      "22500:\tlearn: 3.2766571\ttotal: 6m 57s\tremaining: 39.6s\n",
      "23000:\tlearn: 3.2723139\ttotal: 7m 6s\tremaining: 30.3s\n",
      "23500:\tlearn: 3.2679442\ttotal: 7m 16s\tremaining: 21.1s\n",
      "24000:\tlearn: 3.2635790\ttotal: 7m 25s\tremaining: 11.8s\n",
      "24500:\tlearn: 3.2592206\ttotal: 7m 35s\tremaining: 2.49s\n",
      "24634:\tlearn: 3.2580931\ttotal: 7m 38s\tremaining: 0us\n"
     ]
    },
    {
     "name": "stderr",
     "output_type": "stream",
     "text": [
      "Warning: less than 75% gpu memory available for training. Free: 6047 Total: 8191.375\n"
     ]
    },
    {
     "name": "stdout",
     "output_type": "stream",
     "text": [
      "0:\tlearn: 3.8445500\ttotal: 18.3ms\tremaining: 7m 30s\n",
      "500:\tlearn: 3.6934702\ttotal: 9.32s\tremaining: 7m 29s\n",
      "1000:\tlearn: 3.6434720\ttotal: 19.2s\tremaining: 7m 32s\n",
      "1500:\tlearn: 3.6078869\ttotal: 28.7s\tremaining: 7m 22s\n",
      "2000:\tlearn: 3.5834998\ttotal: 38.1s\tremaining: 7m 11s\n",
      "2500:\tlearn: 3.5629953\ttotal: 47.6s\tremaining: 7m\n",
      "3000:\tlearn: 3.5460581\ttotal: 57s\tremaining: 6m 50s\n",
      "3500:\tlearn: 3.5309579\ttotal: 1m 6s\tremaining: 6m 40s\n",
      "4000:\tlearn: 3.5173206\ttotal: 1m 16s\tremaining: 6m 32s\n",
      "4500:\tlearn: 3.5043835\ttotal: 1m 25s\tremaining: 6m 24s\n",
      "5000:\tlearn: 3.4928747\ttotal: 1m 35s\tremaining: 6m 15s\n",
      "5500:\tlearn: 3.4818939\ttotal: 1m 45s\tremaining: 6m 6s\n",
      "6000:\tlearn: 3.4720673\ttotal: 1m 55s\tremaining: 5m 58s\n",
      "6500:\tlearn: 3.4625203\ttotal: 2m 5s\tremaining: 5m 49s\n",
      "7000:\tlearn: 3.4538093\ttotal: 2m 14s\tremaining: 5m 39s\n",
      "7500:\tlearn: 3.4458097\ttotal: 2m 24s\tremaining: 5m 30s\n",
      "8000:\tlearn: 3.4378218\ttotal: 2m 34s\tremaining: 5m 21s\n",
      "8500:\tlearn: 3.4302877\ttotal: 2m 43s\tremaining: 5m 10s\n",
      "9000:\tlearn: 3.4228550\ttotal: 2m 52s\tremaining: 5m\n",
      "9500:\tlearn: 3.4159687\ttotal: 3m 2s\tremaining: 4m 50s\n",
      "10000:\tlearn: 3.4091614\ttotal: 3m 11s\tremaining: 4m 40s\n",
      "10500:\tlearn: 3.4025498\ttotal: 3m 20s\tremaining: 4m 30s\n",
      "11000:\tlearn: 3.3961873\ttotal: 3m 30s\tremaining: 4m 20s\n",
      "11500:\tlearn: 3.3899286\ttotal: 3m 39s\tremaining: 4m 11s\n",
      "12000:\tlearn: 3.3837556\ttotal: 3m 49s\tremaining: 4m 1s\n",
      "12500:\tlearn: 3.3777721\ttotal: 3m 59s\tremaining: 3m 52s\n",
      "13000:\tlearn: 3.3719121\ttotal: 4m 8s\tremaining: 3m 42s\n",
      "13500:\tlearn: 3.3661553\ttotal: 4m 18s\tremaining: 3m 33s\n",
      "14000:\tlearn: 3.3605464\ttotal: 4m 28s\tremaining: 3m 23s\n",
      "14500:\tlearn: 3.3549942\ttotal: 4m 38s\tremaining: 3m 14s\n",
      "15000:\tlearn: 3.3494304\ttotal: 4m 49s\tremaining: 3m 5s\n",
      "15500:\tlearn: 3.3440212\ttotal: 4m 58s\tremaining: 2m 55s\n",
      "16000:\tlearn: 3.3387827\ttotal: 5m 8s\tremaining: 2m 46s\n",
      "16500:\tlearn: 3.3335062\ttotal: 5m 18s\tremaining: 2m 36s\n",
      "17000:\tlearn: 3.3284992\ttotal: 5m 27s\tremaining: 2m 27s\n",
      "17500:\tlearn: 3.3235299\ttotal: 5m 37s\tremaining: 2m 17s\n",
      "18000:\tlearn: 3.3186455\ttotal: 5m 47s\tremaining: 2m 7s\n",
      "18500:\tlearn: 3.3137632\ttotal: 5m 56s\tremaining: 1m 58s\n",
      "19000:\tlearn: 3.3090868\ttotal: 6m 6s\tremaining: 1m 48s\n",
      "19500:\tlearn: 3.3043439\ttotal: 6m 16s\tremaining: 1m 39s\n",
      "20000:\tlearn: 3.2996853\ttotal: 6m 25s\tremaining: 1m 29s\n",
      "20500:\tlearn: 3.2951178\ttotal: 6m 35s\tremaining: 1m 19s\n",
      "21000:\tlearn: 3.2904548\ttotal: 6m 45s\tremaining: 1m 10s\n",
      "21500:\tlearn: 3.2859519\ttotal: 6m 55s\tremaining: 1m\n",
      "22000:\tlearn: 3.2814747\ttotal: 7m 4s\tremaining: 50.8s\n",
      "22500:\tlearn: 3.2770426\ttotal: 7m 14s\tremaining: 41.2s\n",
      "23000:\tlearn: 3.2727285\ttotal: 7m 24s\tremaining: 31.5s\n",
      "23500:\tlearn: 3.2684614\ttotal: 7m 33s\tremaining: 21.9s\n",
      "24000:\tlearn: 3.2641316\ttotal: 7m 43s\tremaining: 12.2s\n",
      "24500:\tlearn: 3.2598909\ttotal: 7m 53s\tremaining: 2.59s\n",
      "24634:\tlearn: 3.2587642\ttotal: 7m 56s\tremaining: 0us\n"
     ]
    },
    {
     "name": "stderr",
     "output_type": "stream",
     "text": [
      "Warning: less than 75% gpu memory available for training. Free: 6047 Total: 8191.375\n"
     ]
    },
    {
     "name": "stdout",
     "output_type": "stream",
     "text": [
      "0:\tlearn: 3.8451159\ttotal: 22.8ms\tremaining: 9m 21s\n",
      "500:\tlearn: 3.6934462\ttotal: 10.3s\tremaining: 8m 17s\n",
      "1000:\tlearn: 3.6433792\ttotal: 20.8s\tremaining: 8m 10s\n",
      "1500:\tlearn: 3.6098268\ttotal: 30.5s\tremaining: 7m 50s\n",
      "2000:\tlearn: 3.5837416\ttotal: 40.3s\tremaining: 7m 35s\n",
      "2500:\tlearn: 3.5640949\ttotal: 50.1s\tremaining: 7m 23s\n",
      "3000:\tlearn: 3.5464666\ttotal: 59.8s\tremaining: 7m 10s\n",
      "3500:\tlearn: 3.5311236\ttotal: 1m 9s\tremaining: 6m 58s\n",
      "4000:\tlearn: 3.5179031\ttotal: 1m 18s\tremaining: 6m 46s\n",
      "4500:\tlearn: 3.5050444\ttotal: 1m 28s\tremaining: 6m 35s\n",
      "5000:\tlearn: 3.4936542\ttotal: 1m 38s\tremaining: 6m 24s\n",
      "5500:\tlearn: 3.4831743\ttotal: 1m 47s\tremaining: 6m 14s\n",
      "6000:\tlearn: 3.4737490\ttotal: 1m 57s\tremaining: 6m 4s\n",
      "6500:\tlearn: 3.4646684\ttotal: 2m 6s\tremaining: 5m 53s\n",
      "7000:\tlearn: 3.4561552\ttotal: 2m 16s\tremaining: 5m 45s\n",
      "7500:\tlearn: 3.4476876\ttotal: 2m 27s\tremaining: 5m 36s\n",
      "8000:\tlearn: 3.4397833\ttotal: 2m 37s\tremaining: 5m 28s\n",
      "8500:\tlearn: 3.4320056\ttotal: 2m 48s\tremaining: 5m 19s\n",
      "9000:\tlearn: 3.4246382\ttotal: 2m 58s\tremaining: 5m 10s\n",
      "9500:\tlearn: 3.4176407\ttotal: 3m 9s\tremaining: 5m 1s\n",
      "10000:\tlearn: 3.4107399\ttotal: 3m 19s\tremaining: 4m 51s\n",
      "10500:\tlearn: 3.4041411\ttotal: 3m 28s\tremaining: 4m 41s\n",
      "11000:\tlearn: 3.3977181\ttotal: 3m 38s\tremaining: 4m 30s\n",
      "11500:\tlearn: 3.3915147\ttotal: 3m 48s\tremaining: 4m 20s\n",
      "12000:\tlearn: 3.3852142\ttotal: 3m 58s\tremaining: 4m 11s\n",
      "12500:\tlearn: 3.3791661\ttotal: 4m 8s\tremaining: 4m 1s\n",
      "13000:\tlearn: 3.3733128\ttotal: 4m 18s\tremaining: 3m 51s\n",
      "13500:\tlearn: 3.3675567\ttotal: 4m 28s\tremaining: 3m 41s\n",
      "14000:\tlearn: 3.3618909\ttotal: 4m 39s\tremaining: 3m 31s\n",
      "14500:\tlearn: 3.3562542\ttotal: 4m 49s\tremaining: 3m 22s\n",
      "15000:\tlearn: 3.3507860\ttotal: 4m 59s\tremaining: 3m 12s\n",
      "15500:\tlearn: 3.3454226\ttotal: 5m 9s\tremaining: 3m 2s\n",
      "16000:\tlearn: 3.3401451\ttotal: 5m 19s\tremaining: 2m 52s\n",
      "16500:\tlearn: 3.3349443\ttotal: 5m 29s\tremaining: 2m 42s\n",
      "17000:\tlearn: 3.3298202\ttotal: 5m 38s\tremaining: 2m 32s\n",
      "17500:\tlearn: 3.3247889\ttotal: 5m 48s\tremaining: 2m 22s\n",
      "18000:\tlearn: 3.3198023\ttotal: 5m 58s\tremaining: 2m 12s\n",
      "18500:\tlearn: 3.3149553\ttotal: 6m 7s\tremaining: 2m 1s\n",
      "19000:\tlearn: 3.3100387\ttotal: 6m 17s\tremaining: 1m 51s\n",
      "19500:\tlearn: 3.3052482\ttotal: 6m 26s\tremaining: 1m 41s\n",
      "20000:\tlearn: 3.3005276\ttotal: 6m 36s\tremaining: 1m 31s\n",
      "20500:\tlearn: 3.2958576\ttotal: 6m 45s\tremaining: 1m 21s\n",
      "21000:\tlearn: 3.2912687\ttotal: 6m 55s\tremaining: 1m 11s\n",
      "21500:\tlearn: 3.2867122\ttotal: 7m 4s\tremaining: 1m 1s\n",
      "22000:\tlearn: 3.2821492\ttotal: 7m 13s\tremaining: 52s\n",
      "22500:\tlearn: 3.2778026\ttotal: 7m 23s\tremaining: 42s\n",
      "23000:\tlearn: 3.2733399\ttotal: 7m 32s\tremaining: 32.1s\n",
      "23500:\tlearn: 3.2690310\ttotal: 7m 41s\tremaining: 22.3s\n",
      "24000:\tlearn: 3.2647031\ttotal: 7m 50s\tremaining: 12.4s\n",
      "24500:\tlearn: 3.2604837\ttotal: 8m\tremaining: 2.63s\n",
      "24634:\tlearn: 3.2593249\ttotal: 8m 2s\tremaining: 0us\n"
     ]
    },
    {
     "name": "stderr",
     "output_type": "stream",
     "text": [
      "Warning: less than 75% gpu memory available for training. Free: 6047 Total: 8191.375\n"
     ]
    },
    {
     "name": "stdout",
     "output_type": "stream",
     "text": [
      "0:\tlearn: 3.8453776\ttotal: 18ms\tremaining: 7m 23s\n",
      "500:\tlearn: 3.6920628\ttotal: 9.13s\tremaining: 7m 19s\n",
      "1000:\tlearn: 3.6444915\ttotal: 18.2s\tremaining: 7m 9s\n",
      "1500:\tlearn: 3.6105767\ttotal: 27.3s\tremaining: 7m\n",
      "2000:\tlearn: 3.5857879\ttotal: 36.3s\tremaining: 6m 51s\n",
      "2500:\tlearn: 3.5656930\ttotal: 45.4s\tremaining: 6m 42s\n",
      "3000:\tlearn: 3.5481932\ttotal: 54.5s\tremaining: 6m 33s\n",
      "3500:\tlearn: 3.5330841\ttotal: 1m 3s\tremaining: 6m 24s\n",
      "4000:\tlearn: 3.5194680\ttotal: 1m 12s\tremaining: 6m 15s\n",
      "4500:\tlearn: 3.5069321\ttotal: 1m 21s\tremaining: 6m 6s\n",
      "5000:\tlearn: 3.4952646\ttotal: 1m 30s\tremaining: 5m 57s\n",
      "5500:\tlearn: 3.4844183\ttotal: 1m 40s\tremaining: 5m 48s\n",
      "6000:\tlearn: 3.4746009\ttotal: 1m 49s\tremaining: 5m 39s\n",
      "6500:\tlearn: 3.4654898\ttotal: 1m 58s\tremaining: 5m 30s\n",
      "7000:\tlearn: 3.4567268\ttotal: 2m 7s\tremaining: 5m 21s\n",
      "7500:\tlearn: 3.4484946\ttotal: 2m 16s\tremaining: 5m 12s\n",
      "8000:\tlearn: 3.4408076\ttotal: 2m 26s\tremaining: 5m 3s\n",
      "8500:\tlearn: 3.4333514\ttotal: 2m 35s\tremaining: 4m 54s\n",
      "9000:\tlearn: 3.4259244\ttotal: 2m 44s\tremaining: 4m 45s\n",
      "9500:\tlearn: 3.4188527\ttotal: 2m 53s\tremaining: 4m 36s\n",
      "10000:\tlearn: 3.4119136\ttotal: 3m 3s\tremaining: 4m 27s\n",
      "10500:\tlearn: 3.4051375\ttotal: 3m 12s\tremaining: 4m 18s\n",
      "11000:\tlearn: 3.3986612\ttotal: 3m 21s\tremaining: 4m 9s\n",
      "11500:\tlearn: 3.3922842\ttotal: 3m 30s\tremaining: 4m\n",
      "12000:\tlearn: 3.3861540\ttotal: 3m 39s\tremaining: 3m 51s\n",
      "12500:\tlearn: 3.3800741\ttotal: 3m 49s\tremaining: 3m 42s\n",
      "13000:\tlearn: 3.3742129\ttotal: 3m 58s\tremaining: 3m 33s\n",
      "13500:\tlearn: 3.3684345\ttotal: 4m 7s\tremaining: 3m 24s\n",
      "14000:\tlearn: 3.3629087\ttotal: 4m 16s\tremaining: 3m 15s\n",
      "14500:\tlearn: 3.3572417\ttotal: 4m 26s\tremaining: 3m 5s\n",
      "15000:\tlearn: 3.3518015\ttotal: 4m 35s\tremaining: 2m 56s\n",
      "15500:\tlearn: 3.3465851\ttotal: 4m 44s\tremaining: 2m 47s\n",
      "16000:\tlearn: 3.3414122\ttotal: 4m 53s\tremaining: 2m 38s\n",
      "16500:\tlearn: 3.3363132\ttotal: 5m 3s\tremaining: 2m 29s\n",
      "17000:\tlearn: 3.3312065\ttotal: 5m 12s\tremaining: 2m 20s\n",
      "17500:\tlearn: 3.3262549\ttotal: 5m 21s\tremaining: 2m 11s\n",
      "18000:\tlearn: 3.3213443\ttotal: 5m 30s\tremaining: 2m 1s\n",
      "18500:\tlearn: 3.3165287\ttotal: 5m 40s\tremaining: 1m 52s\n",
      "19000:\tlearn: 3.3116504\ttotal: 5m 49s\tremaining: 1m 43s\n",
      "19500:\tlearn: 3.3068909\ttotal: 5m 58s\tremaining: 1m 34s\n",
      "20000:\tlearn: 3.3022258\ttotal: 6m 7s\tremaining: 1m 25s\n",
      "20500:\tlearn: 3.2976070\ttotal: 6m 17s\tremaining: 1m 16s\n",
      "21000:\tlearn: 3.2929692\ttotal: 6m 26s\tremaining: 1m 6s\n",
      "21500:\tlearn: 3.2884510\ttotal: 6m 35s\tremaining: 57.7s\n",
      "22000:\tlearn: 3.2839657\ttotal: 6m 45s\tremaining: 48.5s\n",
      "22500:\tlearn: 3.2795200\ttotal: 6m 54s\tremaining: 39.3s\n",
      "23000:\tlearn: 3.2750990\ttotal: 7m 3s\tremaining: 30.1s\n",
      "23500:\tlearn: 3.2707319\ttotal: 7m 12s\tremaining: 20.9s\n",
      "24000:\tlearn: 3.2665114\ttotal: 7m 22s\tremaining: 11.7s\n",
      "24500:\tlearn: 3.2622896\ttotal: 7m 31s\tremaining: 2.47s\n",
      "24634:\tlearn: 3.2611755\ttotal: 7m 33s\tremaining: 0us\n"
     ]
    },
    {
     "name": "stderr",
     "output_type": "stream",
     "text": [
      "Warning: less than 75% gpu memory available for training. Free: 6047 Total: 8191.375\n"
     ]
    },
    {
     "name": "stdout",
     "output_type": "stream",
     "text": [
      "0:\tlearn: 3.8454971\ttotal: 18.2ms\tremaining: 7m 27s\n",
      "500:\tlearn: 3.6930260\ttotal: 9.1s\tremaining: 7m 18s\n",
      "1000:\tlearn: 3.6420433\ttotal: 18.2s\tremaining: 7m 9s\n",
      "1500:\tlearn: 3.6085172\ttotal: 27.3s\tremaining: 7m\n",
      "2000:\tlearn: 3.5839458\ttotal: 36.4s\tremaining: 6m 51s\n",
      "2500:\tlearn: 3.5633802\ttotal: 45.5s\tremaining: 6m 42s\n",
      "3000:\tlearn: 3.5455926\ttotal: 54.6s\tremaining: 6m 33s\n",
      "3500:\tlearn: 3.5299833\ttotal: 1m 3s\tremaining: 6m 24s\n",
      "4000:\tlearn: 3.5162963\ttotal: 1m 12s\tremaining: 6m 15s\n",
      "4500:\tlearn: 3.5038753\ttotal: 1m 21s\tremaining: 6m 6s\n",
      "5000:\tlearn: 3.4922431\ttotal: 1m 31s\tremaining: 5m 57s\n",
      "5500:\tlearn: 3.4813837\ttotal: 1m 40s\tremaining: 5m 48s\n",
      "6000:\tlearn: 3.4714170\ttotal: 1m 49s\tremaining: 5m 39s\n",
      "6500:\tlearn: 3.4624062\ttotal: 1m 58s\tremaining: 5m 30s\n",
      "7000:\tlearn: 3.4540081\ttotal: 2m 7s\tremaining: 5m 21s\n",
      "7500:\tlearn: 3.4458919\ttotal: 2m 16s\tremaining: 5m 12s\n",
      "8000:\tlearn: 3.4381649\ttotal: 2m 26s\tremaining: 5m 3s\n",
      "8500:\tlearn: 3.4306074\ttotal: 2m 35s\tremaining: 4m 54s\n",
      "9000:\tlearn: 3.4231748\ttotal: 2m 44s\tremaining: 4m 45s\n",
      "9500:\tlearn: 3.4160812\ttotal: 2m 53s\tremaining: 4m 36s\n",
      "10000:\tlearn: 3.4093033\ttotal: 3m 2s\tremaining: 4m 27s\n",
      "10500:\tlearn: 3.4026084\ttotal: 3m 12s\tremaining: 4m 18s\n",
      "11000:\tlearn: 3.3962239\ttotal: 3m 21s\tremaining: 4m 9s\n",
      "11500:\tlearn: 3.3899689\ttotal: 3m 30s\tremaining: 4m\n",
      "12000:\tlearn: 3.3837852\ttotal: 3m 39s\tremaining: 3m 51s\n",
      "12500:\tlearn: 3.3778367\ttotal: 3m 49s\tremaining: 3m 42s\n",
      "13000:\tlearn: 3.3719104\ttotal: 3m 58s\tremaining: 3m 33s\n",
      "13500:\tlearn: 3.3661267\ttotal: 4m 7s\tremaining: 3m 24s\n",
      "14000:\tlearn: 3.3603510\ttotal: 4m 16s\tremaining: 3m 15s\n",
      "14500:\tlearn: 3.3547901\ttotal: 4m 25s\tremaining: 3m 5s\n",
      "15000:\tlearn: 3.3493193\ttotal: 4m 35s\tremaining: 2m 56s\n",
      "15500:\tlearn: 3.3439472\ttotal: 4m 44s\tremaining: 2m 47s\n",
      "16000:\tlearn: 3.3387115\ttotal: 4m 53s\tremaining: 2m 38s\n",
      "16500:\tlearn: 3.3335111\ttotal: 5m 3s\tremaining: 2m 29s\n",
      "17000:\tlearn: 3.3283990\ttotal: 5m 12s\tremaining: 2m 20s\n",
      "17500:\tlearn: 3.3232742\ttotal: 5m 21s\tremaining: 2m 11s\n",
      "18000:\tlearn: 3.3183294\ttotal: 5m 30s\tremaining: 2m 1s\n",
      "18500:\tlearn: 3.3134621\ttotal: 5m 40s\tremaining: 1m 52s\n",
      "19000:\tlearn: 3.3087023\ttotal: 5m 49s\tremaining: 1m 43s\n",
      "19500:\tlearn: 3.3040018\ttotal: 5m 58s\tremaining: 1m 34s\n",
      "20000:\tlearn: 3.2992718\ttotal: 6m 7s\tremaining: 1m 25s\n",
      "20500:\tlearn: 3.2945868\ttotal: 6m 17s\tremaining: 1m 16s\n",
      "21000:\tlearn: 3.2899301\ttotal: 6m 26s\tremaining: 1m 6s\n",
      "21500:\tlearn: 3.2854195\ttotal: 6m 35s\tremaining: 57.7s\n",
      "22000:\tlearn: 3.2808046\ttotal: 6m 44s\tremaining: 48.5s\n",
      "22500:\tlearn: 3.2764849\ttotal: 6m 54s\tremaining: 39.3s\n",
      "23000:\tlearn: 3.2721170\ttotal: 7m 3s\tremaining: 30.1s\n",
      "23500:\tlearn: 3.2677862\ttotal: 7m 12s\tremaining: 20.9s\n",
      "24000:\tlearn: 3.2635070\ttotal: 7m 21s\tremaining: 11.7s\n",
      "24500:\tlearn: 3.2592289\ttotal: 7m 31s\tremaining: 2.47s\n",
      "24634:\tlearn: 3.2580979\ttotal: 7m 33s\tremaining: 0us\n"
     ]
    },
    {
     "name": "stderr",
     "output_type": "stream",
     "text": [
      "Warning: less than 75% gpu memory available for training. Free: 6047 Total: 8191.375\n"
     ]
    },
    {
     "name": "stdout",
     "output_type": "stream",
     "text": [
      "0:\tlearn: 3.8458937\ttotal: 18.4ms\tremaining: 7m 34s\n",
      "500:\tlearn: 3.6921519\ttotal: 9.13s\tremaining: 7m 19s\n",
      "1000:\tlearn: 3.6429225\ttotal: 18.2s\tremaining: 7m 10s\n",
      "1500:\tlearn: 3.6107421\ttotal: 27.3s\tremaining: 7m\n",
      "2000:\tlearn: 3.5859780\ttotal: 36.4s\tremaining: 6m 52s\n",
      "2500:\tlearn: 3.5655237\ttotal: 45.6s\tremaining: 6m 43s\n",
      "3000:\tlearn: 3.5491502\ttotal: 54.7s\tremaining: 6m 34s\n",
      "3500:\tlearn: 3.5337531\ttotal: 1m 3s\tremaining: 6m 25s\n",
      "4000:\tlearn: 3.5199274\ttotal: 1m 12s\tremaining: 6m 16s\n",
      "4500:\tlearn: 3.5075716\ttotal: 1m 22s\tremaining: 6m 7s\n",
      "5000:\tlearn: 3.4963056\ttotal: 1m 31s\tremaining: 5m 58s\n",
      "5500:\tlearn: 3.4856907\ttotal: 1m 40s\tremaining: 5m 49s\n",
      "6000:\tlearn: 3.4760336\ttotal: 1m 49s\tremaining: 5m 40s\n",
      "6500:\tlearn: 3.4668983\ttotal: 1m 58s\tremaining: 5m 31s\n",
      "7000:\tlearn: 3.4581893\ttotal: 2m 8s\tremaining: 5m 22s\n",
      "7500:\tlearn: 3.4501722\ttotal: 2m 17s\tremaining: 5m 13s\n",
      "8000:\tlearn: 3.4423027\ttotal: 2m 26s\tremaining: 5m 4s\n",
      "8500:\tlearn: 3.4346879\ttotal: 2m 35s\tremaining: 4m 55s\n",
      "9000:\tlearn: 3.4273140\ttotal: 2m 44s\tremaining: 4m 46s\n",
      "9500:\tlearn: 3.4202173\ttotal: 2m 54s\tremaining: 4m 37s\n",
      "10000:\tlearn: 3.4133351\ttotal: 3m 3s\tremaining: 4m 28s\n",
      "10500:\tlearn: 3.4067402\ttotal: 3m 12s\tremaining: 4m 19s\n",
      "11000:\tlearn: 3.4001526\ttotal: 3m 21s\tremaining: 4m 10s\n",
      "11500:\tlearn: 3.3937511\ttotal: 3m 31s\tremaining: 4m 1s\n",
      "12000:\tlearn: 3.3875107\ttotal: 3m 40s\tremaining: 3m 51s\n",
      "12500:\tlearn: 3.3816668\ttotal: 3m 49s\tremaining: 3m 42s\n",
      "13000:\tlearn: 3.3758297\ttotal: 3m 58s\tremaining: 3m 33s\n",
      "13500:\tlearn: 3.3699926\ttotal: 4m 8s\tremaining: 3m 24s\n",
      "14000:\tlearn: 3.3644777\ttotal: 4m 17s\tremaining: 3m 15s\n",
      "14500:\tlearn: 3.3589720\ttotal: 4m 26s\tremaining: 3m 6s\n",
      "15000:\tlearn: 3.3535898\ttotal: 4m 35s\tremaining: 2m 57s\n",
      "15500:\tlearn: 3.3481958\ttotal: 4m 45s\tremaining: 2m 47s\n",
      "16000:\tlearn: 3.3428845\ttotal: 4m 54s\tremaining: 2m 38s\n",
      "16500:\tlearn: 3.3377121\ttotal: 5m 3s\tremaining: 2m 29s\n",
      "17000:\tlearn: 3.3325591\ttotal: 5m 12s\tremaining: 2m 20s\n",
      "17500:\tlearn: 3.3275546\ttotal: 5m 22s\tremaining: 2m 11s\n",
      "18000:\tlearn: 3.3225956\ttotal: 5m 31s\tremaining: 2m 2s\n",
      "18500:\tlearn: 3.3176823\ttotal: 5m 40s\tremaining: 1m 52s\n",
      "19000:\tlearn: 3.3128788\ttotal: 5m 49s\tremaining: 1m 43s\n",
      "19500:\tlearn: 3.3081521\ttotal: 5m 59s\tremaining: 1m 34s\n",
      "20000:\tlearn: 3.3034163\ttotal: 6m 8s\tremaining: 1m 25s\n",
      "20500:\tlearn: 3.2988002\ttotal: 6m 17s\tremaining: 1m 16s\n",
      "21000:\tlearn: 3.2942135\ttotal: 6m 26s\tremaining: 1m 6s\n",
      "21500:\tlearn: 3.2896677\ttotal: 6m 35s\tremaining: 57.7s\n",
      "22000:\tlearn: 3.2851820\ttotal: 6m 45s\tremaining: 48.5s\n",
      "22500:\tlearn: 3.2807764\ttotal: 6m 54s\tremaining: 39.3s\n",
      "23000:\tlearn: 3.2762308\ttotal: 7m 3s\tremaining: 30.1s\n",
      "23500:\tlearn: 3.2718309\ttotal: 7m 12s\tremaining: 20.9s\n",
      "24000:\tlearn: 3.2676051\ttotal: 7m 22s\tremaining: 11.7s\n",
      "24500:\tlearn: 3.2634362\ttotal: 7m 31s\tremaining: 2.47s\n",
      "24634:\tlearn: 3.2622735\ttotal: 7m 33s\tremaining: 0us\n"
     ]
    },
    {
     "name": "stderr",
     "output_type": "stream",
     "text": [
      "Warning: less than 75% gpu memory available for training. Free: 6047 Total: 8191.375\n"
     ]
    },
    {
     "name": "stdout",
     "output_type": "stream",
     "text": [
      "0:\tlearn: 3.8458539\ttotal: 18.1ms\tremaining: 7m 26s\n",
      "500:\tlearn: 3.6920643\ttotal: 9.15s\tremaining: 7m 20s\n",
      "1000:\tlearn: 3.6419031\ttotal: 18.2s\tremaining: 7m 10s\n",
      "1500:\tlearn: 3.6092127\ttotal: 27.3s\tremaining: 7m\n",
      "2000:\tlearn: 3.5844636\ttotal: 36.4s\tremaining: 6m 52s\n",
      "2500:\tlearn: 3.5646529\ttotal: 45.5s\tremaining: 6m 43s\n",
      "3000:\tlearn: 3.5467461\ttotal: 54.7s\tremaining: 6m 34s\n",
      "3500:\tlearn: 3.5316512\ttotal: 1m 3s\tremaining: 6m 25s\n",
      "4000:\tlearn: 3.5175366\ttotal: 1m 12s\tremaining: 6m 15s\n",
      "4500:\tlearn: 3.5053012\ttotal: 1m 22s\tremaining: 6m 6s\n",
      "5000:\tlearn: 3.4937445\ttotal: 1m 31s\tremaining: 5m 57s\n",
      "5500:\tlearn: 3.4830760\ttotal: 1m 40s\tremaining: 5m 48s\n",
      "6000:\tlearn: 3.4731017\ttotal: 1m 49s\tremaining: 5m 39s\n",
      "6500:\tlearn: 3.4637322\ttotal: 1m 58s\tremaining: 5m 30s\n",
      "7000:\tlearn: 3.4552143\ttotal: 2m 7s\tremaining: 5m 22s\n",
      "7500:\tlearn: 3.4469924\ttotal: 2m 17s\tremaining: 5m 13s\n",
      "8000:\tlearn: 3.4389636\ttotal: 2m 26s\tremaining: 5m 4s\n",
      "8500:\tlearn: 3.4314088\ttotal: 2m 35s\tremaining: 4m 55s\n",
      "9000:\tlearn: 3.4239087\ttotal: 2m 44s\tremaining: 4m 46s\n",
      "9500:\tlearn: 3.4168387\ttotal: 2m 53s\tremaining: 4m 37s\n",
      "10000:\tlearn: 3.4099895\ttotal: 3m 3s\tremaining: 4m 28s\n",
      "10500:\tlearn: 3.4033599\ttotal: 3m 12s\tremaining: 4m 19s\n",
      "11000:\tlearn: 3.3968912\ttotal: 3m 21s\tremaining: 4m 9s\n",
      "11500:\tlearn: 3.3906472\ttotal: 3m 30s\tremaining: 4m\n",
      "12000:\tlearn: 3.3846883\ttotal: 3m 40s\tremaining: 3m 51s\n",
      "12500:\tlearn: 3.3786819\ttotal: 3m 49s\tremaining: 3m 42s\n",
      "13000:\tlearn: 3.3728359\ttotal: 3m 58s\tremaining: 3m 33s\n",
      "13500:\tlearn: 3.3671148\ttotal: 4m 7s\tremaining: 3m 24s\n",
      "14000:\tlearn: 3.3615628\ttotal: 4m 17s\tremaining: 3m 15s\n",
      "14500:\tlearn: 3.3560162\ttotal: 4m 26s\tremaining: 3m 6s\n",
      "15000:\tlearn: 3.3505462\ttotal: 4m 35s\tremaining: 2m 57s\n",
      "15500:\tlearn: 3.3451127\ttotal: 4m 44s\tremaining: 2m 47s\n",
      "16000:\tlearn: 3.3397988\ttotal: 4m 54s\tremaining: 2m 38s\n",
      "16500:\tlearn: 3.3345893\ttotal: 5m 3s\tremaining: 2m 29s\n",
      "17000:\tlearn: 3.3294064\ttotal: 5m 12s\tremaining: 2m 20s\n",
      "17500:\tlearn: 3.3243652\ttotal: 5m 21s\tremaining: 2m 11s\n",
      "18000:\tlearn: 3.3194048\ttotal: 5m 31s\tremaining: 2m 2s\n",
      "18500:\tlearn: 3.3145206\ttotal: 5m 40s\tremaining: 1m 52s\n",
      "19000:\tlearn: 3.3095850\ttotal: 5m 49s\tremaining: 1m 43s\n",
      "19500:\tlearn: 3.3048244\ttotal: 5m 58s\tremaining: 1m 34s\n",
      "20000:\tlearn: 3.3001619\ttotal: 6m 8s\tremaining: 1m 25s\n",
      "20500:\tlearn: 3.2955312\ttotal: 6m 17s\tremaining: 1m 16s\n",
      "21000:\tlearn: 3.2910085\ttotal: 6m 26s\tremaining: 1m 6s\n",
      "21500:\tlearn: 3.2864779\ttotal: 6m 35s\tremaining: 57.7s\n",
      "22000:\tlearn: 3.2819455\ttotal: 6m 45s\tremaining: 48.5s\n",
      "22500:\tlearn: 3.2774550\ttotal: 6m 54s\tremaining: 39.3s\n",
      "23000:\tlearn: 3.2729880\ttotal: 7m 3s\tremaining: 30.1s\n",
      "23500:\tlearn: 3.2686355\ttotal: 7m 12s\tremaining: 20.9s\n",
      "24000:\tlearn: 3.2642631\ttotal: 7m 22s\tremaining: 11.7s\n",
      "24500:\tlearn: 3.2600228\ttotal: 7m 31s\tremaining: 2.47s\n",
      "24634:\tlearn: 3.2588759\ttotal: 7m 33s\tremaining: 0us\n"
     ]
    },
    {
     "name": "stderr",
     "output_type": "stream",
     "text": [
      "Warning: less than 75% gpu memory available for training. Free: 6047 Total: 8191.375\n"
     ]
    },
    {
     "name": "stdout",
     "output_type": "stream",
     "text": [
      "0:\tlearn: 3.8474362\ttotal: 18.3ms\tremaining: 7m 31s\n",
      "500:\tlearn: 3.6949730\ttotal: 9.08s\tremaining: 7m 17s\n",
      "1000:\tlearn: 3.6444105\ttotal: 18.1s\tremaining: 7m 8s\n",
      "1500:\tlearn: 3.6120705\ttotal: 27.2s\tremaining: 6m 59s\n",
      "2000:\tlearn: 3.5871724\ttotal: 36.3s\tremaining: 6m 51s\n",
      "2500:\tlearn: 3.5663622\ttotal: 45.5s\tremaining: 6m 42s\n",
      "3000:\tlearn: 3.5489546\ttotal: 54.6s\tremaining: 6m 33s\n",
      "3500:\tlearn: 3.5331560\ttotal: 1m 3s\tremaining: 6m 24s\n",
      "4000:\tlearn: 3.5190930\ttotal: 1m 12s\tremaining: 6m 15s\n",
      "4500:\tlearn: 3.5064491\ttotal: 1m 21s\tremaining: 6m 6s\n",
      "5000:\tlearn: 3.4949744\ttotal: 1m 31s\tremaining: 5m 57s\n",
      "5500:\tlearn: 3.4843140\ttotal: 1m 40s\tremaining: 5m 48s\n",
      "6000:\tlearn: 3.4743225\ttotal: 1m 49s\tremaining: 5m 39s\n",
      "6500:\tlearn: 3.4651393\ttotal: 1m 58s\tremaining: 5m 30s\n",
      "7000:\tlearn: 3.4566127\ttotal: 2m 7s\tremaining: 5m 22s\n",
      "7500:\tlearn: 3.4485357\ttotal: 2m 17s\tremaining: 5m 13s\n",
      "8000:\tlearn: 3.4406406\ttotal: 2m 26s\tremaining: 5m 4s\n",
      "8500:\tlearn: 3.4330359\ttotal: 2m 35s\tremaining: 4m 55s\n",
      "9000:\tlearn: 3.4256560\ttotal: 2m 44s\tremaining: 4m 46s\n",
      "9500:\tlearn: 3.4186440\ttotal: 2m 54s\tremaining: 4m 37s\n",
      "10000:\tlearn: 3.4120024\ttotal: 3m 3s\tremaining: 4m 28s\n",
      "10500:\tlearn: 3.4054315\ttotal: 3m 12s\tremaining: 4m 19s\n",
      "11000:\tlearn: 3.3988265\ttotal: 3m 21s\tremaining: 4m 10s\n",
      "11500:\tlearn: 3.3923511\ttotal: 3m 30s\tremaining: 4m\n",
      "12000:\tlearn: 3.3862512\ttotal: 3m 40s\tremaining: 3m 51s\n",
      "12500:\tlearn: 3.3801687\ttotal: 3m 49s\tremaining: 3m 42s\n",
      "13000:\tlearn: 3.3744595\ttotal: 3m 58s\tremaining: 3m 33s\n",
      "13500:\tlearn: 3.3686271\ttotal: 4m 7s\tremaining: 3m 24s\n",
      "14000:\tlearn: 3.3628975\ttotal: 4m 17s\tremaining: 3m 15s\n",
      "14500:\tlearn: 3.3574331\ttotal: 4m 26s\tremaining: 3m 6s\n",
      "15000:\tlearn: 3.3520031\ttotal: 4m 35s\tremaining: 2m 57s\n",
      "15500:\tlearn: 3.3466226\ttotal: 4m 44s\tremaining: 2m 47s\n",
      "16000:\tlearn: 3.3412718\ttotal: 4m 54s\tremaining: 2m 38s\n",
      "16500:\tlearn: 3.3361454\ttotal: 5m 3s\tremaining: 2m 29s\n",
      "17000:\tlearn: 3.3310455\ttotal: 5m 12s\tremaining: 2m 20s\n",
      "17500:\tlearn: 3.3260371\ttotal: 5m 22s\tremaining: 2m 11s\n",
      "18000:\tlearn: 3.3209582\ttotal: 5m 31s\tremaining: 2m 2s\n",
      "18500:\tlearn: 3.3161584\ttotal: 5m 40s\tremaining: 1m 52s\n",
      "19000:\tlearn: 3.3112923\ttotal: 5m 49s\tremaining: 1m 43s\n",
      "19500:\tlearn: 3.3065967\ttotal: 5m 59s\tremaining: 1m 34s\n",
      "20000:\tlearn: 3.3019028\ttotal: 6m 8s\tremaining: 1m 25s\n",
      "20500:\tlearn: 3.2972684\ttotal: 6m 17s\tremaining: 1m 16s\n",
      "21000:\tlearn: 3.2925735\ttotal: 6m 26s\tremaining: 1m 6s\n",
      "21500:\tlearn: 3.2880139\ttotal: 6m 36s\tremaining: 57.7s\n",
      "22000:\tlearn: 3.2835126\ttotal: 6m 45s\tremaining: 48.5s\n",
      "22500:\tlearn: 3.2791574\ttotal: 6m 54s\tremaining: 39.3s\n",
      "23000:\tlearn: 3.2748125\ttotal: 7m 3s\tremaining: 30.1s\n",
      "23500:\tlearn: 3.2705216\ttotal: 7m 13s\tremaining: 20.9s\n",
      "24000:\tlearn: 3.2662665\ttotal: 7m 22s\tremaining: 11.7s\n",
      "24500:\tlearn: 3.2620796\ttotal: 7m 31s\tremaining: 2.47s\n",
      "24634:\tlearn: 3.2609145\ttotal: 7m 34s\tremaining: 0us\n"
     ]
    },
    {
     "name": "stderr",
     "output_type": "stream",
     "text": [
      "/home/chunbae/miniconda3/envs/rapids-23.04/lib/python3.10/site-packages/cuml/internals/api_decorators.py:188: UserWarning: To use pickling first train using float32 data to fit the estimator\n",
      "  ret = func(*args, **kwargs)\n",
      "Warning: less than 75% gpu memory available for training. Free: 6021 Total: 8191.375\n"
     ]
    },
    {
     "name": "stdout",
     "output_type": "stream",
     "text": [
      "0:\tlearn: 3.8383767\ttotal: 46.5ms\tremaining: 6m 44s\n",
      "500:\tlearn: 3.3372627\ttotal: 9.66s\tremaining: 2m 38s\n",
      "1000:\tlearn: 3.3158972\ttotal: 19.9s\tremaining: 2m 32s\n",
      "1500:\tlearn: 3.2922130\ttotal: 30s\tremaining: 2m 23s\n",
      "2000:\tlearn: 3.2701456\ttotal: 40.1s\tremaining: 2m 14s\n",
      "2500:\tlearn: 3.2487193\ttotal: 50.3s\tremaining: 2m 4s\n",
      "3000:\tlearn: 3.2288275\ttotal: 1m\tremaining: 1m 54s\n",
      "3500:\tlearn: 3.2096658\ttotal: 1m 10s\tremaining: 1m 44s\n",
      "4000:\tlearn: 3.1915867\ttotal: 1m 20s\tremaining: 1m 34s\n",
      "4500:\tlearn: 3.1738238\ttotal: 1m 30s\tremaining: 1m 24s\n",
      "5000:\tlearn: 3.1566335\ttotal: 1m 40s\tremaining: 1m 14s\n",
      "5500:\tlearn: 3.1399400\ttotal: 1m 51s\tremaining: 1m 4s\n",
      "6000:\tlearn: 3.1238404\ttotal: 2m 1s\tremaining: 54.4s\n",
      "6500:\tlearn: 3.1077573\ttotal: 2m 11s\tremaining: 44.3s\n",
      "7000:\tlearn: 3.0921851\ttotal: 2m 21s\tremaining: 34.2s\n",
      "7500:\tlearn: 3.0765768\ttotal: 2m 31s\tremaining: 24.1s\n",
      "8000:\tlearn: 3.0614301\ttotal: 2m 41s\tremaining: 14s\n",
      "8500:\tlearn: 3.0469411\ttotal: 2m 51s\tremaining: 3.9s\n",
      "8693:\tlearn: 3.0413896\ttotal: 2m 55s\tremaining: 0us\n"
     ]
    },
    {
     "name": "stderr",
     "output_type": "stream",
     "text": [
      "Warning: less than 75% gpu memory available for training. Free: 6021 Total: 8191.375\n"
     ]
    },
    {
     "name": "stdout",
     "output_type": "stream",
     "text": [
      "0:\tlearn: 3.8452753\ttotal: 18.4ms\tremaining: 2m 40s\n",
      "500:\tlearn: 3.6705687\ttotal: 9.5s\tremaining: 2m 35s\n",
      "1000:\tlearn: 3.6120052\ttotal: 18.9s\tremaining: 2m 25s\n",
      "1500:\tlearn: 3.5747340\ttotal: 28.4s\tremaining: 2m 16s\n",
      "2000:\tlearn: 3.5462585\ttotal: 37.9s\tremaining: 2m 6s\n",
      "2500:\tlearn: 3.5214570\ttotal: 47.4s\tremaining: 1m 57s\n",
      "3000:\tlearn: 3.5002764\ttotal: 56.9s\tremaining: 1m 47s\n",
      "3500:\tlearn: 3.4811718\ttotal: 1m 6s\tremaining: 1m 38s\n",
      "4000:\tlearn: 3.4636292\ttotal: 1m 15s\tremaining: 1m 29s\n",
      "4500:\tlearn: 3.4474322\ttotal: 1m 25s\tremaining: 1m 19s\n",
      "5000:\tlearn: 3.4323005\ttotal: 1m 35s\tremaining: 1m 10s\n",
      "5500:\tlearn: 3.4177959\ttotal: 1m 44s\tremaining: 1m\n",
      "6000:\tlearn: 3.4038599\ttotal: 1m 54s\tremaining: 51.3s\n",
      "6500:\tlearn: 3.3905816\ttotal: 2m 3s\tremaining: 41.8s\n",
      "7000:\tlearn: 3.3779073\ttotal: 2m 13s\tremaining: 32.3s\n",
      "7500:\tlearn: 3.3654281\ttotal: 2m 22s\tremaining: 22.7s\n",
      "8000:\tlearn: 3.3536313\ttotal: 2m 32s\tremaining: 13.2s\n",
      "8500:\tlearn: 3.3419162\ttotal: 2m 42s\tremaining: 3.68s\n",
      "8693:\tlearn: 3.3374799\ttotal: 2m 45s\tremaining: 0us\n"
     ]
    },
    {
     "name": "stderr",
     "output_type": "stream",
     "text": [
      "Warning: less than 75% gpu memory available for training. Free: 6021 Total: 8191.375\n"
     ]
    },
    {
     "name": "stdout",
     "output_type": "stream",
     "text": [
      "0:\tlearn: 3.8457006\ttotal: 18.6ms\tremaining: 7m 36s\n",
      "500:\tlearn: 3.6918854\ttotal: 9.53s\tremaining: 7m 39s\n",
      "1000:\tlearn: 3.6429677\ttotal: 19s\tremaining: 7m 29s\n",
      "1500:\tlearn: 3.6088971\ttotal: 28.5s\tremaining: 7m 19s\n",
      "2000:\tlearn: 3.5846660\ttotal: 38s\tremaining: 7m 10s\n",
      "2500:\tlearn: 3.5647605\ttotal: 47.6s\tremaining: 7m\n",
      "3000:\tlearn: 3.5474820\ttotal: 57.1s\tremaining: 6m 51s\n",
      "3500:\tlearn: 3.5322822\ttotal: 1m 6s\tremaining: 6m 42s\n",
      "4000:\tlearn: 3.5185874\ttotal: 1m 16s\tremaining: 6m 33s\n",
      "4500:\tlearn: 3.5061546\ttotal: 1m 25s\tremaining: 6m 23s\n",
      "5000:\tlearn: 3.4945010\ttotal: 1m 35s\tremaining: 6m 14s\n",
      "5500:\tlearn: 3.4841335\ttotal: 1m 44s\tremaining: 6m 4s\n",
      "6000:\tlearn: 3.4744460\ttotal: 1m 54s\tremaining: 5m 55s\n",
      "6500:\tlearn: 3.4655341\ttotal: 2m 4s\tremaining: 5m 46s\n",
      "7000:\tlearn: 3.4571747\ttotal: 2m 13s\tremaining: 5m 36s\n",
      "7500:\tlearn: 3.4491741\ttotal: 2m 23s\tremaining: 5m 27s\n",
      "8000:\tlearn: 3.4415915\ttotal: 2m 32s\tremaining: 5m 17s\n",
      "8500:\tlearn: 3.4343647\ttotal: 2m 42s\tremaining: 5m 8s\n",
      "9000:\tlearn: 3.4271741\ttotal: 2m 52s\tremaining: 4m 59s\n",
      "9500:\tlearn: 3.4203828\ttotal: 3m 1s\tremaining: 4m 49s\n",
      "10000:\tlearn: 3.4138587\ttotal: 3m 11s\tremaining: 4m 40s\n",
      "10500:\tlearn: 3.4074724\ttotal: 3m 21s\tremaining: 4m 30s\n",
      "11000:\tlearn: 3.4013795\ttotal: 3m 30s\tremaining: 4m 21s\n",
      "11500:\tlearn: 3.3953202\ttotal: 3m 40s\tremaining: 4m 11s\n",
      "12000:\tlearn: 3.3895837\ttotal: 3m 50s\tremaining: 4m 2s\n",
      "12500:\tlearn: 3.3837806\ttotal: 3m 59s\tremaining: 3m 52s\n",
      "13000:\tlearn: 3.3782460\ttotal: 4m 9s\tremaining: 3m 43s\n",
      "13500:\tlearn: 3.3727561\ttotal: 4m 19s\tremaining: 3m 33s\n",
      "14000:\tlearn: 3.3674331\ttotal: 4m 29s\tremaining: 3m 24s\n",
      "14500:\tlearn: 3.3622433\ttotal: 4m 38s\tremaining: 3m 14s\n",
      "15000:\tlearn: 3.3570776\ttotal: 4m 48s\tremaining: 3m 5s\n",
      "15500:\tlearn: 3.3518625\ttotal: 4m 58s\tremaining: 2m 55s\n",
      "16000:\tlearn: 3.3469284\ttotal: 5m 7s\tremaining: 2m 46s\n",
      "16500:\tlearn: 3.3419445\ttotal: 5m 17s\tremaining: 2m 36s\n",
      "17000:\tlearn: 3.3371644\ttotal: 5m 27s\tremaining: 2m 26s\n",
      "17500:\tlearn: 3.3324726\ttotal: 5m 37s\tremaining: 2m 17s\n",
      "18000:\tlearn: 3.3277685\ttotal: 5m 46s\tremaining: 2m 7s\n",
      "18500:\tlearn: 3.3231764\ttotal: 5m 56s\tremaining: 1m 58s\n",
      "19000:\tlearn: 3.3186177\ttotal: 6m 6s\tremaining: 1m 48s\n",
      "19500:\tlearn: 3.3139866\ttotal: 6m 15s\tremaining: 1m 38s\n",
      "20000:\tlearn: 3.3094983\ttotal: 6m 25s\tremaining: 1m 29s\n",
      "20500:\tlearn: 3.3050829\ttotal: 6m 35s\tremaining: 1m 19s\n",
      "21000:\tlearn: 3.3006922\ttotal: 6m 45s\tremaining: 1m 10s\n",
      "21500:\tlearn: 3.2963837\ttotal: 6m 54s\tremaining: 1m\n",
      "22000:\tlearn: 3.2922065\ttotal: 7m 4s\tremaining: 50.8s\n",
      "22500:\tlearn: 3.2880278\ttotal: 7m 14s\tremaining: 41.2s\n",
      "23000:\tlearn: 3.2838594\ttotal: 7m 23s\tremaining: 31.5s\n",
      "23500:\tlearn: 3.2797968\ttotal: 7m 33s\tremaining: 21.9s\n",
      "24000:\tlearn: 3.2756640\ttotal: 7m 43s\tremaining: 12.2s\n",
      "24500:\tlearn: 3.2716020\ttotal: 7m 53s\tremaining: 2.59s\n",
      "24634:\tlearn: 3.2705034\ttotal: 7m 55s\tremaining: 0us\n"
     ]
    }
   ],
   "source": [
    "from mlxtend.regressor import StackingCVRegressor\n",
    "from sklearn.linear_model import LogisticRegression\n",
    "\n",
    "lr = LogisticRegression(solver='lbfgs')\n",
    "strg = StackingCVRegressor(regressors =[model, model4, model5, model3], meta_regressor = model, cv=10, random_state = 113, use_features_in_secondary= True)\n",
    "\n",
    "strg_fit = strg.fit(X_train[FEATURE], y_train)"
   ]
  },
  {
   "cell_type": "code",
   "execution_count": 25,
   "metadata": {
    "tags": []
   },
   "outputs": [],
   "source": [
    "\n",
    "from sklearn.metrics import mean_squared_error\n",
    "y_pred = np.clip(strg_fit.predict(x_test[FEATURE]),0,10)"
   ]
  },
  {
   "cell_type": "code",
   "execution_count": 26,
   "metadata": {
    "tags": []
   },
   "outputs": [
    {
     "data": {
      "text/html": [
       "<div>\n",
       "<style scoped>\n",
       "    .dataframe tbody tr th:only-of-type {\n",
       "        vertical-align: middle;\n",
       "    }\n",
       "\n",
       "    .dataframe tbody tr th {\n",
       "        vertical-align: top;\n",
       "    }\n",
       "\n",
       "    .dataframe thead th {\n",
       "        text-align: right;\n",
       "    }\n",
       "</style>\n",
       "<table border=\"1\" class=\"dataframe\">\n",
       "  <thead>\n",
       "    <tr style=\"text-align: right;\">\n",
       "      <th></th>\n",
       "      <th>ID</th>\n",
       "      <th>Book-Rating</th>\n",
       "    </tr>\n",
       "  </thead>\n",
       "  <tbody>\n",
       "    <tr>\n",
       "      <th>0</th>\n",
       "      <td>TEST_000000</td>\n",
       "      <td>5.335622</td>\n",
       "    </tr>\n",
       "    <tr>\n",
       "      <th>1</th>\n",
       "      <td>TEST_000001</td>\n",
       "      <td>6.114633</td>\n",
       "    </tr>\n",
       "    <tr>\n",
       "      <th>2</th>\n",
       "      <td>TEST_000002</td>\n",
       "      <td>4.268382</td>\n",
       "    </tr>\n",
       "    <tr>\n",
       "      <th>3</th>\n",
       "      <td>TEST_000003</td>\n",
       "      <td>4.330330</td>\n",
       "    </tr>\n",
       "    <tr>\n",
       "      <th>4</th>\n",
       "      <td>TEST_000004</td>\n",
       "      <td>5.195701</td>\n",
       "    </tr>\n",
       "    <tr>\n",
       "      <th>...</th>\n",
       "      <td>...</td>\n",
       "      <td>...</td>\n",
       "    </tr>\n",
       "    <tr>\n",
       "      <th>159616</th>\n",
       "      <td>TEST_159616</td>\n",
       "      <td>3.515213</td>\n",
       "    </tr>\n",
       "    <tr>\n",
       "      <th>159617</th>\n",
       "      <td>TEST_159617</td>\n",
       "      <td>2.836590</td>\n",
       "    </tr>\n",
       "    <tr>\n",
       "      <th>159618</th>\n",
       "      <td>TEST_159618</td>\n",
       "      <td>5.233415</td>\n",
       "    </tr>\n",
       "    <tr>\n",
       "      <th>159619</th>\n",
       "      <td>TEST_159619</td>\n",
       "      <td>4.260861</td>\n",
       "    </tr>\n",
       "    <tr>\n",
       "      <th>159620</th>\n",
       "      <td>TEST_159620</td>\n",
       "      <td>4.551967</td>\n",
       "    </tr>\n",
       "  </tbody>\n",
       "</table>\n",
       "<p>159621 rows × 2 columns</p>\n",
       "</div>"
      ],
      "text/plain": [
       "                 ID  Book-Rating\n",
       "0       TEST_000000     5.335622\n",
       "1       TEST_000001     6.114633\n",
       "2       TEST_000002     4.268382\n",
       "3       TEST_000003     4.330330\n",
       "4       TEST_000004     5.195701\n",
       "...             ...          ...\n",
       "159616  TEST_159616     3.515213\n",
       "159617  TEST_159617     2.836590\n",
       "159618  TEST_159618     5.233415\n",
       "159619  TEST_159619     4.260861\n",
       "159620  TEST_159620     4.551967\n",
       "\n",
       "[159621 rows x 2 columns]"
      ]
     },
     "execution_count": 26,
     "metadata": {},
     "output_type": "execute_result"
    }
   ],
   "source": [
    "sub = pd.DataFrame()\n",
    "sub['ID'] = test['ID']\n",
    "sub['Book-Rating'] = y_pred\n",
    "sub"
   ]
  },
  {
   "cell_type": "code",
   "execution_count": 27,
   "metadata": {
    "tags": []
   },
   "outputs": [
    {
     "data": {
      "text/plain": [
       "<Axes: xlabel='Book-Rating', ylabel='Count'>"
      ]
     },
     "execution_count": 27,
     "metadata": {},
     "output_type": "execute_result"
    },
    {
     "data": {
      "image/png": "[encoded data removed]",
      "text/plain": [
       "<Figure size 640x480 with 1 Axes>"
      ]
     },
     "metadata": {},
     "output_type": "display_data"
    }
   ],
   "source": [
    "import seaborn as sns\n",
    "sns.histplot(sub['Book-Rating'])"
   ]
  },
  {
   "cell_type": "code",
   "execution_count": 28,
   "metadata": {
    "tags": []
   },
   "outputs": [],
   "source": [
    "sub.to_csv('submit_cat+stacking.csv', index=False,encoding=\"utf-8-sig\")"
   ]
  }
 ],
 "metadata": {
  "accelerator": "GPU",
  "colab": {
   "provenance": [
    {
     "file_id": "1SmKK39lZcy99cyIifPSkPsA96eYAFKQo",
     "timestamp": 1682568385116
    }
   ]
  },
  "gpuClass": "standard",
  "kernelspec": {
   "display_name": "Python 3 (ipykernel)",
   "language": "python",
   "name": "python3"
  },
  "language_info": {
   "codemirror_mode": {
    "name": "ipython",
    "version": 3
   },
   "file_extension": ".py",
   "mimetype": "text/x-python",
   "name": "python",
   "nbconvert_exporter": "python",
   "pygments_lexer": "ipython3",
   "version": "3.10.10"
  }
 },
 "nbformat": 4,
 "nbformat_minor": 4
}
