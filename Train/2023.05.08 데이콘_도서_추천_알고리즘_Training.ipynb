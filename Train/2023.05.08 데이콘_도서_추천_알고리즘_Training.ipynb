{
 "cells": [
  {
   "cell_type": "code",
   "execution_count": null,
   "metadata": {
    "executionInfo": {
     "elapsed": 1,
     "status": "ok",
     "timestamp": 1682570776482,
     "user": {
      "displayName": "GyeongJun Byeon",
      "userId": "15563492176804444918"
     },
     "user_tz": -540
    },
    "id": "C7aMr6H-DQMx"
   },
   "outputs": [],
   "source": [
    "#!sudo apt-get install -y fonts-nanum\n",
    "#!sudo fc-cache -fv\n",
    "#!rm ~/.cache/matplotlib -rf\n",
    "\n",
    "\n",
    "#티스토리 업로드시 최적화 코드\n",
    "#from IPython.core.display import display, HTML\n",
    "#display(HTML(\"<style>.container {width:90% !important;}</style>\"))"
   ]
  },
  {
   "cell_type": "markdown",
   "metadata": {
    "id": "NvcWabINtkQT"
   },
   "source": [
    "# 2023.04.17\n",
    "# TRAINING\n",
    "Dataset Info.\n",
    "\n",
    "train.csv [파일]\n",
    "\n",
    "    ID : 샘플 고유 ID\n",
    "    User-ID : 유저 고유 ID\n",
    "    Book-ID : 도서 고유 ID\n",
    "    유저 정보\n",
    "    Age : 나이\n",
    "    Location : 지역\n",
    "    도서 정보\n",
    "    Book-Title : 도서 명\n",
    "    Book-Author : 도서 저자\n",
    "    Year-Of-Publication : 도서 출판 년도 (-1일 경우 결측 혹은 알 수 없음)\n",
    "    Publisher : 출판사\n",
    "    Book-Rating : 유저가 도서에 부여한 평점 (0점 ~ 10점)\n",
    "\n",
    "\n",
    "test.csv [파일]\n",
    "\n",
    "    ID : 샘플 고유 ID\n",
    "    User-ID : 유저 고유 ID\n",
    "    Book-ID : 도서 고유 ID\n",
    "    유저 정보\n",
    "    Age : 나이\n",
    "    Location : 지역\n",
    "    도서 정보\n",
    "    Book-Title : 도서 명\n",
    "    Book-Author : 도서 저자\n",
    "    Year-Of-Publication : 도서 출판 년도 (-1일 경우 결측 혹은 알 수 없음)\n",
    "    Publisher : 출판사\n",
    "\n",
    "\n",
    "sample_submission.csv [제출양식]\n",
    "\n",
    "    ID : 샘플 고유 ID\n",
    "    Book-Rating : 예측한 유저가 도서에 부여할 평점"
   ]
  },
  {
   "cell_type": "code",
   "execution_count": 55,
   "metadata": {
    "executionInfo": {
     "elapsed": 3,
     "status": "ok",
     "timestamp": 1682570776911,
     "user": {
      "displayName": "GyeongJun Byeon",
      "userId": "15563492176804444918"
     },
     "user_tz": -540
    },
    "id": "W8gYWePXpsQa",
    "tags": []
   },
   "outputs": [],
   "source": [
    "import pandas as pd"
   ]
  },
  {
   "cell_type": "code",
   "execution_count": 56,
   "metadata": {
    "tags": []
   },
   "outputs": [
    {
     "name": "stderr",
     "output_type": "stream",
     "text": [
      "2023-05-08 16:42:27.934229: I tensorflow/compiler/xla/stream_executor/cuda/cuda_gpu_executor.cc:982] could not open file to read NUMA node: /sys/bus/pci/devices/0000:06:00.0/numa_node\n",
      "Your kernel may have been built without NUMA support.\n",
      "2023-05-08 16:42:27.934331: I tensorflow/compiler/xla/stream_executor/cuda/cuda_gpu_executor.cc:982] could not open file to read NUMA node: /sys/bus/pci/devices/0000:06:00.0/numa_node\n",
      "Your kernel may have been built without NUMA support.\n",
      "2023-05-08 16:42:27.934363: I tensorflow/compiler/xla/stream_executor/cuda/cuda_gpu_executor.cc:982] could not open file to read NUMA node: /sys/bus/pci/devices/0000:06:00.0/numa_node\n",
      "Your kernel may have been built without NUMA support.\n",
      "2023-05-08 16:42:28.283106: I tensorflow/compiler/xla/stream_executor/cuda/cuda_gpu_executor.cc:982] could not open file to read NUMA node: /sys/bus/pci/devices/0000:06:00.0/numa_node\n",
      "Your kernel may have been built without NUMA support.\n",
      "2023-05-08 16:42:28.283135: I tensorflow/core/common_runtime/gpu/gpu_device.cc:1722] Could not identify NUMA node of platform GPU id 0, defaulting to 0.  Your kernel may not have been built with NUMA support.\n",
      "2023-05-08 16:42:28.283182: I tensorflow/compiler/xla/stream_executor/cuda/cuda_gpu_executor.cc:982] could not open file to read NUMA node: /sys/bus/pci/devices/0000:06:00.0/numa_node\n",
      "Your kernel may have been built without NUMA support.\n",
      "2023-05-08 16:42:28.283202: I tensorflow/core/common_runtime/gpu/gpu_device.cc:1635] Created device /device:GPU:0 with 5361 MB memory:  -> device: 0, name: NVIDIA GeForce RTX 3070, pci bus id: 0000:06:00.0, compute capability: 8.6\n"
     ]
    },
    {
     "data": {
      "text/plain": [
       "[name: \"/device:CPU:0\"\n",
       " device_type: \"CPU\"\n",
       " memory_limit: 268435456\n",
       " locality {\n",
       " }\n",
       " incarnation: 12654577214373750847\n",
       " xla_global_id: -1,\n",
       " name: \"/device:GPU:0\"\n",
       " device_type: \"GPU\"\n",
       " memory_limit: 5621415936\n",
       " locality {\n",
       "   bus_id: 1\n",
       "   links {\n",
       "   }\n",
       " }\n",
       " incarnation: 10308167385982630896\n",
       " physical_device_desc: \"device: 0, name: NVIDIA GeForce RTX 3070, pci bus id: 0000:06:00.0, compute capability: 8.6\"\n",
       " xla_global_id: 416903419]"
      ]
     },
     "execution_count": 56,
     "metadata": {},
     "output_type": "execute_result"
    }
   ],
   "source": [
    "# tensorflow device 확인\n",
    "from tensorflow.python.client import device_lib\n",
    "device_lib.list_local_devices()"
   ]
  },
  {
   "cell_type": "code",
   "execution_count": 57,
   "metadata": {
    "executionInfo": {
     "elapsed": 3,
     "status": "ok",
     "timestamp": 1682570779705,
     "user": {
      "displayName": "GyeongJun Byeon",
      "userId": "15563492176804444918"
     },
     "user_tz": -540
    },
    "id": "ERnEHYmGrzow",
    "tags": []
   },
   "outputs": [],
   "source": [
    "import numpy as np\n",
    "import random\n",
    "import os\n",
    "import gc"
   ]
  },
  {
   "cell_type": "code",
   "execution_count": 58,
   "metadata": {
    "executionInfo": {
     "elapsed": 4,
     "status": "ok",
     "timestamp": 1682570779706,
     "user": {
      "displayName": "GyeongJun Byeon",
      "userId": "15563492176804444918"
     },
     "user_tz": -540
    },
    "id": "CWVnfmzAr2sW",
    "tags": []
   },
   "outputs": [],
   "source": [
    "def seed_everything(seed):\n",
    "    random.seed(seed)\n",
    "    os.environ['PYTHONHASHSEED'] = str(seed)\n",
    "    np.random.seed(seed)\n",
    "seed_everything(113) # Seed 고정"
   ]
  },
  {
   "cell_type": "code",
   "execution_count": 59,
   "metadata": {
    "executionInfo": {
     "elapsed": 1014,
     "status": "ok",
     "timestamp": 1682570787444,
     "user": {
      "displayName": "GyeongJun Byeon",
      "userId": "15563492176804444918"
     },
     "user_tz": -540
    },
    "id": "6KuLse1csCx7",
    "tags": []
   },
   "outputs": [],
   "source": [
    "train = pd.read_csv('train.csv')\n",
    "test = pd.read_csv( 'test.csv')\n",
    "sample_submission = pd.read_csv('sample_submission.csv', index_col = 0)"
   ]
  },
  {
   "cell_type": "code",
   "execution_count": 6,
   "metadata": {
    "tags": []
   },
   "outputs": [
    {
     "name": "stdout",
     "output_type": "stream",
     "text": [
      "Requirement already satisfied: lingua-language-detector in ./miniconda3/envs/rapids-23.04/lib/python3.10/site-packages (1.3.2)\n",
      "Requirement already satisfied: numpy<2.0.0,>=1.24.1 in ./miniconda3/envs/rapids-23.04/lib/python3.10/site-packages (from lingua-language-detector) (1.24.3)\n",
      "Requirement already satisfied: regex<2023.0.0,>=2022.10.31 in ./miniconda3/envs/rapids-23.04/lib/python3.10/site-packages (from lingua-language-detector) (2022.10.31)\n"
     ]
    }
   ],
   "source": [
    "# 책 언어식별을 위해 lingua 설치\n",
    "# https://github.com/pemistahl/lingua-py\n",
    "!pip install lingua-language-detector"
   ]
  },
  {
   "cell_type": "code",
   "execution_count": 60,
   "metadata": {
    "tags": []
   },
   "outputs": [],
   "source": [
    "# https://gist.github.com/nealrs/96342d8231b75cf4bb82\n",
    "contractions = {\n",
    "  \"ain't\": \"am not\",\n",
    "  \"aren't\": \"are not\",\n",
    "  \"can't\": \"cannot\",\n",
    "  \"can't've\": \"cannot have\",\n",
    "  \"'cause\": \"because\",\n",
    "  \"could've\": \"could have\",\n",
    "  \"couldn't\": \"could not\",\n",
    "  \"couldn't've\": \"could not have\",\n",
    "  \"didn't\": \"did not\",\n",
    "  \"doesn't\": \"does not\",\n",
    "  \"don't\": \"do not\",\n",
    "  \"hadn't\": \"had not\",\n",
    "  \"hadn't've\": \"had not have\",\n",
    "  \"hasn't\": \"has not\",\n",
    "  \"haven't\": \"have not\",\n",
    "  \"he'd\": \"he would\",\n",
    "  \"he'd've\": \"he would have\",\n",
    "  \"he'll\": \"he will\",\n",
    "  \"he'll've\": \"he will have\",\n",
    "  \"he's\": \"he is\",\n",
    "  \"how'd\": \"how did\",\n",
    "  \"how'd'y\": \"how do you\",\n",
    "  \"how'll\": \"how will\",\n",
    "  \"how's\": \"how is\",\n",
    "  \"I'd\": \"I would\",\n",
    "  \"I'd've\": \"I would have\",\n",
    "  \"I'll\": \"I will\",\n",
    "  \"I'll've\": \"I will have\",\n",
    "  \"I'm\": \"I am\",\n",
    "  \"I've\": \"I have\",\n",
    "  \"isn't\": \"is not\",\n",
    "  \"it'd\": \"it had\",\n",
    "  \"it'd've\": \"it would have\",\n",
    "  \"it'll\": \"it will\",\n",
    "  \"it'll've\": \"it will have\",\n",
    "  \"it's\": \"it is\",\n",
    "  \"let's\": \"let us\",\n",
    "  \"ma'am\": \"madam\",\n",
    "  \"mayn't\": \"may not\",\n",
    "  \"might've\": \"might have\",\n",
    "  \"mightn't\": \"might not\",\n",
    "  \"mightn't've\": \"might not have\",\n",
    "  \"must've\": \"must have\",\n",
    "  \"mustn't\": \"must not\",\n",
    "  \"mustn't've\": \"must not have\",\n",
    "  \"needn't\": \"need not\",\n",
    "  \"needn't've\": \"need not have\",\n",
    "  \"o'clock\": \"of the clock\",\n",
    "  \"oughtn't\": \"ought not\",\n",
    "  \"oughtn't've\": \"ought not have\",\n",
    "  \"shan't\": \"shall not\",\n",
    "  \"sha'n't\": \"shall not\",\n",
    "  \"shan't've\": \"shall not have\",\n",
    "  \"she'd\": \"she would\",\n",
    "  \"she'd've\": \"she would have\",\n",
    "  \"she'll\": \"she will\",\n",
    "  \"she'll've\": \"she will have\",\n",
    "  \"she's\": \"she is\",\n",
    "  \"should've\": \"should have\",\n",
    "  \"shouldn't\": \"should not\",\n",
    "  \"shouldn't've\": \"should not have\",\n",
    "  \"so've\": \"so have\",\n",
    "  \"so's\": \"so is\",\n",
    "  \"that'd\": \"that would\",\n",
    "  \"that'd've\": \"that would have\",\n",
    "  \"that's\": \"that is\",\n",
    "  \"there'd\": \"there had\",\n",
    "  \"there'd've\": \"there would have\",\n",
    "  \"there's\": \"there is\",\n",
    "  \"they'd\": \"they would\",\n",
    "  \"they'd've\": \"they would have\",\n",
    "  \"they'll\": \"they will\",\n",
    "  \"they'll've\": \"they will have\",\n",
    "  \"they're\": \"they are\",\n",
    "  \"they've\": \"they have\",\n",
    "  \"to've\": \"to have\",\n",
    "  \"wasn't\": \"was not\",\n",
    "  \"we'd\": \"we had\",\n",
    "  \"we'd've\": \"we would have\",\n",
    "  \"we'll\": \"we will\",\n",
    "  \"we'll've\": \"we will have\",\n",
    "  \"we're\": \"we are\",\n",
    "  \"we've\": \"we have\",\n",
    "  \"weren't\": \"were not\",\n",
    "  \"what'll\": \"what will\",\n",
    "  \"what'll've\": \"what will have\",\n",
    "  \"what're\": \"what are\",\n",
    "  \"what's\": \"what is\",\n",
    "  \"what've\": \"what have\",\n",
    "  \"when's\": \"when is\",\n",
    "  \"when've\": \"when have\",\n",
    "  \"where'd\": \"where did\",\n",
    "  \"where's\": \"where is\",\n",
    "  \"where've\": \"where have\",\n",
    "  \"who'll\": \"who will\",\n",
    "  \"who'll've\": \"who will have\",\n",
    "  \"who's\": \"who is\",\n",
    "  \"who've\": \"who have\",\n",
    "  \"why's\": \"why is\",\n",
    "  \"why've\": \"why have\",\n",
    "  \"will've\": \"will have\",\n",
    "  \"won't\": \"will not\",\n",
    "  \"won't've\": \"will not have\",\n",
    "  \"would've\": \"would have\",\n",
    "  \"wouldn't\": \"would not\",\n",
    "  \"wouldn't've\": \"would not have\",\n",
    "  \"y'all\": \"you all\",\n",
    "  \"y'alls\": \"you alls\",\n",
    "  \"y'all'd\": \"you all would\",\n",
    "  \"y'all'd've\": \"you all would have\",\n",
    "  \"y'all're\": \"you all are\",\n",
    "  \"y'all've\": \"you all have\",\n",
    "  \"you'd\": \"you had\",\n",
    "  \"you'd've\": \"you would have\",\n",
    "  \"you'll\": \"you you will\",\n",
    "  \"you'll've\": \"you you will have\",\n",
    "  \"you're\": \"you are\",\n",
    "  \"you've\": \"you have\"\n",
    "}"
   ]
  },
  {
   "cell_type": "code",
   "execution_count": 61,
   "metadata": {
    "tags": []
   },
   "outputs": [],
   "source": [
    "from stop_words import get_stop_words\n",
    "# 불용어 리스트\n",
    "languages = [\n",
    "   'Arabic',\n",
    "   'Bulgarian',\n",
    "   'Catalan',\n",
    "   'Czech',\n",
    "   'Danish',\n",
    "   'Dutch',\n",
    "   'English',\n",
    "   'Finnish',\n",
    "   'French',\n",
    "   'German',\n",
    "   'Hungarian',\n",
    "   'Indonesian',\n",
    "   'Italian',\n",
    "   'Norwegian',\n",
    "   'Polish',\n",
    "   'Portuguese',\n",
    "   'Romanian',\n",
    "   'Russian',\n",
    "   'Spanish',\n",
    "   'Swedish',\n",
    "   'Turkish',\n",
    "   'Ukrainian'\n",
    "]\n",
    "my_stop_word_list = []\n",
    "for i in languages:\n",
    "    my_stop_word_list.append(get_stop_words(i.lower()))\n",
    "my_stop_word_list = sum(my_stop_word_list, [])\n",
    "my_stop_word_list = my_stop_word_list + ['paperbook', 'hardcover']\n"
   ]
  },
  {
   "cell_type": "code",
   "execution_count": 62,
   "metadata": {
    "tags": []
   },
   "outputs": [],
   "source": [
    "from bs4 import BeautifulSoup\n",
    "import re\n",
    "\n",
    "#main 단어만 추출 > 차후 이 단어들로 BERTopic 테마 만들 것\n",
    "def preprocessing_sentence(sentence, remove_stopwords = True):\n",
    "    #소문자화\n",
    "    sentence = sentence.lower()\n",
    "    #html 태그 제거\n",
    "    sentence = BeautifulSoup(sentence, \"lxml\").text\n",
    "    #괄호로 닫친 문자열 괄호 제거\n",
    "    sentence = re.sub(r'\\([^)]*\\)',' ',sentence)\n",
    "    #쌍따옴표 제거\n",
    "    sentence = re.sub('\"', ' ', sentence) \n",
    "    #약어 정규화\n",
    "    sentence = ' '.join([contractions[t] if t in contractions else t for t in sentence.split(\" \")])\n",
    "    #소유격 제거\n",
    "    sentence = re.sub(r\"'s\\b\",\" \",sentence)\n",
    "    #특수문자 제거\n",
    "    sentence = re.sub(\"[^a-zA-Z]\",\" \", sentence)\n",
    "    \n",
    "    #불용어 제거\n",
    "    if my_stop_word_list:\n",
    "        tokens = ' '.join(word for word in sentence.split() if not word in my_stop_word_list if len(word)>1)\n",
    "    else:\n",
    "        tokens = ' '.join(word for word in sentence.split() if len(word)>1)\n",
    "    return tokens\n"
   ]
  },
  {
   "cell_type": "code",
   "execution_count": 63,
   "metadata": {
    "tags": []
   },
   "outputs": [],
   "source": [
    "def preprocessing_data(df):\n",
    "    # Decompose Location by split\n",
    "    df['City'] = [(i.split(',')[0]).lstrip().title() for i in df['Location']]\n",
    "    df['State'] = [(i.split(',')[1]).lstrip().title() for i in df['Location']]\n",
    "    df['Country'] = [(i.split(',')[2]).lstrip().title() for i in df['Location']]\n",
    "    \n",
    "    # preprocessing\n",
    "    # NaN, N/A, etc.. Change 'unknown'\n",
    "    # Only using Train Data\t#\n",
    "    #df['City'] = np.where((df['City'] == '')|(df['City'].astype(str) == 'nan')|(df['City'].astype(str) == 'N/A'), 'UnKnown', df['City'])\n",
    "    #df['State'] = np.where((df['State'] == '')|(df['State'].astype(str) == 'nan')|(df['State'].astype(str) == 'N/A'), 'UnKnown', df['State'])\n",
    "    #df['Country'] = np.where((df['Country'] == '')|(df['Country'].astype(str) == 'nan')|(df['Country'].astype(str) == 'N/A')\n",
    "    #                                              |(df['Country'].astype(str) == 'N/A - On The Road')|(df['Country'].astype(str) == 'X')\n",
    "    #                                              |(df['Country'].astype(str) == 'Far Away...')|(df['Country'].astype(str) == 'C')\n",
    "    #                                              |(df['Country'].astype(str) == 'We`Re Global!')|(df['Country'].astype(str) == 'Travelling....')\n",
    "    #                                              #영원한 중국!\n",
    "    #                                              |(df['Country'].astype(str) == 'La Chine Éternelle !')\n",
    "    #                         ,'UnKnown', df['Country'])\n",
    "\t#\n",
    "    ## train에 있는 정보로 County 바꾸기\n",
    "    #df.loc[df['State'] == 'Michigan Usa', 'Country'] = 'Usa'\n",
    "    #df.loc[df['State'] == 'Wicklow', 'Country'] = 'Ireland'\n",
    "    #df.loc[df['State'] == 'Ilfov', 'Country'] = ''\n",
    "    #df.loc[df['State'] == 'Liege', 'Country'] = 'Belgium'\n",
    "    #df.loc[df['State'] == 'Estremadura', 'Country'] = 'Portugal'\n",
    "    #df.loc[df['State'] == 'Aberdeenshire', 'Country'] = 'United Kingdom'\n",
    "    #df.loc[df['State'] == 'Wi', 'Country'] = 'Wisconsin'\n",
    "    #\n",
    "    ## 미국 Country name 통일\n",
    "    #df.loc[df['Country'] == 'America', 'Country'] = 'Usa'\n",
    "    #df.loc[df['Country'] == 'United State', 'Country'] = 'Usa'\n",
    "    #df.loc[df['Country'] == 'United States', 'Country'] = 'Usa'\n",
    "    #df.loc[df['Country'] == 'U.S.A.', 'Country'] = 'Usa'\n",
    "    #df.loc[df['Country'] == 'New York', 'Country'] = 'Usa'\n",
    "    #df.loc[df['Country'] == 'U.S. Of A.', 'Country'] = 'Usa'\n",
    "    #df.loc[df['Country'] == 'United Staes', 'Country'] = 'Usa'\n",
    "    #df.loc[df['Country'] == 'U.S>', 'Country'] = 'Usa'\n",
    "    #df.loc[df['Country'] == 'Usa Now', 'Country'] = 'Usa'\n",
    "    #\n",
    "    ## 영국 Country name 통일\n",
    "    #df.loc[df['Country'] == 'England', 'Country'] = 'United Kingdom'\n",
    "    #df.loc[df['Country'] == 'Scotland', 'Country'] = 'United Kingdom'\n",
    "    #df.loc[df['Country'] == 'Wales', 'Country'] = 'United Kingdom'\n",
    "    #df.loc[df['Country'] == 'Ireland', 'Country'] = 'United Kingdom'\n",
    "    #df.loc[df['Country'] == 'U.K.', 'Country'] = 'United Kingdom'\n",
    "    #df.loc[df['Country'] == 'Usa (Currently Living In England)', 'Country'] = 'United Kingdom'\n",
    "    #df.loc[df['Country'] == 'Uk', 'Country'] = 'United Kingdom'\n",
    "    #\n",
    "    ## 스페인 Country name 통일\n",
    "    #df.loc[df['Country'] == 'España ', 'Country'] = 'Spain'\n",
    "    \n",
    "    return df\n",
    "    "
   ]
  },
  {
   "cell_type": "code",
   "execution_count": null,
   "metadata": {
    "colab": {
     "base_uri": "https://localhost:8080/"
    },
    "executionInfo": {
     "elapsed": 9157,
     "status": "ok",
     "timestamp": 1682570798415,
     "user": {
      "displayName": "GyeongJun Byeon",
      "userId": "15563492176804444918"
     },
     "user_tz": -540
    },
    "id": "pUtz59K59y-A",
    "outputId": "d0f0eb25-b103-4b4c-846a-1ec21fbdffb6"
   },
   "outputs": [],
   "source": [
    "!pip install catboost"
   ]
  },
  {
   "cell_type": "code",
   "execution_count": 64,
   "metadata": {
    "tags": []
   },
   "outputs": [
    {
     "data": {
      "image/png": "[encoded data removed]",
      "text/plain": [
       "<Figure size 640x480 with 1 Axes>"
      ]
     },
     "metadata": {},
     "output_type": "display_data"
    }
   ],
   "source": [
    "import seaborn as sns\n",
    "import matplotlib.pyplot as plt\n",
    "sns.boxplot(x='Age', data=train)\n",
    "plt.show()"
   ]
  },
  {
   "cell_type": "code",
   "execution_count": 65,
   "metadata": {
    "tags": []
   },
   "outputs": [
    {
     "data": {
      "image/png": "[encoded data removed]",
      "text/plain": [
       "<Figure size 640x480 with 1 Axes>"
      ]
     },
     "metadata": {},
     "output_type": "display_data"
    }
   ],
   "source": [
    "sns.boxplot(x='Year-Of-Publication', data=train)\n",
    "plt.show()"
   ]
  },
  {
   "cell_type": "code",
   "execution_count": 66,
   "metadata": {
    "tags": []
   },
   "outputs": [],
   "source": [
    "from lingua import Language, LanguageDetectorBuilder\n",
    "from tqdm import tqdm\n",
    "\n",
    "def feature_engineering(df):\n",
    "    \n",
    "    # Book-Title로 도서 언어분류\n",
    "    df['prep_title'] = df['Book-Title'].apply(preprocessing_sentence)\n",
    "    detector = LanguageDetectorBuilder.from_all_languages().with_preloaded_language_models().with_low_accuracy_mode().build()\n",
    "    \n",
    "    all = []\n",
    "    for row in tqdm(df['prep_title'].unique()):\n",
    "        try:\n",
    "            language = detector.detect_language_of(row)\n",
    "        except:\n",
    "            language = \"error\"\n",
    "            print(\"This row throws and error:\", row)\n",
    "        all.append(language)\n",
    "    prep_title = pd.DataFrame(df['prep_title'].unique(), columns = ['prep_title'])\n",
    "    all = [i.name if str(i) != 'None' else 'None' for i in all]\n",
    "    Language = pd.DataFrame(all, columns = ['Language'])\n",
    "    prep_title = pd.concat([prep_title, Language], axis = 1)\n",
    "    df = pd.merge(df, prep_title, on = 'prep_title', how = 'inner')\n",
    "    \n",
    "    df = df.drop(columns = ['prep_title'])\n",
    "    \n",
    "    # Age 그룹화    \n",
    "    labels = ['0-3','3-6','6-8','8-12','12-18','18-54','55-64','65+']\n",
    "    bins = [0, 3, 6, 8, 12, 18, 54, 64, 250]\n",
    "    #labels = ['0-3','3-6','6-8','8-12','12-18','18-25','25-34','35-44','45-54','55-64','65-74','75+']\n",
    "    #bins = [0, 3, 6, 8, 12, 18, 25, 34, 44, 54, 64, 74, 250]\n",
    "    \n",
    "    # Age 이상치 처리\n",
    "    df['Age'] = df['Age'].apply(lambda x: 3 if x<3 else x)\n",
    "    df['Age'] = df['Age'].apply(lambda x: 100 if x>100 else x)\n",
    "    \n",
    "    df['Age_gb'] = pd.cut(df.Age, bins, labels = labels,include_lowest = True)\n",
    "    \n",
    "    # 출판년도 그룹화\n",
    "    labels = ['Unknown', '-1900', '1900-1970', '1970-2000', '2000-2010', '2010-2020', '2020-']\n",
    "    bins = [-1, 0, 1900, 1970, 2000, 2010, 2020, 3000]\n",
    "    #labels = ['Unknown', '-1900', '1900-1950', '1950-1960', '1960-1970', '1970-1980', '1980-1990', '1990-2000', '2000-2010', '2010-2020', '2020-']\n",
    "    #bins = [-1, 0, 1900, 1950, 1960, 1970, 1980, 1990, 2000, 2010, 2020, 3000]\n",
    "    df['Pub_gb'] = pd.cut(df['Year-Of-Publication'], bins, labels = labels,include_lowest = True)\n",
    "    \n",
    "    # count변수 추가\n",
    "    df = df.join(\n",
    "                df.groupby('User-ID')['User-ID'].aggregate(['count']), #'mean', pd.Series.mode\n",
    "                on='User-ID'\n",
    "                )\n",
    "    df = df.rename(columns = {'count': 'User_count'})   \n",
    "    \n",
    "    df = df.join(\n",
    "                df.groupby('Book-Title')['Book-Title'].aggregate(['count']), #'mean', pd.Series.mode\n",
    "                on='Book-Title'\n",
    "                )\n",
    "    df = df.rename(columns = {'count': 'Rating_count'})\n",
    "\n",
    "    df = df.join(\n",
    "                df.groupby('Book-Author')['Book-Author'].aggregate(['count']), #'mean', pd.Series.mode\n",
    "                on='Book-Author'\n",
    "                )\n",
    "    df = df.rename(columns = {'count': 'Author_count'})        \n",
    "\n",
    "    return df"
   ]
  },
  {
   "cell_type": "code",
   "execution_count": null,
   "metadata": {
    "executionInfo": {
     "elapsed": 7967,
     "status": "ok",
     "timestamp": 1682570806378,
     "user": {
      "displayName": "GyeongJun Byeon",
      "userId": "15563492176804444918"
     },
     "user_tz": -540
    },
    "id": "0PlZEDPBgAzY",
    "tags": []
   },
   "outputs": [
    {
     "name": "stderr",
     "output_type": "stream",
     "text": [
      "/tmp/ipykernel_18032/3976399020.py:9: MarkupResemblesLocatorWarning: The input looks more like a filename than markup. You may want to open this file and pass the filehandle into Beautiful Soup.\n",
      "  sentence = BeautifulSoup(sentence, \"lxml\").text\n",
      " 28%|████████████████████▉                                                     | 52051/183844 [00:50<02:07, 1032.08it/s]"
     ]
    }
   ],
   "source": [
    "from sklearn.preprocessing import OrdinalEncoder\n",
    "\n",
    "FEATURE = ['User-ID','Book-Title','Book-Author','Publisher', 'City','State','Country','Age_gb', 'Pub_gb', 'Language'] #'', \n",
    "\n",
    "train_lb = train.__deepcopy__() \n",
    "test_lb = test.__deepcopy__()\n",
    "\n",
    "train_lb = feature_engineering(train_lb)\n",
    "test_lb = feature_engineering(test_lb)\n",
    "\n",
    "train_lb = preprocessing_data(train_lb)\n",
    "test_lb = preprocessing_data(test_lb)\n",
    "\n",
    "train_lb = train_lb.drop(columns = ['Book-ID', 'Location'])\n",
    "test_lb = test_lb.drop(columns = ['Book-ID', 'Location'])\n",
    "\n",
    "train_lb[FEATURE] = train_lb[FEATURE].astype(str) \n",
    "test_lb[FEATURE] = test_lb[FEATURE].astype(str)\n",
    "\n",
    "for i in FEATURE:\n",
    "    # train에는 없고, test에는 있는 원소는 -2 처리\n",
    "    oe = OrdinalEncoder(handle_unknown='use_encoded_value',\n",
    "                         unknown_value=-2)\n",
    "    oe=oe.fit(train_lb[i].to_numpy().reshape(-1, 1))\n",
    "    train_lb[i] = oe.transform(train_lb[i].to_numpy().reshape(-1, 1))\n",
    "    test_lb[i] = oe.transform(test_lb[i].to_numpy().reshape(-1, 1))"
   ]
  },
  {
   "cell_type": "code",
   "execution_count": null,
   "metadata": {
    "executionInfo": {
     "elapsed": 3,
     "status": "ok",
     "timestamp": 1682570806378,
     "user": {
      "displayName": "GyeongJun Byeon",
      "userId": "15563492176804444918"
     },
     "user_tz": -540
    },
    "id": "cxHlCJXg-ONv",
    "tags": []
   },
   "outputs": [],
   "source": [
    "X_train = train_lb.drop(columns = ['ID', 'Book-Rating'])\n",
    "y_train = train_lb['Book-Rating']\n",
    "x_test = test_lb.drop(columns = ['ID'])"
   ]
  },
  {
   "cell_type": "code",
   "execution_count": 16,
   "metadata": {
    "tags": []
   },
   "outputs": [
    {
     "data": {
      "text/plain": [
       "['Rating_count', 'Year-Of-Publication', 'Age']"
      ]
     },
     "execution_count": 16,
     "metadata": {},
     "output_type": "execute_result"
    }
   ],
   "source": [
    "list(set(X_train.columns) - set(FEATURE))"
   ]
  },
  {
   "cell_type": "code",
   "execution_count": null,
   "metadata": {
    "tags": []
   },
   "outputs": [],
   "source": [
    "from sklearn.preprocessing import RobustScaler\n",
    "\n",
    "scaler = RobustScaler()    # create an object of class\n",
    "\n",
    "scaler_FEATURE = list(set(X_train.columns) - set(FEATURE))\n",
    "scaler.fit(X_train[scaler_FEATURE])       #  fit on training i/p data\n",
    "\n",
    "X_train[scaler_FEATURE] = scaler.transform(X_train[scaler_FEATURE])    # transform model on both traing and testing data\n",
    "x_test[scaler_FEATURE] = scaler.transform(x_test[scaler_FEATURE])"
   ]
  },
  {
   "cell_type": "code",
   "execution_count": null,
   "metadata": {
    "tags": []
   },
   "outputs": [],
   "source": [
    "import seaborn as sns\n",
    "from matplotlib import pyplot as plt\n",
    "\n",
    "plt.figure(figsize = (5, 5))\n",
    "clustermap = sns.clustermap(X_train.corr(), vmin = -1, vmax = 1, annot = True)"
   ]
  },
  {
   "cell_type": "code",
   "execution_count": null,
   "metadata": {
    "executionInfo": {
     "elapsed": 599,
     "status": "ok",
     "timestamp": 1682570806975,
     "user": {
      "displayName": "GyeongJun Byeon",
      "userId": "15563492176804444918"
     },
     "user_tz": -540
    },
    "id": "9hUpk3wQStaJ",
    "tags": []
   },
   "outputs": [],
   "source": [
    "from catboost import CatBoostRegressor \n",
    "\n",
    "model = CatBoostRegressor(random_seed = 113,\n",
    "                          l2_leaf_reg = 0.003426034644149707,\n",
    "                          max_bin = 358,\n",
    "                          subsample = 0.9974697184313627,\n",
    "                          learning_rate = 0.009464402227606937,\n",
    "                          max_depth = 11,\n",
    "                          min_data_in_leaf = 139,\n",
    "                          eval_metric = 'RMSE',\n",
    "                          iterations = 8694,\n",
    "                          task_type='GPU',\n",
    "                          bootstrap_type = 'Poisson',\n",
    "                          early_stopping_rounds = 100,\n",
    "                          verbose=500,\n",
    "                          devices = '0'\n",
    "                          )"
   ]
  },
  {
   "cell_type": "code",
   "execution_count": null,
   "metadata": {
    "tags": []
   },
   "outputs": [],
   "source": [
    "from imblearn.over_sampling import SMOTE\n",
    "from collections import Counter\n",
    "\n",
    "from sklearn.model_selection import KFold, StratifiedKFold\n",
    "\n",
    "k = 20 # a number of folds \n",
    "skfold = StratifiedKFold(n_splits=k, shuffle=True, random_state=113)\n",
    "from sklearn.model_selection import GridSearchCV\n",
    "from sklearn.metrics import mean_squared_error\n",
    "from sklearn.metrics import make_scorer\n",
    "from sklearn.metrics import r2_score\n",
    "from catboost import Pool\n",
    "\n",
    "y_valid_pred = 0*y_train\n",
    "y_test_pred = 0\n",
    "\n",
    "FEATURE = ['User-ID', 'Book-Title','Book-Author','Publisher', 'City','State','Country','Age_gb', 'Pub_gb', 'Language']#, 'Topic_num']\n",
    "\n",
    "for i, (train_index, test_index) in enumerate(skfold.split(X_train, y_train)):    \n",
    "    X_train_fold, X_valid_fold = X_train.iloc[train_index], X_train.iloc[test_index]\n",
    "    y_train_fold, y_valid_fold = y_train.iloc[train_index], y_train.iloc[test_index]\n",
    "\n",
    "    X_train_fold[FEATURE] = X_train_fold[FEATURE].astype('int')\n",
    "    X_valid_fold[FEATURE] = X_valid_fold[FEATURE].astype('int')\n",
    "    # OVER SAMPLING - SMOTE\n",
    "    #smote_sample = SMOTE(random_state=113, sampling_strategy='minority') \n",
    "    #X_train_fold, y_train_fold = smote_sample.fit_resample(X_train_fold, y_train_fold)\n",
    "    #X_valid_fold, y_valid_fold = smote_sample.fit_resample(X_valid_fold, y_valid_fold)\n",
    "    \n",
    "    train_pool = Pool(data=X_train_fold, label=y_train_fold, cat_features=FEATURE)\n",
    "    valid_pool = Pool(data=X_valid_fold, label=y_valid_fold, cat_features=FEATURE)\n",
    "\n",
    "    \n",
    "    print( \"\\nFold \", i)\n",
    "    \n",
    "    fit_model = model.fit(train_pool, \n",
    "                          eval_set=valid_pool,\n",
    "                          use_best_model=True\n",
    "                          )\n",
    "    print( \"  N trees = \", model.tree_count_ )\n",
    "        \n",
    "\n",
    "    def score_model(model,X_train, X_test, y_train, y_test,\n",
    "               show_plot=True):   \n",
    "        y_pred = np.clip(model.predict(X_test),0,10)\n",
    "        print(f\"Test score: {r2_score(y_test, y_pred)}\")\n",
    "        print(\"MSE: \", mean_squared_error(y_test, y_pred))\n",
    "        print(\"RMSE: \", np.sqrt(mean_squared_error(y_test, y_pred)))\n",
    "    \n",
    "        predictions_comparision = pd.DataFrame({'Actual': y_test.tolist(), 'Predicted': y_pred.tolist()}).sample(25)\n",
    "        if show_plot == True:\n",
    "            predictions_comparision.plot(kind=\"bar\", figsize=(12,8),title=\"Actual vs predicted values\")\n",
    "            print(predictions_comparision.sample(10))    \n",
    "    \n",
    "    \n",
    "        return {\n",
    "            \"test_score_r2\" : r2_score(y_test, y_pred),\n",
    "            \"test_score_mse\" : mean_squared_error(y_test, y_pred),\n",
    "            \"test_score_rmse\" : np.sqrt(mean_squared_error(y_test, y_pred))\n",
    "            }\n",
    "    score_model(fit_model, X_train_fold, X_valid_fold, y_train_fold, y_valid_fold, show_plot=True)\n",
    "    \n",
    "    x_test[FEATURE] = x_test[FEATURE].astype('int')\n",
    "    # Predict value Clipping\n",
    "    y_test_pred +=  np.clip(fit_model.predict(x_test[X_valid_fold.columns]),0.0,10.0)\n",
    "    \n",
    "y_test_pred /= k  # Average test set predictions\n"
   ]
  },
  {
   "cell_type": "code",
   "execution_count": null,
   "metadata": {
    "tags": []
   },
   "outputs": [],
   "source": [
    "cat_importance_feature = np.argsort(model.feature_importances_)[:-31:-1]\n",
    "plt.barh(train_lb.columns[cat_importance_feature], model.feature_importances_[cat_importance_feature])\n",
    "plt.show()\n"
   ]
  },
  {
   "cell_type": "code",
   "execution_count": null,
   "metadata": {
    "id": "xhCYKygYm7lo",
    "tags": []
   },
   "outputs": [],
   "source": [
    "sub = pd.DataFrame()\n",
    "sub['ID'] = test['ID']\n",
    "sub['Book-Rating'] = y_test_pred\n",
    "sub"
   ]
  },
  {
   "cell_type": "code",
   "execution_count": null,
   "metadata": {
    "id": "InB0B26sp9q0",
    "tags": []
   },
   "outputs": [],
   "source": [
    "import seaborn as sns\n",
    "sns.histplot(sub['Book-Rating'])"
   ]
  },
  {
   "cell_type": "code",
   "execution_count": null,
   "metadata": {
    "executionInfo": {
     "elapsed": 6,
     "status": "aborted",
     "timestamp": 1682573178995,
     "user": {
      "displayName": "GyeongJun Byeon",
      "userId": "15563492176804444918"
     },
     "user_tz": -540
    },
    "id": "BI7B_YUjy4sD"
   },
   "outputs": [],
   "source": [
    "sub.to_csv('submit_cat+20-folds_Languege.csv', index=False,encoding=\"utf-8-sig\")"
   ]
  },
  {
   "cell_type": "code",
   "execution_count": null,
   "metadata": {},
   "outputs": [],
   "source": []
  }
 ],
 "metadata": {
  "accelerator": "GPU",
  "colab": {
   "provenance": [
    {
     "file_id": "1SmKK39lZcy99cyIifPSkPsA96eYAFKQo",
     "timestamp": 1682568385116
    }
   ]
  },
  "gpuClass": "standard",
  "kernelspec": {
   "display_name": "Python 3 (ipykernel)",
   "language": "python",
   "name": "python3"
  },
  "language_info": {
   "codemirror_mode": {
    "name": "ipython",
    "version": 3
   },
   "file_extension": ".py",
   "mimetype": "text/x-python",
   "name": "python",
   "nbconvert_exporter": "python",
   "pygments_lexer": "ipython3",
   "version": "3.10.10"
  }
 },
 "nbformat": 4,
 "nbformat_minor": 4
}
