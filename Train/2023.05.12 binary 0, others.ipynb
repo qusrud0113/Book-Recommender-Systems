{
 "cells": [
  {
   "cell_type": "code",
   "execution_count": 1,
   "id": "e6c58332-02a4-44de-97e1-86047deaa7f6",
   "metadata": {
    "tags": []
   },
   "outputs": [],
   "source": [
    "import pandas as pd"
   ]
  },
  {
   "cell_type": "code",
   "execution_count": 2,
   "id": "ff54b133-f44c-4e11-8c51-36351c9ef000",
   "metadata": {
    "tags": []
   },
   "outputs": [],
   "source": [
    "import numpy as np\n",
    "import random\n",
    "import os\n",
    "import gc\n",
    "from tqdm import tqdm"
   ]
  },
  {
   "cell_type": "code",
   "execution_count": 3,
   "id": "73275cca-0660-4dcd-a452-d1fb04560dcd",
   "metadata": {
    "tags": []
   },
   "outputs": [],
   "source": [
    "def seed_everything(seed):\n",
    "    random.seed(seed)\n",
    "    os.environ['PYTHONHASHSEED'] = str(seed)\n",
    "    np.random.seed(seed)\n",
    "seed_everything(113) # Seed 고정"
   ]
  },
  {
   "cell_type": "code",
   "execution_count": 4,
   "id": "c2336ab9-5007-4833-8104-3b013901f2d4",
   "metadata": {
    "tags": []
   },
   "outputs": [],
   "source": [
    "train = pd.read_csv('train.csv')\n",
    "test = pd.read_csv( 'test.csv')\n",
    "sample_submission = pd.read_csv('sample_submission.csv', index_col = 0)"
   ]
  },
  {
   "cell_type": "code",
   "execution_count": 17,
   "id": "6f9c0cb2-8df6-43cf-9a70-9abf6729fc2c",
   "metadata": {
    "tags": []
   },
   "outputs": [
    {
     "data": {
      "text/plain": [
       "2         USER_00000\n",
       "9         USER_00001\n",
       "11        USER_00002\n",
       "17        USER_00003\n",
       "38        USER_00004\n",
       "             ...    \n",
       "870959    USER_92093\n",
       "871388    USER_92096\n",
       "871389    USER_92097\n",
       "871390    USER_92098\n",
       "871392    USER_92100\n",
       "Name: User-ID, Length: 47472, dtype: object"
      ]
     },
     "execution_count": 17,
     "metadata": {},
     "output_type": "execute_result"
    }
   ],
   "source": [
    "zero_user = train[train['Book-Rating'] == 0][['User-ID', 'Book-Rating']].drop_duplicates()['User-ID']\n",
    "zero_user"
   ]
  },
  {
   "cell_type": "code",
   "execution_count": 25,
   "id": "2f91d690-bb9e-4fd5-8b48-7ed2744e7b1d",
   "metadata": {
    "tags": []
   },
   "outputs": [],
   "source": [
    "def feature_engineering(df):\n",
    "    df['Location'] = [re.sub(r'[^0-9a-zA-Z:,]',  ' ',str(i)) for i in df['Location']]\n",
    "    \n",
    "    df['City'] = [(i.split(',')[0]).lstrip().lower() for i in df['Location']]\n",
    "    df['State'] = [(i.split(',')[1]).lstrip().lower() for i in df['Location']]\n",
    "    df['Country'] = [(i.split(',')[2]).lstrip().lower() for i in df['Location']]\n",
    "\n",
    "    labels = ['0-3','3-6','6-8','8-12','12-18','18-25','25-34','35-44','45-54','55-64','65-74','75+']\n",
    "    bins = [0, 3, 6, 8, 12, 18, 25, 34, 44, 54, 64, 74, 250]\n",
    "    \n",
    "    # Age 이상치 처리\n",
    "    df['Age'] = df['Age'].apply(lambda x: 3 if x<3 else x)\n",
    "    df['Age'] = df['Age'].apply(lambda x: 100 if x>100 else x)\n",
    "\n",
    "    #df.loc[(df['Age'] > 90) | (df['Age'] < 3), 'Age'] = np.nan\n",
    "    \n",
    "    # 평균값으로 대체\n",
    "    #df['Age'] = df['Age'].fillna(df['Age'].mean())\n",
    "    #df['Age'] = df['Age'].astype(np.int32)\n",
    "\n",
    "    \n",
    "    df['Age_gb'] = pd.cut(df.Age, bins, labels = labels,include_lowest = True)\n",
    "    \n",
    "    # 평점이 0인 유저와 0이 아닌 유저 분류\n",
    "    zero_user = train[train['Book-Rating'] == 0][['User-ID', 'Book-Rating']].drop_duplicates()['User-ID']\n",
    "    df['Rating_gb'] = np.where(df['User-ID'].isin(zero_user), 0, 1)\n",
    "    \n",
    "    return df\n",
    "def columns_create():    \n",
    "    global train_lb, test_lb\n",
    "    # User-ID기준 Rating count & check\n",
    "    count_columns = []\n",
    "    check_columns = []\n",
    "    for i in range(11):\n",
    "        train_lb[f\"count_{i}\"] = train_lb[train_lb['Book-Rating'] == i].groupby(['User-ID'])['Book-Rating'].transform('count')\n",
    "        train_lb[f\"count_{i}\"] = train_lb[f\"count_{i}\"].fillna(0)\n",
    "    \n",
    "        train_lb[f\"check_{i}\"] = np.where(train_lb[f\"count_{i}\"] > 0, 1, 0)        \n",
    "        count_columns.append(f\"count_{i}\")\n",
    "        check_columns.append(f\"check_{i}\")   \n",
    "    create_columns = count_columns + check_columns\n",
    "    for i in range(11):\n",
    "        train_lb[f\"count_{i}\"] = train_lb.groupby(['User-ID'])[f\"count_{i}\"].transform('max')\n",
    "        train_lb[f\"check_{i}\"] = train_lb.groupby(['User-ID'])[f\"check_{i}\"].transform('max')   \n",
    "    ct_ck_set = train_lb[['User-ID'] + create_columns].drop_duplicates()\n",
    "    test_lb = pd.merge(test_lb, ct_ck_set, on = 'User-ID', how = 'left')\n",
    "    test_lb[create_columns] = test_lb[create_columns].fillna(0)    \n"
   ]
  },
  {
   "cell_type": "code",
   "execution_count": 26,
   "id": "435a865d-810b-4cc7-bb96-83a33606c17f",
   "metadata": {
    "tags": []
   },
   "outputs": [],
   "source": [
    "import re \n",
    "def preprocessing_data(df):\n",
    "    \n",
    "    # preprocessing Location\n",
    "    # NaN, N/A, etc.. Change 'unknown'\n",
    "    # Only using Train Data\t#\n",
    "    \n",
    "    # 최빈값을 사용하기 위해 새로운 데이터 프레임 생성(pd.Series.mode를 이용하면 같은 count수의 값을 list로 묶어서 정확하지 않음)\n",
    "    new_state = train_lb.groupby(['City'])['State'].value_counts().to_frame().rename(columns = {'State' : 'count'}).reset_index()\n",
    "    new_state = new_state[(~new_state['City'].isna())&(~new_state['State'].isna())&(new_state['count']!=1)]\n",
    "    new_state = new_state.sort_values(by=['City', 'count'], ascending=[True, False]).drop_duplicates(subset='City', keep='first')\n",
    "    new_state = new_state.rename(columns = {'State' : 'N_State'}) \n",
    "    new_state = new_state.drop(columns = ['count'])\n",
    "    \n",
    "    new_country = train_lb.groupby(['State'])['Country'].value_counts().to_frame().rename(columns = {'Country' : 'count'}).reset_index()\n",
    "    new_country = new_country[(~new_country['State'].isna())&(~new_country['Country'].isna())&(new_country['count']!=1)]\n",
    "    new_country = new_country.sort_values(by=['State', 'count'], ascending=[True, False]).drop_duplicates(subset='State', keep='first')\n",
    "    new_country = new_country.rename(columns = {'Country' : 'N_Country'}) \n",
    "    new_country = new_country.drop(columns = ['count'])\n",
    "    \n",
    "    df = pd.merge(df, new_country, on = 'State', how = 'left')\n",
    "    df = pd.merge(df, new_state, on = 'City', how = 'left')\n",
    "    \n",
    "    df['Country'] = np.where((df['Country'] == '')|(df['Country'].astype(str) == 'nan'), df['N_Country'], df['Country'])\n",
    "    df['State'] = np.where((df['State'] == '')|(df['State'].astype(str) == 'nan'), df['N_State'], df['State'])\n",
    "    \n",
    "    # 채워지지 않은 값은 Unknown 처리\n",
    "    df[['Country', 'State', 'City']] = df[['Country', 'State', 'City']].fillna(value= 'Unknown')\n",
    "    df = df.drop(columns = ['N_Country', 'N_State'])\n",
    "    \n",
    "    return df\n",
    "    "
   ]
  },
  {
   "cell_type": "code",
   "execution_count": 30,
   "id": "d6093855-b175-45f6-9762-7f944b72c71f",
   "metadata": {
    "tags": []
   },
   "outputs": [],
   "source": [
    "from sklearn.preprocessing import OrdinalEncoder\n",
    "import warnings\n",
    "warnings.filterwarnings('ignore')\n",
    "\n",
    "FEATURE = ['User-ID','Book-Title','Book-Author','Publisher', 'City','State','Country','Age_gb']#, 'Pub_gb']#, 'Language'] ', \n",
    "\n",
    "train_lb = train.__deepcopy__() \n",
    "test_lb = test.__deepcopy__()\n",
    "\n",
    "\n",
    "train_lb = feature_engineering(train_lb)\n",
    "test_lb = feature_engineering(test_lb)\n",
    "\n",
    "train_lb = preprocessing_data(train_lb)\n",
    "test_lb = preprocessing_data(test_lb)\n",
    "\n",
    "train_lb = train_lb.drop(columns = ['Book-ID', 'Location'])\n",
    "test_lb = test_lb.drop(columns = ['Book-ID', 'Location'])\n",
    "\n",
    "train_lb[FEATURE] = train_lb[FEATURE].astype(str) \n",
    "test_lb[FEATURE] = test_lb[FEATURE].astype(str)\n",
    "\n",
    "for i in FEATURE:\n",
    "    # train에는 없고, test에는 있는 원소는 -2 처리\n",
    "    oe = OrdinalEncoder(handle_unknown='use_encoded_value',\n",
    "                         unknown_value=-2)\n",
    "    oe=oe.fit(train_lb[i].to_numpy().reshape(-1, 1))\n",
    "    train_lb[i] = oe.transform(train_lb[i].to_numpy().reshape(-1, 1))\n",
    "    test_lb[i] = oe.transform(test_lb[i].to_numpy().reshape(-1, 1))\n"
   ]
  },
  {
   "cell_type": "code",
   "execution_count": 31,
   "id": "d9cc7008-acc0-4b76-9717-bb9d6ec16a83",
   "metadata": {
    "tags": []
   },
   "outputs": [],
   "source": [
    "X_train = train_lb.drop(columns = ['ID' , 'Book-Rating'])\n",
    "y_train = train_lb['Book-Rating']\n",
    "x_test = test_lb.drop(columns = ['ID'])"
   ]
  },
  {
   "cell_type": "code",
   "execution_count": 32,
   "id": "b6e934cc-1165-4ef9-8063-a8ee3dad701d",
   "metadata": {
    "tags": []
   },
   "outputs": [
    {
     "data": {
      "text/plain": [
       "<Figure size 700x700 with 0 Axes>"
      ]
     },
     "metadata": {},
     "output_type": "display_data"
    },
    {
     "data": {
      "image/png": "[encoded data removed]",
      "text/plain": [
       "<Figure size 1000x1000 with 4 Axes>"
      ]
     },
     "metadata": {},
     "output_type": "display_data"
    }
   ],
   "source": [
    "import seaborn as sns\n",
    "from matplotlib import pyplot as plt\n",
    "\n",
    "plt.figure(figsize = (7, 7))\n",
    "clustermap = sns.clustermap(X_train.corr(), cmap = 'RdYlBu_r',vmin = -1, vmax = 1, annot = False)"
   ]
  },
  {
   "cell_type": "code",
   "execution_count": 33,
   "id": "1073c5ec-ce37-4c5e-a2f6-24165699e41f",
   "metadata": {
    "tags": []
   },
   "outputs": [],
   "source": [
    "from catboost import CatBoostRegressor, Pool\n",
    "model = CatBoostRegressor(random_seed = 113,\n",
    "                          l2_leaf_reg = 0.003426034644149707,\n",
    "                          max_bin = 358,\n",
    "                          subsample = 0.9974697184313627,\n",
    "                          learning_rate = 0.009464402227606937,\n",
    "                          max_depth = 11,\n",
    "                          min_data_in_leaf = 139,\n",
    "                          eval_metric = 'RMSE',\n",
    "                          iterations = 8694,\n",
    "                          task_type='GPU',\n",
    "                          bootstrap_type = 'Poisson',\n",
    "                          early_stopping_rounds = 100,\n",
    "                          verbose=500\n",
    "                          )"
   ]
  },
  {
   "cell_type": "code",
   "execution_count": null,
   "id": "259ed260-2d63-48cd-9386-0718fbb9d1a4",
   "metadata": {
    "tags": []
   },
   "outputs": [
    {
     "name": "stderr",
     "output_type": "stream",
     "text": [
      "0it [00:00, ?it/s]"
     ]
    },
    {
     "name": "stdout",
     "output_type": "stream",
     "text": [
      "\n",
      "Fold  0\n",
      "0:\tlearn: 3.8379443\ttest: 3.8377414\tbest: 3.8377414 (0)\ttotal: 90.9ms\tremaining: 13m 9s\n"
     ]
    }
   ],
   "source": [
    "from sklearn.model_selection import KFold, StratifiedKFold\n",
    "k = 20 # a number of folds best is 20\n",
    "skfold = StratifiedKFold(n_splits=k, shuffle=True, random_state=113)\n",
    "from sklearn.model_selection import GridSearchCV\n",
    "from sklearn.metrics import mean_squared_error\n",
    "from sklearn.metrics import make_scorer\n",
    "from sklearn.metrics import r2_score\n",
    "from catboost import Pool\n",
    "\n",
    "y_valid_pred = 0*y_train\n",
    "y_test_pred = 0\n",
    "\n",
    "FEATURE = ['User-ID','Book-Title','Book-Author','Publisher', 'City','State','Country','Age_gb', 'Rating_gb']# 'Pub_gb']\n",
    "\n",
    "for i, (train_index, test_index) in tqdm(enumerate(skfold.split(X_train, y_train))):    \n",
    "    X_train_fold, X_valid_fold = X_train.iloc[train_index], X_train.iloc[test_index]\n",
    "    y_train_fold, y_valid_fold = y_train.iloc[train_index], y_train.iloc[test_index]\n",
    "\n",
    "    X_train_fold[FEATURE] = X_train_fold[FEATURE].astype('int')\n",
    "    X_valid_fold[FEATURE] = X_valid_fold[FEATURE].astype('int')\n",
    "    \n",
    "    train_pool = Pool(data=X_train_fold, label=y_train_fold, cat_features=FEATURE)\n",
    "    valid_pool = Pool(data=X_valid_fold, label=y_valid_fold, cat_features=FEATURE)\n",
    "\n",
    "    \n",
    "    print( \"\\nFold \", i)\n",
    "    \n",
    "    fit_model = model.fit(train_pool, \n",
    "                          eval_set=valid_pool,\n",
    "                          use_best_model=True\n",
    "                          )\n",
    "    print( \"  N trees = \", model.tree_count_ )\n",
    "        \n",
    "\n",
    "    def score_model(model,X_train, X_test, y_train, y_test,\n",
    "               show_plot=True):   \n",
    "        y_pred = np.clip(model.predict(X_test),0,10)\n",
    "        print(f\"Test score: {r2_score(y_test, y_pred)}\")\n",
    "        print(\"MSE: \", mean_squared_error(y_test, y_pred))\n",
    "        print(\"RMSE: \", np.sqrt(mean_squared_error(y_test, y_pred)))\n",
    "    \n",
    "        predictions_comparision = pd.DataFrame({'Actual': y_test.tolist(), 'Predicted': y_pred.tolist()}).sample(25)\n",
    "        if show_plot == True:\n",
    "            predictions_comparision.plot(kind=\"bar\", figsize=(12,8),title=\"Actual vs predicted values\")\n",
    "            print(predictions_comparision.sample(10))    \n",
    "    \n",
    "    \n",
    "        return {\n",
    "            \"test_score_r2\" : r2_score(y_test, y_pred),\n",
    "            \"test_score_mse\" : mean_squared_error(y_test, y_pred),\n",
    "            \"test_score_rmse\" : np.sqrt(mean_squared_error(y_test, y_pred))\n",
    "            }\n",
    "    score_model(fit_model, X_train_fold, X_valid_fold, y_train_fold, y_valid_fold, show_plot=True)\n",
    "    \n",
    "    x_test[FEATURE] = x_test[FEATURE].astype('int')\n",
    "    # Predict value Clipping\n",
    "    y_test_pred +=  np.clip(fit_model.predict(x_test[X_valid_fold.columns]),0.0,10.0)\n",
    "    \n",
    "y_test_pred /= k  # Average test set predictions\n"
   ]
  },
  {
   "cell_type": "code",
   "execution_count": null,
   "id": "6209276b-bb2e-406d-bc24-1f49c6b1aa8b",
   "metadata": {
    "tags": []
   },
   "outputs": [],
   "source": [
    "cat_importance_feature = np.argsort(model.feature_importances_)[:-31:-1]\n",
    "plt.barh(X_train.columns[cat_importance_feature], model.feature_importances_[cat_importance_feature])\n",
    "plt.show()"
   ]
  },
  {
   "cell_type": "code",
   "execution_count": null,
   "id": "94e595ee-2651-4f7d-9252-63f744101037",
   "metadata": {
    "tags": []
   },
   "outputs": [],
   "source": [
    "sub = pd.DataFrame()\n",
    "sub['ID'] = test['ID']\n",
    "sub['Book-Rating'] = y_test_pred\n",
    "sub"
   ]
  },
  {
   "cell_type": "code",
   "execution_count": null,
   "id": "801e9527-df5d-4ac3-b403-c6b2da58d24e",
   "metadata": {
    "tags": []
   },
   "outputs": [],
   "source": [
    "import seaborn as sns\n",
    "sns.histplot(sub['Book-Rating'])"
   ]
  },
  {
   "cell_type": "code",
   "execution_count": null,
   "id": "58cf777a-e7b1-44ea-a030-0f65a15f2fed",
   "metadata": {
    "tags": []
   },
   "outputs": [],
   "source": [
    "sub.to_csv('submit_cat+20-folds+test1.csv', index=False,encoding=\"utf-8-sig\")"
   ]
  },
  {
   "cell_type": "code",
   "execution_count": null,
   "id": "4832b637-d1ef-4ecd-9abe-f09c2a1a4499",
   "metadata": {},
   "outputs": [],
   "source": []
  }
 ],
 "metadata": {
  "kernelspec": {
   "display_name": "Python 3 (ipykernel)",
   "language": "python",
   "name": "python3"
  },
  "language_info": {
   "codemirror_mode": {
    "name": "ipython",
    "version": 3
   },
   "file_extension": ".py",
   "mimetype": "text/x-python",
   "name": "python",
   "nbconvert_exporter": "python",
   "pygments_lexer": "ipython3",
   "version": "3.10.10"
  }
 },
 "nbformat": 4,
 "nbformat_minor": 5
}
